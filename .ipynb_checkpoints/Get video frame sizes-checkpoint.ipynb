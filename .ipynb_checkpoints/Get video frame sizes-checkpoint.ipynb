{
 "cells": [
  {
   "cell_type": "markdown",
   "metadata": {},
   "source": [
    "-get frame size of Kalmia videos from 2015\n",
    "\n",
    "-Callin Switzer\n",
    "\n",
    "16 Nov 2016\n"
   ]
  },
  {
   "cell_type": "code",
   "execution_count": 1,
   "metadata": {
    "collapsed": false
   },
   "outputs": [
    {
     "name": "stderr",
     "output_type": "stream",
     "text": [
      "/Users/callinswitzer/anaconda/lib/python2.7/site-packages/matplotlib/font_manager.py:273: UserWarning: Matplotlib is building the font cache using fc-list. This may take a moment.\n",
      "  warnings.warn('Matplotlib is building the font cache using fc-list. This may take a moment.')\n"
     ]
    }
   ],
   "source": [
    "import matplotlib\n",
    "matplotlib.use(\"TkAgg\") # have to use this for tkinter to  work below\n",
    "from matplotlib import pyplot as plt\n",
    "%matplotlib tk\n",
    "\n",
    "import pandas as pd\n",
    "import cv2\n",
    "import numpy as np\n",
    "import skimage\n",
    "from skimage import io"
   ]
  },
  {
   "cell_type": "code",
   "execution_count": 2,
   "metadata": {
    "collapsed": true
   },
   "outputs": [],
   "source": [
    "metaData = pd.read_csv(\"/Users/callinswitzer/Dropbox/ExperSummer2015/LaurelsOnly.csv\")"
   ]
  },
  {
   "cell_type": "code",
   "execution_count": 3,
   "metadata": {
    "collapsed": false
   },
   "outputs": [
    {
     "data": {
      "text/html": [
       "<div>\n",
       "<table border=\"1\" class=\"dataframe\">\n",
       "  <thead>\n",
       "    <tr style=\"text-align: right;\">\n",
       "      <th></th>\n",
       "      <th>TimeInNotebook</th>\n",
       "      <th>VideoName</th>\n",
       "      <th>VidPath</th>\n",
       "      <th>digitizer</th>\n",
       "      <th>CalSizeMM</th>\n",
       "      <th>AccessionNumber</th>\n",
       "      <th>plant</th>\n",
       "      <th>FlowerNumber</th>\n",
       "      <th>AntherNumber</th>\n",
       "      <th>BetweenOrOnPetal</th>\n",
       "      <th>digitizedFile</th>\n",
       "      <th>digitizingNotes</th>\n",
       "    </tr>\n",
       "  </thead>\n",
       "  <tbody>\n",
       "    <tr>\n",
       "      <th>0</th>\n",
       "      <td>135144.0</td>\n",
       "      <td>20150608_135154.avi</td>\n",
       "      <td>/Volumes/GMD/June8ArbVids</td>\n",
       "      <td>Justin</td>\n",
       "      <td>1</td>\n",
       "      <td>NaN</td>\n",
       "      <td>Num3FromJune8 - Laurel</td>\n",
       "      <td>1</td>\n",
       "      <td>1</td>\n",
       "      <td>NaN</td>\n",
       "      <td>20150608_135154xypts.csv</td>\n",
       "      <td>PIN DIAMETER IS 1MM</td>\n",
       "    </tr>\n",
       "    <tr>\n",
       "      <th>1</th>\n",
       "      <td>135719.0</td>\n",
       "      <td>20150608_135726.avi</td>\n",
       "      <td>/Volumes/GMD/June8ArbVids</td>\n",
       "      <td>Justin</td>\n",
       "      <td>1</td>\n",
       "      <td>NaN</td>\n",
       "      <td>Num3FromJune8 - Laurel</td>\n",
       "      <td>1</td>\n",
       "      <td>2</td>\n",
       "      <td>NaN</td>\n",
       "      <td>NaN</td>\n",
       "      <td>still needs to be digitized</td>\n",
       "    </tr>\n",
       "    <tr>\n",
       "      <th>2</th>\n",
       "      <td>140725.0</td>\n",
       "      <td>20150608_140825.avi</td>\n",
       "      <td>/Volumes/GMD/June8ArbVids</td>\n",
       "      <td>Callin</td>\n",
       "      <td>1</td>\n",
       "      <td>NaN</td>\n",
       "      <td>Num1FromJune8-Laurel</td>\n",
       "      <td>1</td>\n",
       "      <td>1</td>\n",
       "      <td>NaN</td>\n",
       "      <td>20150608_140825xypts.csv</td>\n",
       "      <td>NaN</td>\n",
       "    </tr>\n",
       "    <tr>\n",
       "      <th>3</th>\n",
       "      <td>142121.0</td>\n",
       "      <td>20150608_142121.avi</td>\n",
       "      <td>/Volumes/GMD/June8ArbVids</td>\n",
       "      <td>Justin</td>\n",
       "      <td>1</td>\n",
       "      <td>NaN</td>\n",
       "      <td>Num1FromJune8-Laurel</td>\n",
       "      <td>1</td>\n",
       "      <td>2</td>\n",
       "      <td>NaN</td>\n",
       "      <td>20150608_142121xypts.csv</td>\n",
       "      <td>NaN</td>\n",
       "    </tr>\n",
       "    <tr>\n",
       "      <th>4</th>\n",
       "      <td>143753.0</td>\n",
       "      <td>20150608_143846.avi</td>\n",
       "      <td>/Volumes/GMD/June8ArbVids</td>\n",
       "      <td>Callin</td>\n",
       "      <td>1</td>\n",
       "      <td>NaN</td>\n",
       "      <td>Num1FromJune8-Laurel</td>\n",
       "      <td>2</td>\n",
       "      <td>1</td>\n",
       "      <td>NaN</td>\n",
       "      <td>20150608_143846xypts.csv</td>\n",
       "      <td>NaN</td>\n",
       "    </tr>\n",
       "  </tbody>\n",
       "</table>\n",
       "</div>"
      ],
      "text/plain": [
       "   TimeInNotebook            VideoName                    VidPath digitizer  \\\n",
       "0        135144.0  20150608_135154.avi  /Volumes/GMD/June8ArbVids    Justin   \n",
       "1        135719.0  20150608_135726.avi  /Volumes/GMD/June8ArbVids    Justin   \n",
       "2        140725.0  20150608_140825.avi  /Volumes/GMD/June8ArbVids    Callin   \n",
       "3        142121.0  20150608_142121.avi  /Volumes/GMD/June8ArbVids    Justin   \n",
       "4        143753.0  20150608_143846.avi  /Volumes/GMD/June8ArbVids    Callin   \n",
       "\n",
       "   CalSizeMM  AccessionNumber                   plant  FlowerNumber  \\\n",
       "0          1              NaN  Num3FromJune8 - Laurel             1   \n",
       "1          1              NaN  Num3FromJune8 - Laurel             1   \n",
       "2          1              NaN    Num1FromJune8-Laurel             1   \n",
       "3          1              NaN    Num1FromJune8-Laurel             1   \n",
       "4          1              NaN    Num1FromJune8-Laurel             2   \n",
       "\n",
       "   AntherNumber BetweenOrOnPetal             digitizedFile  \\\n",
       "0             1              NaN  20150608_135154xypts.csv   \n",
       "1             2              NaN                       NaN   \n",
       "2             1              NaN  20150608_140825xypts.csv   \n",
       "3             2              NaN  20150608_142121xypts.csv   \n",
       "4             1              NaN  20150608_143846xypts.csv   \n",
       "\n",
       "               digitizingNotes  \n",
       "0          PIN DIAMETER IS 1MM  \n",
       "1  still needs to be digitized  \n",
       "2                          NaN  \n",
       "3                          NaN  \n",
       "4                          NaN  "
      ]
     },
     "execution_count": 3,
     "metadata": {},
     "output_type": "execute_result"
    }
   ],
   "source": [
    "metaData.head()"
   ]
  },
  {
   "cell_type": "code",
   "execution_count": null,
   "metadata": {
    "collapsed": true
   },
   "outputs": [],
   "source": [
    "% qtconsole"
   ]
  },
  {
   "cell_type": "code",
   "execution_count": 40,
   "metadata": {
    "collapsed": false
   },
   "outputs": [],
   "source": [
    "newDF = pd.DataFrame()\n",
    "\n",
    "for ii in range(len(metaData['VideoName'])):\n",
    "    # read in one frame of a video\n",
    "    aa = metaData['VidPath'][ii] + '/' + metaData['VideoName'][ii]\n",
    "    cap = cv2.VideoCapture(aa)\n",
    "    ret, frame = cap.read()\n",
    "    \n",
    "    # get height and width\n",
    "    height, width = frame.shape[0:2]\n",
    "    \n",
    "    # append to data frame\n",
    "    newDF = newDF.append([[height, width, metaData['VideoName'][ii] ]],ignore_index=True )"
   ]
  },
  {
   "cell_type": "code",
   "execution_count": 42,
   "metadata": {
    "collapsed": false
   },
   "outputs": [],
   "source": [
    "# save data frame\n",
    "newDF.columns =  ['height', 'width', 'VidName']\n",
    "newDF.to_csv(\"/Users/callinswitzer/Desktop/vidSizes.csv\", sep=',')\n",
    "\n",
    "# I copied thes sizes into the original LaurelsOnly.csv file\n"
   ]
  },
  {
   "cell_type": "code",
   "execution_count": null,
   "metadata": {
    "collapsed": true
   },
   "outputs": [],
   "source": []
  }
 ],
 "metadata": {
  "anaconda-cloud": {},
  "kernelspec": {
   "display_name": "Python [default]",
   "language": "python",
   "name": "python2"
  },
  "language_info": {
   "codemirror_mode": {
    "name": "ipython",
    "version": 2
   },
   "file_extension": ".py",
   "mimetype": "text/x-python",
   "name": "python",
   "nbconvert_exporter": "python",
   "pygments_lexer": "ipython2",
   "version": "2.7.9"
  }
 },
 "nbformat": 4,
 "nbformat_minor": 1
}
