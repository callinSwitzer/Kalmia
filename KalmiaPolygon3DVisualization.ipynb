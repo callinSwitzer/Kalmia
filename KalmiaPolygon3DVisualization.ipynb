{
 "cells": [
  {
   "cell_type": "markdown",
   "metadata": {},
   "source": [
    "### Callin Switzer\n",
    "\n",
    "2 Nov 2016\n",
    "\n",
    "-Read in all the Kalmia polygon images (from R KalmiaVisualizePolygons_V2.R)\n",
    "- Make sure to use Python [conda env:vis_env]\n",
    "\n",
    "-visualize in 3D\n",
    "\n",
    "-Resample all of the images\n",
    "\n",
    "-Stack resampled images (in 3D)\n",
    "\n",
    "-Visualize a heatmap\n",
    "\n",
    "-Save heatmap"
   ]
  },
  {
   "cell_type": "code",
   "execution_count": 13,
   "metadata": {
    "collapsed": true
   },
   "outputs": [],
   "source": [
    "import cv2"
   ]
  },
  {
   "cell_type": "code",
   "execution_count": 14,
   "metadata": {
    "collapsed": true
   },
   "outputs": [],
   "source": [
    "import numpy as np\n",
    "import matplotlib\n",
    "matplotlib.use(\"TkAgg\") # have to use this for tkinter to  work below\n",
    "from matplotlib import pyplot as plt\n",
    "%matplotlib tk"
   ]
  },
  {
   "cell_type": "code",
   "execution_count": 15,
   "metadata": {
    "collapsed": false
   },
   "outputs": [],
   "source": [
    "# scikit image\n",
    "import skimage\n",
    "from skimage import io"
   ]
  },
  {
   "cell_type": "code",
   "execution_count": 16,
   "metadata": {
    "collapsed": false
   },
   "outputs": [],
   "source": [
    "import os\n",
    "import pandas as pd\n",
    "import time"
   ]
  },
  {
   "cell_type": "code",
   "execution_count": 17,
   "metadata": {
    "collapsed": false
   },
   "outputs": [],
   "source": [
    "import scipy\n",
    "import scipy.ndimage\n",
    "\n",
    "from mpl_toolkits.mplot3d import Axes3D\n",
    "import sys"
   ]
  },
  {
   "cell_type": "code",
   "execution_count": 18,
   "metadata": {
    "collapsed": false
   },
   "outputs": [],
   "source": [
    "from mayavi import mlab\n",
    "from scipy import stats"
   ]
  },
  {
   "cell_type": "code",
   "execution_count": 19,
   "metadata": {
    "collapsed": true
   },
   "outputs": [],
   "source": [
    "% qtconsole"
   ]
  },
  {
   "cell_type": "markdown",
   "metadata": {},
   "source": [
    "May want to look at this: http://stackoverflow.com/questions/25286811/how-to-plot-a-3d-density-map-in-python-with-matplotlib"
   ]
  },
  {
   "cell_type": "code",
   "execution_count": null,
   "metadata": {
    "collapsed": true
   },
   "outputs": [],
   "source": [
    "# list files in directory"
   ]
  },
  {
   "cell_type": "code",
   "execution_count": 31,
   "metadata": {
    "collapsed": false
   },
   "outputs": [],
   "source": [
    "os.chdir(\"/Users/callinswitzer/Dropbox/ExperSummer2016/Kalmia/KalmiaExamples/KalmiaManualTrig_VidsToProcess\")"
   ]
  },
  {
   "cell_type": "code",
   "execution_count": 32,
   "metadata": {
    "collapsed": false
   },
   "outputs": [],
   "source": [
    "# list files in directory\n",
    "mypath = os.getcwd()\n",
    "onlyfiles = [f for f in os.listdir(mypath) if os.path.isfile(os.path.join(mypath, f))]\n",
    "photoList = [ x for x in onlyfiles if not x.startswith('.') and x.endswith('.png')]"
   ]
  },
  {
   "cell_type": "code",
   "execution_count": null,
   "metadata": {
    "collapsed": true
   },
   "outputs": [],
   "source": []
  },
  {
   "cell_type": "code",
   "execution_count": null,
   "metadata": {
    "collapsed": true
   },
   "outputs": [],
   "source": []
  },
  {
   "cell_type": "code",
   "execution_count": null,
   "metadata": {
    "collapsed": true
   },
   "outputs": [],
   "source": []
  },
  {
   "cell_type": "code",
   "execution_count": null,
   "metadata": {
    "collapsed": true
   },
   "outputs": [],
   "source": []
  },
  {
   "cell_type": "code",
   "execution_count": null,
   "metadata": {
    "collapsed": false
   },
   "outputs": [],
   "source": [
    "# read in image and resize\n",
    "kk = 1\n",
    "img = np.array(cv2.imread(photoList[kk], 0))\n",
    "\n",
    "newSideLen = 200\n",
    "\n",
    "r = float(newSideLen) / img.shape[1]\n",
    "dim = (int(newSideLen), int(img.shape[0] * r))\n",
    " \n",
    "# perform the actual resizing of the image and show it\n",
    "resized = cv2.resize(img, dim, interpolation = cv2.INTER_AREA)\n",
    "\n",
    "resized = np.array((resized < 255) * 1.0)\n",
    "\n",
    "# clear edges of resized image (grid from graph)\n",
    "resized[:, 0:newSideLen/20] = 0\n",
    "resized[newSideLen - newSideLen/20:newSideLen, :] = 0\n",
    "\n",
    "plt.close('all')\n",
    "io.imshow(resized)\n",
    "thismanager = plt.get_current_fig_manager()\n",
    "thismanager.window.wm_geometry(\"-1-1\")\n",
    "\n",
    "\n"
   ]
  },
  {
   "cell_type": "code",
   "execution_count": null,
   "metadata": {
    "collapsed": false
   },
   "outputs": [],
   "source": [
    "plt.imshow(resized)"
   ]
  },
  {
   "cell_type": "code",
   "execution_count": null,
   "metadata": {
    "collapsed": false
   },
   "outputs": [],
   "source": [
    "# make empty np array\n",
    "# for future reference, these are stacked wrong\n",
    "\n",
    "# rotate image for visualization with numpy\n",
    "resized_flip = np.rot90(resized, 3)\n",
    "stackedArr = np.ones(shape=(np.repeat(newSideLen, [3]))) * 0.0\n",
    "\n",
    "midpt = stackedArr.shape[1]/2\n",
    "\n",
    "stackedArr[midpt,:,:] = stackedArr[midpt,:,:] + resized_flip\n",
    "\n",
    "stackedArr[:, midpt, :] = stackedArr[:, midpt, :] + resized_flip\n",
    "\n",
    "# get size\n",
    "sys.getsizeof(stackedArr)/1000/1000 # in MB\n"
   ]
  },
  {
   "cell_type": "code",
   "execution_count": null,
   "metadata": {
    "collapsed": false
   },
   "outputs": [],
   "source": [
    "x,y,z = stackedArr.nonzero()"
   ]
  },
  {
   "cell_type": "code",
   "execution_count": null,
   "metadata": {
    "collapsed": false
   },
   "outputs": [],
   "source": [
    "#plt.close('all')\n",
    "plt.clf()\n",
    "fig = plt.figure(1)\n",
    "ax = fig.add_subplot(111, projection='3d')\n",
    "ax.scatter(x, y, z, zdir='z', c = stackedArr[x,y,z], \n",
    "           cmap = 'Greys', edgecolor = 'none', marker = 's')\n",
    "#plt.savefig(\"demo.png\")"
   ]
  },
  {
   "cell_type": "code",
   "execution_count": null,
   "metadata": {
    "collapsed": true
   },
   "outputs": [],
   "source": [
    "plt.close('all')\n",
    "mlab.close(all = True)"
   ]
  },
  {
   "cell_type": "code",
   "execution_count": null,
   "metadata": {
    "collapsed": false
   },
   "outputs": [],
   "source": [
    "# visualize with MayaVi points in 3d\n",
    "x,y,z = stackedArr.nonzero()\n",
    "xyz = np.vstack([x, y, z,])\n",
    "kde = stats.gaussian_kde(xyz)\n",
    "density = kde(xyz)\n",
    "\n",
    "# Plot scatter with mayavi\n",
    "figure = mlab.figure('DensityPlot')\n",
    "pts = mlab.points3d(x, y, z, stackedArr[x,y,z], colormap = 'hot', \n",
    "                    scale_mode='none', scale_factor=1, opacity = 0.2)\n",
    "mlab.axes()\n",
    "mlab.show()"
   ]
  },
  {
   "cell_type": "code",
   "execution_count": null,
   "metadata": {
    "collapsed": false
   },
   "outputs": [],
   "source": [
    "# visualize density with MayaVi\n",
    "density = stackedArr\n",
    "grid = mlab.pipeline.scalar_field(density)\n",
    "min1 = density.min()\n",
    "max1=density.max()\n",
    "mlab.pipeline.volume(grid, vmin=min1, vmax=min1 + .5*(max1-min1))\n",
    "\n",
    "mlab.axes()\n",
    "mlab.show()"
   ]
  },
  {
   "cell_type": "code",
   "execution_count": null,
   "metadata": {
    "collapsed": true
   },
   "outputs": [],
   "source": []
  },
  {
   "cell_type": "code",
   "execution_count": null,
   "metadata": {
    "collapsed": true
   },
   "outputs": [],
   "source": []
  },
  {
   "cell_type": "code",
   "execution_count": null,
   "metadata": {
    "collapsed": true
   },
   "outputs": [],
   "source": []
  },
  {
   "cell_type": "code",
   "execution_count": null,
   "metadata": {
    "collapsed": true
   },
   "outputs": [],
   "source": []
  },
  {
   "cell_type": "code",
   "execution_count": null,
   "metadata": {
    "collapsed": true
   },
   "outputs": [],
   "source": []
  },
  {
   "cell_type": "markdown",
   "metadata": {},
   "source": [
    "# Rotate image"
   ]
  },
  {
   "cell_type": "code",
   "execution_count": null,
   "metadata": {
    "collapsed": false
   },
   "outputs": [],
   "source": [
    "plt.clf()\n",
    "io.imshow(resized)"
   ]
  },
  {
   "cell_type": "code",
   "execution_count": null,
   "metadata": {
    "collapsed": false
   },
   "outputs": [],
   "source": [
    "# rotate image with opencv\n",
    "w = resized.shape[0]\n",
    "h = resized.shape[1]\n",
    "M = cv2.getRotationMatrix2D((newSideLen/2,newSideLen/2), 36, 1.0)\n",
    "rotated = cv2.warpAffine(resized, M, (w, h))\n",
    "io.imshow(rotated < .4)\n"
   ]
  },
  {
   "cell_type": "code",
   "execution_count": null,
   "metadata": {
    "collapsed": false
   },
   "outputs": [],
   "source": [
    "# rotate with scipy\n",
    "plt.clf()\n",
    "i2 = scipy.ndimage.interpolation.rotate(np.array(resized), 36, axes=(1,0))\n",
    "io.imshow(i2)"
   ]
  },
  {
   "cell_type": "code",
   "execution_count": null,
   "metadata": {
    "collapsed": true
   },
   "outputs": [],
   "source": [
    "stackedRot = np.ones(shape=(np.repeat(newSideLen, [3]))) * 0.0\n",
    "stackedRot[midpt,:,:] = stackedRot[midpt,:,:] + resized_flip"
   ]
  },
  {
   "cell_type": "code",
   "execution_count": null,
   "metadata": {
    "collapsed": false
   },
   "outputs": [],
   "source": [
    "# visualize\n",
    "mlab.contour3d(stackedRot)"
   ]
  },
  {
   "cell_type": "code",
   "execution_count": null,
   "metadata": {
    "collapsed": false
   },
   "outputs": [],
   "source": [
    "mlab.clf()\n",
    "#pixels (should be an even number to make it symmetrical)\n",
    "\n",
    "pollWidth = newSideLen / 100 / 2\n",
    "\n",
    "stackedRot = np.ones(shape=(np.repeat(newSideLen, [3]))) * 0.0\n",
    "stackedRot[midpt-pollWidth:midpt + pollWidth,:,:] = stackedRot[midpt-pollWidth:midpt + pollWidth,:,:] + resized_flip\n",
    "\n",
    "\n",
    "\n",
    "# pretty fast\n",
    "w,h = stackedRot.shape[:2]\n",
    "M = cv2.getRotationMatrix2D((newSideLen/2,newSideLen/2), 36, 1.0)\n",
    "rotated = cv2.warpAffine(resized, M, (w, h))\n",
    "\n",
    "\n",
    "for ii in range(newSideLen):\n",
    "    stackedRot[:,:,ii] = ((cv2.warpAffine(stackedRot[:,:,ii], M, (w, h)) +\n",
    "                          stackedRot[:,:,ii]) < 1 ) * 1\n",
    "    \n",
    "mlab.contour3d(stackedRot)\n",
    "    "
   ]
  },
  {
   "cell_type": "code",
   "execution_count": null,
   "metadata": {
    "collapsed": false
   },
   "outputs": [],
   "source": [
    "stackedRot = np.ones(shape=(np.repeat(newSideLen, [3]))) * 0.0\n",
    "stackedRot[midpt-pollWidth:midpt + pollWidth,:,:] = stackedRot[midpt-pollWidth:midpt + pollWidth,:,:] + resized_flip\n",
    "\n",
    "\n",
    "stackedRot_fin = np.ones(shape=(np.repeat(newSideLen, [3]))) * 0.0\n",
    "\n",
    "# do for all 10\n",
    "for kk in range(10):\n",
    "    M = cv2.getRotationMatrix2D((newSideLen/2,newSideLen/2), 36*kk, 1.0)\n",
    "\n",
    "    for ii in range(newSideLen):\n",
    "        stackedRot_fin[:,:,ii] = ((cv2.warpAffine(stackedRot[:,:,ii], M, (w, h)) > 0.3) * 1 +\n",
    "                              stackedRot_fin[:,:,ii])\n",
    "\n",
    "        \n"
   ]
  },
  {
   "cell_type": "code",
   "execution_count": null,
   "metadata": {
    "collapsed": true
   },
   "outputs": [],
   "source": [
    "# slice in z-direction\n",
    "io.imshow(stackedRot_fin[:,:,newSideLen / 2])"
   ]
  },
  {
   "cell_type": "code",
   "execution_count": null,
   "metadata": {
    "collapsed": false
   },
   "outputs": [],
   "source": [
    "mlab.clf()\n",
    "plt.close('all')\n",
    "mlab.contour3d(stackedRot_fin, contours = 10)"
   ]
  },
  {
   "cell_type": "code",
   "execution_count": null,
   "metadata": {
    "collapsed": true
   },
   "outputs": [],
   "source": [
    "# final density visualization\n",
    "mlab.clf()\n",
    "density = stackedRot_fin\n",
    "grid = mlab.pipeline.scalar_field(density)\n",
    "min1 = density.min()\n",
    "max1=density.max()\n",
    "mlab.pipeline.volume(grid, vmin=min1, vmax=min1 + .5*(max1-min1))\n",
    "\n",
    "mlab.axes()\n",
    "mlab.show()"
   ]
  },
  {
   "cell_type": "code",
   "execution_count": null,
   "metadata": {
    "collapsed": true
   },
   "outputs": [],
   "source": [
    "# visualize with points\n",
    "# visualize with MayaVi points in 3d\n",
    "x,y,z = stackedRot_fin.nonzero()\n",
    "\n",
    "# Plot scatter with mayavi\n",
    "figure = mlab.figure('DensityPlot')\n",
    "pts = mlab.points3d(x, y, z, stackedRot_fin[x,y,z], colormap = 'hot', \n",
    "                    scale_mode='none', scale_factor=1.5, opacity = 0.02)\n",
    "mlab.axes()\n",
    "mlab.show()"
   ]
  },
  {
   "cell_type": "code",
   "execution_count": null,
   "metadata": {
    "collapsed": false
   },
   "outputs": [],
   "source": [
    "io.imshow(resized)\n",
    "intPoints = np.array([[768, 1694],[1000, 1694],[1231, 1694]]) / 10\n",
    "plt.scatter(intPoints[:, 0], intPoints[:,1])"
   ]
  },
  {
   "cell_type": "code",
   "execution_count": null,
   "metadata": {
    "collapsed": true
   },
   "outputs": [],
   "source": []
  },
  {
   "cell_type": "code",
   "execution_count": null,
   "metadata": {
    "collapsed": true
   },
   "outputs": [],
   "source": []
  },
  {
   "cell_type": "code",
   "execution_count": null,
   "metadata": {
    "collapsed": true
   },
   "outputs": [],
   "source": []
  },
  {
   "cell_type": "code",
   "execution_count": null,
   "metadata": {
    "collapsed": true
   },
   "outputs": [],
   "source": []
  },
  {
   "cell_type": "markdown",
   "metadata": {},
   "source": [
    "# Resampling and replotting"
   ]
  },
  {
   "cell_type": "code",
   "execution_count": 33,
   "metadata": {
    "collapsed": false
   },
   "outputs": [],
   "source": [
    "# read in all images in direcory, resize, and make a big numpy array\n",
    "# read in image and resize\n",
    "\n",
    "newSideLen = 200\n",
    "img = np.array(cv2.imread(photoList[1], 0))\n",
    "r = float(newSideLen) / img.shape[1]\n",
    "dim = (int(newSideLen), int(img.shape[0] * r))\n",
    "\n",
    "stackedImgs = np.ones((newSideLen, newSideLen, len(photoList)))\n",
    "\n",
    "\n",
    "for hh in range(len(photoList)):\n",
    "    img = np.array(cv2.imread(photoList[hh], 0)) # read in image black and white\n",
    "\n",
    "    # perform the resizing\n",
    "    resized = cv2.resize(img, dim, interpolation = cv2.INTER_AREA)\n",
    "\n",
    "    # convert to binary\n",
    "    resized = np.array((resized < 255) * 1.0)\n",
    "\n",
    "    # clear edges of resized image (grid from graph)\n",
    "    resized[:, 0:newSideLen/20] = 0\n",
    "    resized[newSideLen - newSideLen/20:newSideLen, :] = 0\n",
    "    \n",
    "    # add to stacked array\n",
    "    stackedImgs[:,:,hh] = resized"
   ]
  },
  {
   "cell_type": "code",
   "execution_count": 34,
   "metadata": {
    "collapsed": false
   },
   "outputs": [],
   "source": [
    "def resampRotate(stackedImgs):\n",
    "    '''\n",
    "    Resample all the images (same number of photos that I took)\n",
    "    Randomly rotate images in 1/10 of 360 degree increments\n",
    "    Put into 3D space\n",
    "    '''\n",
    "    \n",
    "    # prepare to resample resized images\n",
    "    pollWidth = newSideLen / 100 / 2\n",
    "    midpt = newSideLen / 2\n",
    "\n",
    "    # make temporary array\n",
    "    stackedRot = np.ones(shape=(np.repeat(newSideLen, [3]))) * 0.0\n",
    "    w,h = stackedRot.shape[:2]\n",
    "\n",
    "\n",
    "    # make final array\n",
    "    stackedRot_fin = np.ones(shape=(np.repeat(newSideLen, [3]))) * 0.0\n",
    "    \n",
    "    \n",
    "    # resample all images\n",
    "    photoSamp = np.random.choice(range(len(photoList)), size = len(photoList), replace = True)\n",
    "    # resample rotation angles\n",
    "    angles = np.random.choice(range(10), len(photoList), True)\n",
    "\n",
    "\n",
    "    for kk in photoSamp:\n",
    "\n",
    "        # get image to rotate\n",
    "        resized = stackedImgs[:,:,kk]\n",
    "        resized_flip = np.rot90(resized, 3)\n",
    "\n",
    "        # get rotatation matrix\n",
    "        M = cv2.getRotationMatrix2D((newSideLen/2,newSideLen/2), 36*angles[kk], 1.0)\n",
    "\n",
    "        # reset blank 3D array\n",
    "        stackedRot = stackedRot * 0.0\n",
    "\n",
    "        # get image to rotate into 3D space\n",
    "        stackedRot[midpt-pollWidth:midpt + pollWidth,:,:] = stackedRot[midpt-pollWidth:midpt + pollWidth,:,:] + resized_flip\n",
    "\n",
    "        # rotate image in 3D, by doing one level at a time\n",
    "        for ii in range(newSideLen):\n",
    "            stackedRot_fin[:,:,ii] = ((cv2.warpAffine(stackedRot[:,:,ii], M, (w, h)) > 0.3) * 1 +\n",
    "                                  stackedRot_fin[:,:,ii])\n",
    "        \n",
    "    return stackedRot_fin"
   ]
  },
  {
   "cell_type": "code",
   "execution_count": 52,
   "metadata": {
    "collapsed": false
   },
   "outputs": [
    {
     "name": "stdout",
     "output_type": "stream",
     "text": [
      "17.0\n"
     ]
    }
   ],
   "source": [
    "finArry = resampRotate(stackedImgs=stackedImgs)\n",
    "# mlab.clf()\n",
    "# mlab.contour3d(finArry, contours = 10)\n",
    "print np.max(finArry)"
   ]
  },
  {
   "cell_type": "code",
   "execution_count": 95,
   "metadata": {
    "collapsed": false
   },
   "outputs": [
    {
     "data": {
      "text/plain": [
       "29.0"
      ]
     },
     "execution_count": 95,
     "metadata": {},
     "output_type": "execute_result"
    }
   ],
   "source": [
    "stackedExample  = np.array([stackedImgs[:,:,1] for ii in range(stackedImgs.shape[2]) ])\n",
    "np.max(stackedExample.sum(axis = 0)) # example for \"theoretical maximum\""
   ]
  },
  {
   "cell_type": "code",
   "execution_count": null,
   "metadata": {
    "collapsed": false
   },
   "outputs": [],
   "source": [
    "# repeat the resampling method multiple times\n",
    "\n",
    "res_fin = np.ones(shape=(np.repeat(newSideLen, [3]))) * 0.0\n",
    "\n",
    "stt = time.time()\n",
    "for ii in range(500):\n",
    "    tmp = resampRotate(stackedImgs)\n",
    "    res_fin = res_fin + tmp\n",
    "    print ii, time.time() - stt # takes about 8 seconds each"
   ]
  },
  {
   "cell_type": "code",
   "execution_count": null,
   "metadata": {
    "collapsed": false
   },
   "outputs": [],
   "source": [
    "# save numpy array, so I don't have to keep running the simulation\n",
    "outfile = '/Users/callinswitzer/Desktop/array5.npy'\n",
    "np.save(outfile, res_fin)"
   ]
  },
  {
   "cell_type": "markdown",
   "metadata": {},
   "source": [
    "# start here, if not conducting the simulations"
   ]
  },
  {
   "cell_type": "code",
   "execution_count": 47,
   "metadata": {
    "collapsed": true
   },
   "outputs": [],
   "source": [
    "# load np array\n",
    "res_fin = np.load('/Users/callinswitzer/Dropbox/ExperSummer2016/Kalmia/array5.npy')\n",
    "intPoints = np.array([[768, 1694],[1000, 1694],[1231, 1694]]) / 10\n",
    "density = res_fin / (29 * 500) # dividing array by max possible value (29 videos, 500 resamples)"
   ]
  },
  {
   "cell_type": "code",
   "execution_count": null,
   "metadata": {
    "collapsed": true
   },
   "outputs": [],
   "source": [
    "#### mlab.close(all = True)\n",
    "mlab.figure(size = (1024,768),\n",
    "            bgcolor = (1,1,1), fgcolor = (0.5, 0.5, 0.5))\n",
    "mlab.contour3d(res_fin, contours= 30)\n",
    "\n",
    "intPoints = np.array([[768, 1694],[1000, 1694],[1231, 1694]]) / 10\n",
    "# mlab.points3d([100, 100, 100], intPoints[:,0], 200 - intPoints[:,1], colormap = 'hot', \n",
    "#                     scale_mode='none', scale_factor=5, opacity = 1)"
   ]
  },
  {
   "cell_type": "code",
   "execution_count": null,
   "metadata": {
    "collapsed": false
   },
   "outputs": [],
   "source": [
    "mlab.close(all = True)\n",
    "mlab.figure(size = (1024,768),\n",
    "            bgcolor = (1,1,1), fgcolor = (0.5, 0.5, 0.5))\n",
    "\n",
    "# density = res_fin / np.max(res_fin)\n",
    "grid = mlab.pipeline.scalar_field(density)\n",
    "min1 = density.min()\n",
    "max1=density.max()\n",
    "mlab.pipeline.volume(grid, vmin=min1, vmax=min1 + .5*(max1-min1))\n",
    "intPoints = (np.array([[768, 1694],[1000, 1694],[1231, 1694]]) / 10) + 0.5\n",
    "mlab.points3d([100, 100, 100], intPoints[:,0], 200 - intPoints[:,1], colormap = 'hot', \n",
    "                    scale_mode='none', scale_factor=5, opacity = 1)\n",
    "\n",
    "mlab.axes(extent = [25, 175, 25, 175, 15, 175])\n",
    "#mlab.show()"
   ]
  },
  {
   "cell_type": "code",
   "execution_count": null,
   "metadata": {
    "collapsed": false
   },
   "outputs": [],
   "source": [
    "mlab.figure(size = (1024,768),\n",
    "            bgcolor = (1,1,1), fgcolor = (0.5, 0.5, 0.5))\n",
    "\n",
    "density = res_fin / np.max(res_fin)\n",
    "grid = mlab.pipeline.scalar_field(density)\n",
    "min1 = density.min()\n",
    "max1=density.max()\n",
    "mlab.pipeline.volume(grid, vmin=min1, vmax=min1 + .5*(max1-min1))\n",
    "intPoints = (np.array([[768, 1694],[1000, 1694],[1231, 1694]]) / 10) + 0.5\n",
    "mlab.points3d([100, 100, 100], intPoints[:,0], 200 - intPoints[:,1], colormap = 'cool', \n",
    "                    scale_mode='none', scale_factor=5, opacity = 1)\n",
    "\n",
    "mlab.axes(extent = [25, 175, 25, 175, 15, 175])\n",
    "#mlab.show()"
   ]
  },
  {
   "cell_type": "code",
   "execution_count": null,
   "metadata": {
    "collapsed": false
   },
   "outputs": [],
   "source": [
    "# visualize with points\n",
    "# visualize with MayaVi points in 3d\n",
    "x,y,z = res_fin.nonzero()\n",
    "\n",
    "# Plot scatter with mayavi\n",
    "figure = mlab.figure('DensityPlot')\n",
    "pts = mlab.points3d(x, y, z, res_fin[x,y,z], colormap = 'hot', \n",
    "                    scale_mode='none', scale_factor=1.5, opacity = 0.02)\n",
    "mlab.axes()\n",
    "mlab.show()"
   ]
  },
  {
   "cell_type": "code",
   "execution_count": 49,
   "metadata": {
    "collapsed": false
   },
   "outputs": [
    {
     "data": {
      "text/plain": [
       "<mayavi.modules.glyph.Glyph at 0x124970290>"
      ]
     },
     "execution_count": 49,
     "metadata": {},
     "output_type": "execute_result"
    }
   ],
   "source": [
    "# this way is great!\n",
    "\n",
    "mlab.close(all = True)\n",
    "# density = res_fin / np.max(res_fin)\n",
    "\n",
    "fig = mlab.figure(size = (1024,768),\n",
    "            bgcolor = (1,1,1), fgcolor = (0.5, 0.5, 0.5))\n",
    "mlab.contour3d(density, contours= 50, opacity = 0.1, colormap = 'hot')\n",
    "#mlab.axes(extent = [25, 175, 25, 175, 15, 175], y_axis_visibility = False)\n",
    "mlab.orientation_axes()\n",
    "mlab.points3d([101, 101, 101], intPoints[:,0] + 1, 200 - intPoints[:,1], colormap = 'hot', \n",
    "                    scale_mode='none', scale_factor=2, opacity = 1)"
   ]
  },
  {
   "cell_type": "code",
   "execution_count": null,
   "metadata": {
    "collapsed": false
   },
   "outputs": [],
   "source": [
    "# this way is great!\n",
    "\n",
    "mlab.close(all = True)\n",
    "\n",
    "\n",
    "fig = mlab.figure(size = (1024,768),\n",
    "            bgcolor = (1,1,1), fgcolor = (0.5, 0.5, 0.5))\n",
    "mlab.contour3d(density, contours= 50, opacity = 0.2, colormap = \"jet\")\n",
    "#mlab.axes(extent = [25, 175, 25, 175, 15, 175], y_axis_visibility = False)\n",
    "mlab.orientation_axes()\n",
    "mlab.points3d([101, 101, 101], intPoints[:,0] + 1, 200 - intPoints[:,1], colormap = 'hot', \n",
    "                    scale_mode='none', scale_factor=2, opacity = 1)"
   ]
  },
  {
   "cell_type": "code",
   "execution_count": null,
   "metadata": {
    "collapsed": true
   },
   "outputs": [],
   "source": []
  },
  {
   "cell_type": "code",
   "execution_count": 61,
   "metadata": {
    "collapsed": false
   },
   "outputs": [
    {
     "name": "stdout",
     "output_type": "stream",
     "text": [
      "0\n",
      "1\n",
      "2\n",
      "3\n",
      "4\n",
      "5\n",
      "6\n",
      "7\n",
      "8\n",
      "9\n",
      "10\n",
      "11\n",
      "12\n",
      "13\n",
      "14\n",
      "15\n",
      "16\n",
      "17\n",
      "18\n",
      "19\n",
      "20\n",
      "21\n",
      "22\n",
      "23\n",
      "24\n",
      "25\n",
      "26\n",
      "27\n",
      "28\n",
      "29\n",
      "30\n",
      "31\n",
      "32\n",
      "33\n",
      "34\n",
      "35\n",
      "36\n",
      "37\n",
      "38\n",
      "39\n"
     ]
    }
   ],
   "source": [
    "# Visualize with slice cut into array -- make into a movie\n",
    "newSideLen = 200\n",
    "os.chdir('/Users/callinswitzer/Dropbox/ExperSummer2016/Kalmia/KalmiaProject/KalmMovie3')\n",
    "\n",
    "for ctr in range(40):\n",
    "    \n",
    "    mlab.close(all = True)\n",
    "    density = res_fin / (29 * 500)\n",
    "    # density[:, 102:newSideLen, (5 * ctr):newSideLen] = 0\n",
    "    density[(5 * ctr):newSideLen, 102:newSideLen, :] = 0\n",
    "\n",
    "    fig = mlab.figure(size = (1024,768),\n",
    "                bgcolor = (1,1,1), fgcolor = (0.5, 0.5, 0.5))\n",
    "    #mlab.contour3d(density, contours= [0.001, 0.05, 0.2, 0.5], opacity = 0.2, colormap = \"jet\")\n",
    "    mlab.contour3d(density, contours= 50, opacity = 0.2, colormap = \"hot\")\n",
    "    #mlab.axes(extent = [25, 175, 25, 175, 15, 175], y_axis_visibility = False)\n",
    "    mlab.orientation_axes()\n",
    "    colorbar = mlab.colorbar(orientation = 'vertical', label_fmt = '%.1f')\n",
    "    colorbar.scalar_bar_representation.position = [0.8, 0.2]\n",
    "    colorbar.scalar_bar_representation.position2 = [0.05, 0.6]\n",
    "#     mlab.points3d([101, 101, 101], intPoints[:,0] + 1, 200 - intPoints[:,1], colormap = 'hot', \n",
    "#                         scale_mode='none', scale_factor=2, opacity = 1)\n",
    "\n",
    "    mlab.savefig(str(ctr + 41).zfill(3) + '.png', size = (1024, 1024))\n",
    "    print ctr"
   ]
  },
  {
   "cell_type": "code",
   "execution_count": 59,
   "metadata": {
    "collapsed": false
   },
   "outputs": [
    {
     "name": "stdout",
     "output_type": "stream",
     "text": [
      "0\n",
      "1\n",
      "2\n",
      "3\n",
      "4\n",
      "5\n",
      "6\n",
      "7\n",
      "8\n",
      "9\n",
      "10\n",
      "11\n",
      "12\n",
      "13\n",
      "14\n",
      "15\n",
      "16\n",
      "17\n",
      "18\n",
      "19\n",
      "20\n",
      "21\n",
      "22\n",
      "23\n",
      "24\n",
      "25\n",
      "26\n",
      "27\n",
      "28\n",
      "29\n",
      "30\n",
      "31\n",
      "32\n",
      "33\n",
      "34\n",
      "35\n",
      "36\n",
      "37\n",
      "38\n",
      "39\n"
     ]
    }
   ],
   "source": [
    "# Visualize with slice cut into array -- make into a movie\n",
    "newSideLen = 200\n",
    "os.chdir('/Users/callinswitzer/Dropbox/ExperSummer2016/Kalmia/KalmiaProject/KalmMovie3')\n",
    "\n",
    "for ctr in range(40):\n",
    "    \n",
    "    mlab.close(all = True)\n",
    "    density = res_fin / (29 * 500)\n",
    "    density[:, 102:newSideLen, (5 * ctr):newSideLen] = 0\n",
    "    #density[(5 * ctr):newSideLen, 102:newSideLen, :] = 0\n",
    "\n",
    "    fig = mlab.figure(size = (1024,768),\n",
    "                bgcolor = (1,1,1), fgcolor = (0.5, 0.5, 0.5))\n",
    "    #mlab.contour3d(density, contours= [0.001, 0.05, 0.2, 0.5], opacity = 0.2, colormap = \"jet\")\n",
    "    mlab.contour3d(density, contours= 50, opacity = 0.2, colormap = \"hot\")\n",
    "    #mlab.axes(extent = [25, 175, 25, 175, 15, 175], y_axis_visibility = False)\n",
    "    mlab.orientation_axes()\n",
    "    colorbar = mlab.colorbar(orientation = 'vertical', label_fmt = '%.1f')\n",
    "    colorbar.scalar_bar_representation.position = [0.8, 0.2]\n",
    "    colorbar.scalar_bar_representation.position2 = [0.05, 0.6]\n",
    "#     mlab.points3d([101, 101, 101], intPoints[:,0] + 1, 200 - intPoints[:,1], colormap = 'hot', \n",
    "#                         scale_mode='none', scale_factor=2, opacity = 1)\n",
    "\n",
    "    mlab.savefig(str(ctr).zfill(3) + '.png', size = (1024, 1024))\n",
    "    print ctr"
   ]
  },
  {
   "cell_type": "code",
   "execution_count": 60,
   "metadata": {
    "collapsed": false
   },
   "outputs": [
    {
     "name": "stdout",
     "output_type": "stream",
     "text": [
      "0\n",
      "1\n",
      "2\n",
      "3\n",
      "4\n",
      "5\n",
      "6\n",
      "7\n",
      "8\n",
      "9\n",
      "10\n",
      "11\n",
      "12\n",
      "13\n",
      "14\n",
      "15\n",
      "16\n",
      "17\n",
      "18\n",
      "19\n",
      "20\n",
      "21\n",
      "22\n",
      "23\n",
      "24\n",
      "25\n",
      "26\n",
      "27\n",
      "28\n",
      "29\n",
      "30\n",
      "31\n",
      "32\n",
      "33\n",
      "34\n",
      "35\n",
      "36\n",
      "37\n",
      "38\n",
      "39\n"
     ]
    }
   ],
   "source": [
    "# Visualize with slice cut into array -- make into a movie\n",
    "newSideLen = 200\n",
    "os.chdir('/Users/callinswitzer/Dropbox/ExperSummer2016/Kalmia/KalmiaProject/KalmMovie3')\n",
    "\n",
    "# redo 101\n",
    "for ctr in range(40):\n",
    "    \n",
    "    mlab.close(all = True)\n",
    "    density = res_fin / (29 * 500)\n",
    "    #density[:, 102:newSideLen, (5 * ctr):newSideLen] = 0\n",
    "    #density[(5 * ctr):newSideLen, 102:newSideLen, :] = 0\n",
    "    density[:, :, (5 * ctr):newSideLen] = 0\n",
    "\n",
    "    fig = mlab.figure(size = (1024,768),\n",
    "                bgcolor = (1,1,1), fgcolor = (0.5, 0.5, 0.5))\n",
    "    #mlab.contour3d(density, contours= [0.001, 0.05, 0.2, 0.5], opacity = 0.2, colormap = \"jet\")\n",
    "    mlab.contour3d(density, contours= 50, opacity = 0.2, colormap = \"hot\")\n",
    "    #mlab.axes(extent = [25, 175, 25, 175, 15, 175], y_axis_visibility = False)\n",
    "    mlab.orientation_axes()\n",
    "    colorbar = mlab.colorbar(orientation = 'vertical', label_fmt = '%.1f')\n",
    "    colorbar.scalar_bar_representation.position = [0.8, 0.2]\n",
    "    colorbar.scalar_bar_representation.position2 = [0.05, 0.6]\n",
    "#     mlab.points3d([101, 101, 101], intPoints[:,0] + 1, 200 - intPoints[:,1], colormap = 'hot', \n",
    "#                         scale_mode='none', scale_factor=2, opacity = 1)\n",
    "\n",
    "    mlab.savefig(str(ctr + 80).zfill(3) + '.png', size = (1024, 1024))\n",
    "    print ctr"
   ]
  },
  {
   "cell_type": "code",
   "execution_count": null,
   "metadata": {
    "collapsed": false
   },
   "outputs": [],
   "source": [
    "plt.clf()\n",
    "plt.hist(np.ndarray.flatten(density), bins = 200)\n",
    "plt.xlim((0.01, 1))\n",
    "plt.ylim((0, 10000))"
   ]
  },
  {
   "cell_type": "code",
   "execution_count": 62,
   "metadata": {
    "collapsed": true
   },
   "outputs": [],
   "source": [
    "\n",
    "mypath = os.getcwd()\n",
    "onlyfiles = [f for f in os.listdir(mypath) if os.path.isfile(os.path.join(mypath, f))]\n",
    "photoList = [ x for x in onlyfiles if not x.startswith('.') and x.endswith('.png')]"
   ]
  },
  {
   "cell_type": "code",
   "execution_count": 63,
   "metadata": {
    "collapsed": false
   },
   "outputs": [
    {
     "data": {
      "text/plain": [
       "['000.png',\n",
       " '001.png',\n",
       " '002.png',\n",
       " '003.png',\n",
       " '004.png',\n",
       " '005.png',\n",
       " '006.png',\n",
       " '007.png',\n",
       " '008.png',\n",
       " '009.png',\n",
       " '010.png',\n",
       " '011.png',\n",
       " '012.png',\n",
       " '013.png',\n",
       " '014.png',\n",
       " '015.png',\n",
       " '016.png',\n",
       " '017.png',\n",
       " '018.png',\n",
       " '019.png',\n",
       " '020.png',\n",
       " '021.png',\n",
       " '022.png',\n",
       " '023.png',\n",
       " '024.png',\n",
       " '025.png',\n",
       " '026.png',\n",
       " '027.png',\n",
       " '028.png',\n",
       " '029.png',\n",
       " '030.png',\n",
       " '031.png',\n",
       " '032.png',\n",
       " '033.png',\n",
       " '034.png',\n",
       " '035.png',\n",
       " '036.png',\n",
       " '037.png',\n",
       " '038.png',\n",
       " '039.png',\n",
       " '041.png',\n",
       " '042.png',\n",
       " '043.png',\n",
       " '044.png',\n",
       " '045.png',\n",
       " '046.png',\n",
       " '047.png',\n",
       " '048.png',\n",
       " '049.png',\n",
       " '050.png',\n",
       " '051.png',\n",
       " '052.png',\n",
       " '053.png',\n",
       " '054.png',\n",
       " '055.png',\n",
       " '056.png',\n",
       " '057.png',\n",
       " '058.png',\n",
       " '059.png',\n",
       " '060.png',\n",
       " '061.png',\n",
       " '062.png',\n",
       " '063.png',\n",
       " '064.png',\n",
       " '065.png',\n",
       " '066.png',\n",
       " '067.png',\n",
       " '068.png',\n",
       " '069.png',\n",
       " '070.png',\n",
       " '071.png',\n",
       " '072.png',\n",
       " '073.png',\n",
       " '074.png',\n",
       " '075.png',\n",
       " '076.png',\n",
       " '077.png',\n",
       " '078.png',\n",
       " '079.png',\n",
       " '080.png',\n",
       " '081.png',\n",
       " '082.png',\n",
       " '083.png',\n",
       " '084.png',\n",
       " '085.png',\n",
       " '086.png',\n",
       " '087.png',\n",
       " '088.png',\n",
       " '089.png',\n",
       " '090.png',\n",
       " '091.png',\n",
       " '092.png',\n",
       " '093.png',\n",
       " '094.png',\n",
       " '095.png',\n",
       " '096.png',\n",
       " '097.png',\n",
       " '098.png',\n",
       " '099.png',\n",
       " '100.png',\n",
       " '101.png',\n",
       " '102.png',\n",
       " '103.png',\n",
       " '104.png',\n",
       " '105.png',\n",
       " '106.png',\n",
       " '107.png',\n",
       " '108.png',\n",
       " '109.png',\n",
       " '110.png',\n",
       " '111.png',\n",
       " '112.png',\n",
       " '113.png',\n",
       " '114.png',\n",
       " '115.png',\n",
       " '116.png',\n",
       " '117.png',\n",
       " '118.png',\n",
       " '119.png']"
      ]
     },
     "execution_count": 63,
     "metadata": {},
     "output_type": "execute_result"
    }
   ],
   "source": [
    "photoList"
   ]
  },
  {
   "cell_type": "code",
   "execution_count": 67,
   "metadata": {
    "collapsed": false
   },
   "outputs": [],
   "source": [
    "newNames = [str(xx).zfill(3) + '.png' for xx in range(len(photoList))]"
   ]
  },
  {
   "cell_type": "code",
   "execution_count": 68,
   "metadata": {
    "collapsed": false
   },
   "outputs": [],
   "source": [
    "ff = [os.rename(photoList[ii], newNames[ii]) for ii in range(len(photoList))]"
   ]
  },
  {
   "cell_type": "code",
   "execution_count": 64,
   "metadata": {
    "collapsed": false
   },
   "outputs": [
    {
     "name": "stdout",
     "output_type": "stream",
     "text": [
      "ffmpeg version 3.1.4 Copyright (c) 2000-2016 the FFmpeg developers\n",
      "  built with Apple LLVM version 8.0.0 (clang-800.0.38)\n",
      "  configuration: --prefix=/usr/local/Cellar/ffmpeg/3.1.4 --enable-shared --enable-pthreads --enable-gpl --enable-version3 --enable-hardcoded-tables --enable-avresample --cc=clang --host-cflags= --host-ldflags= --enable-opencl --enable-libx264 --enable-libmp3lame --enable-libxvid --disable-lzma --enable-vda\n",
      "  libavutil      55. 28.100 / 55. 28.100\n",
      "  libavcodec     57. 48.101 / 57. 48.101\n",
      "  libavformat    57. 41.100 / 57. 41.100\n",
      "  libavdevice    57.  0.101 / 57.  0.101\n",
      "  libavfilter     6. 47.100 /  6. 47.100\n",
      "  libavresample   3.  0.  0 /  3.  0.  0\n",
      "  libswscale      4.  1.100 /  4.  1.100\n",
      "  libswresample   2.  1.100 /  2.  1.100\n",
      "  libpostproc    54.  0.100 / 54.  0.100\n",
      "Input #0, image2, from '%03d.png':\n",
      "  Duration: 00:00:13.33, start: 0.000000, bitrate: N/A\n",
      "    Stream #0:0: Video: png, rgb24(pc), 1024x1024, 3 fps, 3 tbr, 3 tbn, 3 tbc\n",
      "\u001b[1;36m[libx264 @ 0x7fddf2801200] \u001b[0musing cpu capabilities: MMX2 SSE2Fast SSSE3 SSE4.2 AVX FMA3 AVX2 LZCNT BMI2\n",
      "\u001b[1;36m[libx264 @ 0x7fddf2801200] \u001b[0mprofile High, level 3.2\n",
      "\u001b[1;36m[libx264 @ 0x7fddf2801200] \u001b[0m264 - core 148 r2699 a5e06b9 - H.264/MPEG-4 AVC codec - Copyleft 2003-2016 - http://www.videolan.org/x264.html - options: cabac=1 ref=3 deblock=1:0:0 analyse=0x3:0x113 me=hex subme=7 psy=1 psy_rd=1.00:0.00 mixed_ref=1 me_range=16 chroma_me=1 trellis=1 8x8dct=1 cqm=0 deadzone=21,11 fast_pskip=1 chroma_qp_offset=-2 threads=12 lookahead_threads=2 sliced_threads=0 nr=0 decimate=1 interlaced=0 bluray_compat=0 constrained_intra=0 bframes=3 b_pyramid=2 b_adapt=1 b_bias=0 direct=1 weightb=1 open_gop=0 weightp=2 keyint=250 keyint_min=25 scenecut=40 intra_refresh=0 rc_lookahead=40 rc=crf mbtree=1 crf=23.0 qcomp=0.60 qpmin=0 qpmax=69 qpstep=4 ip_ratio=1.40 aq=1:1.00\n",
      "\u001b[1;35m[mp4 @ 0x7fddf2800000] \u001b[0m\u001b[0;33mUsing AVStream.codec to pass codec parameters to muxers is deprecated, use AVStream.codecpar instead.\n",
      "\u001b[0mOutput #0, mp4, to '3dVis2_WholeArea.mp4':\n",
      "  Metadata:\n",
      "    encoder         : Lavf57.41.100\n",
      "    Stream #0:0: Video: h264 (libx264) ([33][0][0][0] / 0x0021), yuv420p, 1024x1024, q=-1--1, 30 fps, 15360 tbn, 30 tbc\n",
      "    Metadata:\n",
      "      encoder         : Lavc57.48.101 libx264\n",
      "    Side data:\n",
      "      cpb: bitrate max/min/avg: 0/0/0 buffer size: 0 vbv_delay: -1\n",
      "Stream mapping:\n",
      "  Stream #0:0 -> #0:0 (png (native) -> h264 (libx264))\n",
      "Press [q] to stop, [?] for help\n",
      "frame=  400 fps=248 q=-1.0 Lsize=     560kB time=00:00:13.23 bitrate= 346.8kbits/s dup=360 drop=0 speed=8.22x    \n",
      "video:555kB audio:0kB subtitle:0kB other streams:0kB global headers:0kB muxing overhead: 0.989360%\n",
      "\u001b[1;36m[libx264 @ 0x7fddf2801200] \u001b[0mframe I:3     Avg QP:16.36  size: 37592\n",
      "\u001b[1;36m[libx264 @ 0x7fddf2801200] \u001b[0mframe P:101   Avg QP:16.83  size:  4193\n",
      "\u001b[1;36m[libx264 @ 0x7fddf2801200] \u001b[0mframe B:296   Avg QP:13.88  size:   105\n",
      "\u001b[1;36m[libx264 @ 0x7fddf2801200] \u001b[0mconsecutive B-frames:  1.2%  0.0%  0.8% 98.0%\n",
      "\u001b[1;36m[libx264 @ 0x7fddf2801200] \u001b[0mmb I  I16..4: 34.5% 48.8% 16.7%\n",
      "\u001b[1;36m[libx264 @ 0x7fddf2801200] \u001b[0mmb P  I16..4:  0.1%  0.9%  0.9%  P16..4:  2.5%  1.3%  1.2%  0.0%  0.0%    skip:93.1%\n",
      "\u001b[1;36m[libx264 @ 0x7fddf2801200] \u001b[0mmb B  I16..4:  0.0%  0.0%  0.0%  B16..8:  1.9%  0.0%  0.0%  direct: 0.0%  skip:98.1%  L0:60.1% L1:39.7% BI: 0.1%\n",
      "\u001b[1;36m[libx264 @ 0x7fddf2801200] \u001b[0m8x8 transform intra:47.4% inter:26.8%\n",
      "\u001b[1;36m[libx264 @ 0x7fddf2801200] \u001b[0mcoded y,uvDC,uvAC intra: 31.7% 34.8% 24.3% inter: 0.5% 0.2% 0.1%\n",
      "\u001b[1;36m[libx264 @ 0x7fddf2801200] \u001b[0mi16 v,h,dc,p: 88%  4%  6%  2%\n",
      "\u001b[1;36m[libx264 @ 0x7fddf2801200] \u001b[0mi8 v,h,dc,ddl,ddr,vr,hd,vl,hu: 44%  8% 35%  2%  2%  2%  2%  2%  2%\n",
      "\u001b[1;36m[libx264 @ 0x7fddf2801200] \u001b[0mi4 v,h,dc,ddl,ddr,vr,hd,vl,hu: 30% 17% 18%  6%  6%  6%  6%  6%  5%\n",
      "\u001b[1;36m[libx264 @ 0x7fddf2801200] \u001b[0mi8c dc,h,v,p: 71%  9% 13%  6%\n",
      "\u001b[1;36m[libx264 @ 0x7fddf2801200] \u001b[0mWeighted P-Frames: Y:0.0% UV:0.0%\n",
      "\u001b[1;36m[libx264 @ 0x7fddf2801200] \u001b[0mref P L0: 85.5%  7.4%  6.0%  1.0%\n",
      "\u001b[1;36m[libx264 @ 0x7fddf2801200] \u001b[0mref B L0: 73.7% 26.1%  0.2%\n",
      "\u001b[1;36m[libx264 @ 0x7fddf2801200] \u001b[0mref B L1: 99.4%  0.6%\n",
      "\u001b[1;36m[libx264 @ 0x7fddf2801200] \u001b[0mkb/s:340.41\n"
     ]
    }
   ],
   "source": [
    "!ffmpeg -framerate 3 -start_number 80 -i %03d.png -c:v libx264 -r 30 -pix_fmt yuv420p 3dVis2_WholeArea.mp4"
   ]
  },
  {
   "cell_type": "code",
   "execution_count": 69,
   "metadata": {
    "collapsed": false
   },
   "outputs": [
    {
     "name": "stdout",
     "output_type": "stream",
     "text": [
      "ffmpeg version 3.1.4 Copyright (c) 2000-2016 the FFmpeg developers\n",
      "  built with Apple LLVM version 8.0.0 (clang-800.0.38)\n",
      "  configuration: --prefix=/usr/local/Cellar/ffmpeg/3.1.4 --enable-shared --enable-pthreads --enable-gpl --enable-version3 --enable-hardcoded-tables --enable-avresample --cc=clang --host-cflags= --host-ldflags= --enable-opencl --enable-libx264 --enable-libmp3lame --enable-libxvid --disable-lzma --enable-vda\n",
      "  libavutil      55. 28.100 / 55. 28.100\n",
      "  libavcodec     57. 48.101 / 57. 48.101\n",
      "  libavformat    57. 41.100 / 57. 41.100\n",
      "  libavdevice    57.  0.101 / 57.  0.101\n",
      "  libavfilter     6. 47.100 /  6. 47.100\n",
      "  libavresample   3.  0.  0 /  3.  0.  0\n",
      "  libswscale      4.  1.100 /  4.  1.100\n",
      "  libswresample   2.  1.100 /  2.  1.100\n",
      "  libpostproc    54.  0.100 / 54.  0.100\n",
      "Input #0, image2, from '%03d.png':\n",
      "  Duration: 00:00:39.67, start: 0.000000, bitrate: N/A\n",
      "    Stream #0:0: Video: png, rgb24(pc), 1024x1024, 3 fps, 3 tbr, 3 tbn, 3 tbc\n",
      "\u001b[1;36m[libx264 @ 0x7f8514010c00] \u001b[0musing cpu capabilities: MMX2 SSE2Fast SSSE3 SSE4.2 AVX FMA3 AVX2 LZCNT BMI2\n",
      "\u001b[1;36m[libx264 @ 0x7f8514010c00] \u001b[0mprofile High, level 3.2\n",
      "\u001b[1;36m[libx264 @ 0x7f8514010c00] \u001b[0m264 - core 148 r2699 a5e06b9 - H.264/MPEG-4 AVC codec - Copyleft 2003-2016 - http://www.videolan.org/x264.html - options: cabac=1 ref=3 deblock=1:0:0 analyse=0x3:0x113 me=hex subme=7 psy=1 psy_rd=1.00:0.00 mixed_ref=1 me_range=16 chroma_me=1 trellis=1 8x8dct=1 cqm=0 deadzone=21,11 fast_pskip=1 chroma_qp_offset=-2 threads=12 lookahead_threads=2 sliced_threads=0 nr=0 decimate=1 interlaced=0 bluray_compat=0 constrained_intra=0 bframes=3 b_pyramid=2 b_adapt=1 b_bias=0 direct=1 weightb=1 open_gop=0 weightp=2 keyint=250 keyint_min=25 scenecut=40 intra_refresh=0 rc_lookahead=40 rc=crf mbtree=1 crf=23.0 qcomp=0.60 qpmin=0 qpmax=69 qpstep=4 ip_ratio=1.40 aq=1:1.00\n",
      "\u001b[1;35m[mp4 @ 0x7f8514801e00] \u001b[0m\u001b[0;33mUsing AVStream.codec to pass codec parameters to muxers is deprecated, use AVStream.codecpar instead.\n",
      "\u001b[0mOutput #0, mp4, to '3dVis2_Slow.mp4':\n",
      "  Metadata:\n",
      "    encoder         : Lavf57.41.100\n",
      "    Stream #0:0: Video: h264 (libx264) ([33][0][0][0] / 0x0021), yuv420p, 1024x1024, q=-1--1, 30 fps, 15360 tbn, 30 tbc\n",
      "    Metadata:\n",
      "      encoder         : Lavc57.48.101 libx264\n",
      "    Side data:\n",
      "      cpb: bitrate max/min/avg: 0/0/0 buffer size: 0 vbv_delay: -1\n",
      "Stream mapping:\n",
      "  Stream #0:0 -> #0:0 (png (native) -> h264 (libx264))\n",
      "Press [q] to stop, [?] for help\n",
      "frame= 1190 fps=269 q=-1.0 Lsize=    1490kB time=00:00:39.56 bitrate= 308.5kbits/s dup=1071 drop=0 speed=8.96x    \n",
      "video:1475kB audio:0kB subtitle:0kB other streams:0kB global headers:0kB muxing overhead: 0.999784%\n",
      "\u001b[1;36m[libx264 @ 0x7f8514010c00] \u001b[0mframe I:6     Avg QP:14.74  size: 45838\n",
      "\u001b[1;36m[libx264 @ 0x7f8514010c00] \u001b[0mframe P:300   Avg QP:17.37  size:  3778\n",
      "\u001b[1;36m[libx264 @ 0x7f8514010c00] \u001b[0mframe B:884   Avg QP:13.85  size:   115\n",
      "\u001b[1;36m[libx264 @ 0x7f8514010c00] \u001b[0mconsecutive B-frames:  0.9%  0.0%  0.3% 98.8%\n",
      "\u001b[1;36m[libx264 @ 0x7f8514010c00] \u001b[0mmb I  I16..4: 38.6% 42.9% 18.4%\n",
      "\u001b[1;36m[libx264 @ 0x7f8514010c00] \u001b[0mmb P  I16..4:  0.1%  0.4%  0.5%  P16..4:  3.0%  1.3%  1.4%  0.0%  0.0%    skip:93.3%\n",
      "\u001b[1;36m[libx264 @ 0x7f8514010c00] \u001b[0mmb B  I16..4:  0.0%  0.0%  0.0%  B16..8:  2.3%  0.0%  0.0%  direct: 0.0%  skip:97.7%  L0:61.7% L1:38.1% BI: 0.3%\n",
      "\u001b[1;36m[libx264 @ 0x7f8514010c00] \u001b[0m8x8 transform intra:42.6% inter:22.4%\n",
      "\u001b[1;36m[libx264 @ 0x7f8514010c00] \u001b[0mcoded y,uvDC,uvAC intra: 30.3% 33.2% 23.8% inter: 0.6% 0.2% 0.0%\n",
      "\u001b[1;36m[libx264 @ 0x7f8514010c00] \u001b[0mi16 v,h,dc,p: 90%  4%  5%  1%\n",
      "\u001b[1;36m[libx264 @ 0x7f8514010c00] \u001b[0mi8 v,h,dc,ddl,ddr,vr,hd,vl,hu: 45%  6% 38%  1%  2%  2%  2%  2%  2%\n",
      "\u001b[1;36m[libx264 @ 0x7f8514010c00] \u001b[0mi4 v,h,dc,ddl,ddr,vr,hd,vl,hu: 30% 16% 18%  6%  6%  7%  6%  6%  5%\n",
      "\u001b[1;36m[libx264 @ 0x7f8514010c00] \u001b[0mi8c dc,h,v,p: 73%  9% 13%  5%\n",
      "\u001b[1;36m[libx264 @ 0x7f8514010c00] \u001b[0mWeighted P-Frames: Y:0.0% UV:0.0%\n",
      "\u001b[1;36m[libx264 @ 0x7f8514010c00] \u001b[0mref P L0: 88.3%  6.2%  4.5%  1.0%\n",
      "\u001b[1;36m[libx264 @ 0x7f8514010c00] \u001b[0mref B L0: 74.4% 25.4%  0.1%\n",
      "\u001b[1;36m[libx264 @ 0x7f8514010c00] \u001b[0mref B L1: 99.6%  0.4%\n",
      "\u001b[1;36m[libx264 @ 0x7f8514010c00] \u001b[0mkb/s:304.55\n"
     ]
    }
   ],
   "source": [
    "\n",
    "!ffmpeg -framerate 3 -start_number 0 -i %03d.png -c:v libx264 -r 30 -pix_fmt yuv420p 3dVis2_Slow.mp4"
   ]
  },
  {
   "cell_type": "code",
   "execution_count": 73,
   "metadata": {
    "collapsed": false
   },
   "outputs": [
    {
     "name": "stdout",
     "output_type": "stream",
     "text": [
      "ffmpeg version 3.1.4 Copyright (c) 2000-2016 the FFmpeg developers\n",
      "  built with Apple LLVM version 8.0.0 (clang-800.0.38)\n",
      "  configuration: --prefix=/usr/local/Cellar/ffmpeg/3.1.4 --enable-shared --enable-pthreads --enable-gpl --enable-version3 --enable-hardcoded-tables --enable-avresample --cc=clang --host-cflags= --host-ldflags= --enable-opencl --enable-libx264 --enable-libmp3lame --enable-libxvid --disable-lzma --enable-vda\n",
      "  libavutil      55. 28.100 / 55. 28.100\n",
      "  libavcodec     57. 48.101 / 57. 48.101\n",
      "  libavformat    57. 41.100 / 57. 41.100\n",
      "  libavdevice    57.  0.101 / 57.  0.101\n",
      "  libavfilter     6. 47.100 /  6. 47.100\n",
      "  libavresample   3.  0.  0 /  3.  0.  0\n",
      "  libswscale      4.  1.100 /  4.  1.100\n",
      "  libswresample   2.  1.100 /  2.  1.100\n",
      "  libpostproc    54.  0.100 / 54.  0.100\n",
      "Input #0, image2, from '%03d.png':\n",
      "  Duration: 00:00:11.90, start: 0.000000, bitrate: N/A\n",
      "    Stream #0:0: Video: png, rgb24(pc), 1024x1024, 10 fps, 10 tbr, 10 tbn, 10 tbc\n",
      "\u001b[1;36m[libx264 @ 0x7f8e14001e00] \u001b[0musing cpu capabilities: MMX2 SSE2Fast SSSE3 SSE4.2 AVX FMA3 AVX2 LZCNT BMI2\n",
      "\u001b[1;36m[libx264 @ 0x7f8e14001e00] \u001b[0mprofile High, level 3.2\n",
      "\u001b[1;36m[libx264 @ 0x7f8e14001e00] \u001b[0m264 - core 148 r2699 a5e06b9 - H.264/MPEG-4 AVC codec - Copyleft 2003-2016 - http://www.videolan.org/x264.html - options: cabac=1 ref=3 deblock=1:0:0 analyse=0x3:0x113 me=hex subme=7 psy=1 psy_rd=1.00:0.00 mixed_ref=1 me_range=16 chroma_me=1 trellis=1 8x8dct=1 cqm=0 deadzone=21,11 fast_pskip=1 chroma_qp_offset=-2 threads=12 lookahead_threads=2 sliced_threads=0 nr=0 decimate=1 interlaced=0 bluray_compat=0 constrained_intra=0 bframes=3 b_pyramid=2 b_adapt=1 b_bias=0 direct=1 weightb=1 open_gop=0 weightp=2 keyint=250 keyint_min=25 scenecut=40 intra_refresh=0 rc_lookahead=40 rc=crf mbtree=1 crf=23.0 qcomp=0.60 qpmin=0 qpmax=69 qpstep=4 ip_ratio=1.40 aq=1:1.00\n",
      "\u001b[1;35m[mp4 @ 0x7f8e14000c00] \u001b[0m\u001b[0;33mUsing AVStream.codec to pass codec parameters to muxers is deprecated, use AVStream.codecpar instead.\n",
      "\u001b[0mOutput #0, mp4, to '3dVis2_Fast.mp4':\n",
      "  Metadata:\n",
      "    encoder         : Lavf57.41.100\n",
      "    Stream #0:0: Video: h264 (libx264) ([33][0][0][0] / 0x0021), yuv420p, 1024x1024, q=-1--1, 30 fps, 15360 tbn, 30 tbc\n",
      "    Metadata:\n",
      "      encoder         : Lavc57.48.101 libx264\n",
      "    Side data:\n",
      "      cpb: bitrate max/min/avg: 0/0/0 buffer size: 0 vbv_delay: -1\n",
      "Stream mapping:\n",
      "  Stream #0:0 -> #0:0 (png (native) -> h264 (libx264))\n",
      "Press [q] to stop, [?] for help\n",
      "frame=  357 fps=182 q=-1.0 Lsize=     786kB time=00:00:11.80 bitrate= 545.5kbits/s dup=238 drop=0 speed=   6x    \n",
      "video:781kB audio:0kB subtitle:0kB other streams:0kB global headers:0kB muxing overhead: 0.637374%\n",
      "\u001b[1;36m[libx264 @ 0x7f8e14001e00] \u001b[0mframe I:3     Avg QP:16.24  size: 33153\n",
      "\u001b[1;36m[libx264 @ 0x7f8e14001e00] \u001b[0mframe P:91    Avg QP:20.20  size:  6514\n",
      "\u001b[1;36m[libx264 @ 0x7f8e14001e00] \u001b[0mframe B:263   Avg QP:15.54  size:   405\n",
      "\u001b[1;36m[libx264 @ 0x7f8e14001e00] \u001b[0mconsecutive B-frames:  1.4%  0.6%  1.7% 96.4%\n",
      "\u001b[1;36m[libx264 @ 0x7f8e14001e00] \u001b[0mmb I  I16..4: 36.4% 47.4% 16.2%\n",
      "\u001b[1;36m[libx264 @ 0x7f8e14001e00] \u001b[0mmb P  I16..4:  0.2%  1.3%  1.2%  P16..4:  5.6%  2.8%  2.6%  0.0%  0.0%    skip:86.3%\n",
      "\u001b[1;36m[libx264 @ 0x7f8e14001e00] \u001b[0mmb B  I16..4:  0.1%  0.0%  0.0%  B16..8:  4.9%  0.2%  0.1%  direct: 0.0%  skip:94.7%  L0:51.1% L1:47.3% BI: 1.5%\n",
      "\u001b[1;36m[libx264 @ 0x7f8e14001e00] \u001b[0m8x8 transform intra:46.0% inter:28.0%\n",
      "\u001b[1;36m[libx264 @ 0x7f8e14001e00] \u001b[0mcoded y,uvDC,uvAC intra: 31.3% 32.6% 18.7% inter: 1.1% 0.4% 0.1%\n",
      "\u001b[1;36m[libx264 @ 0x7f8e14001e00] \u001b[0mi16 v,h,dc,p: 84%  7%  6%  2%\n",
      "\u001b[1;36m[libx264 @ 0x7f8e14001e00] \u001b[0mi8 v,h,dc,ddl,ddr,vr,hd,vl,hu: 37% 10% 38%  2%  2%  3%  2%  3%  2%\n",
      "\u001b[1;36m[libx264 @ 0x7f8e14001e00] \u001b[0mi4 v,h,dc,ddl,ddr,vr,hd,vl,hu: 31% 16% 20%  5%  5%  6%  6%  6%  5%\n",
      "\u001b[1;36m[libx264 @ 0x7f8e14001e00] \u001b[0mi8c dc,h,v,p: 70% 10% 14%  5%\n",
      "\u001b[1;36m[libx264 @ 0x7f8e14001e00] \u001b[0mWeighted P-Frames: Y:0.0% UV:0.0%\n",
      "\u001b[1;36m[libx264 @ 0x7f8e14001e00] \u001b[0mref P L0: 66.4%  6.7% 16.5% 10.4%\n",
      "\u001b[1;36m[libx264 @ 0x7f8e14001e00] \u001b[0mref B L0: 76.9% 17.8%  5.4%\n",
      "\u001b[1;36m[libx264 @ 0x7f8e14001e00] \u001b[0mref B L1: 98.3%  1.7%\n",
      "\u001b[1;36m[libx264 @ 0x7f8e14001e00] \u001b[0mkb/s:537.04\n"
     ]
    }
   ],
   "source": [
    "\n",
    "!ffmpeg -framerate 10 -start_number 00 -i %03d.png -c:v libx264 -r 30 -pix_fmt yuv420p 3dVis2_Fast.mp4"
   ]
  },
  {
   "cell_type": "code",
   "execution_count": 236,
   "metadata": {
    "collapsed": true
   },
   "outputs": [],
   "source": [
    "# save a figure \n",
    "\n",
    "mlab.close(all = True)\n",
    "density = res_fin / (29 * 500)\n",
    "#density[:, 102:newSideLen, (5 * ctr):newSideLen] = 0\n",
    "#density[(5 * ctr):newSideLen, 102:newSideLen, :] = 0\n",
    "density[101:200, :, :] = 0\n",
    "\n",
    "fig = mlab.figure(size = (1024,768),\n",
    "            bgcolor = (1,1,1), fgcolor = (0.5, 0.5, 0.5))\n",
    "#mlab.contour3d(density, contours= [0.001, 0.05, 0.2, 0.5], opacity = 0.2, colormap = \"jet\")\n",
    "mlab.contour3d(density, contours= 50, opacity = 0.2, colormap = \"hot\")\n",
    "#mlab.axes(extent = [25, 175, 25, 175, 15, 175], y_axis_visibility = False)\n",
    "mlab.orientation_axes()\n",
    "colorbar = mlab.colorbar(orientation = 'vertical', label_fmt = '%.1f')\n",
    "colorbar.scalar_bar_representation.position = [0.8, 0.2]\n",
    "colorbar.scalar_bar_representation.position2 = [0.05, 0.6]\n",
    "#     mlab.points3d([101, 101, 101], intPoints[:,0] + 1, 200 - intPoints[:,1], colormap = 'hot', \n",
    "#                         scale_mode='none', scale_factor=2, opacity = 1)\n",
    "\n",
    "# mlab.savefig('halfSizeKalmiaMap' + '.png', size = (1440, 1024))"
   ]
  },
  {
   "cell_type": "code",
   "execution_count": 224,
   "metadata": {
    "collapsed": false
   },
   "outputs": [],
   "source": [
    "# contour surface\n",
    "mlab.close(all = True)\n",
    "fig = mlab.figure(size = (1024,768),\n",
    "            bgcolor = (1,1,1), fgcolor = (0.5, 0.5, 0.5))\n",
    "mlab.contour_surf(density[100, :,:], contours = 50, colormap = 'hot')\n",
    "colorbar = mlab.colorbar(orientation = 'vertical', label_fmt = '%.1f')"
   ]
  },
  {
   "cell_type": "code",
   "execution_count": 225,
   "metadata": {
    "collapsed": false
   },
   "outputs": [],
   "source": [
    "# contour surface\n",
    "mlab.close(all = True)\n",
    "fig = mlab.figure(size = (1024,768),\n",
    "            bgcolor = (1,1,1), fgcolor = (0.5, 0.5, 0.5))\n",
    "aa = mlab.contour_surf(density[100, :,:], contours = [0.0001,0.02, 0.05, 0.11, 0.4], colormap = 'hot')\n",
    "colorbar = mlab.colorbar(orientation = 'vertical', label_fmt = '%.1f')"
   ]
  },
  {
   "cell_type": "code",
   "execution_count": 160,
   "metadata": {
    "collapsed": false
   },
   "outputs": [],
   "source": [
    "vtkout = aa.contour.contour_filter.output.points\n",
    "vv = vtkout.to_array().T"
   ]
  },
  {
   "cell_type": "code",
   "execution_count": 161,
   "metadata": {
    "collapsed": false
   },
   "outputs": [
    {
     "data": {
      "text/plain": [
       "(3, 3069)"
      ]
     },
     "execution_count": 161,
     "metadata": {},
     "output_type": "execute_result"
    }
   ],
   "source": [
    "vv.shape"
   ]
  },
  {
   "cell_type": "code",
   "execution_count": 205,
   "metadata": {
    "collapsed": false
   },
   "outputs": [
    {
     "data": {
      "text/plain": [
       "<matplotlib.collections.PathCollection at 0x194d78ed0>"
      ]
     },
     "execution_count": 205,
     "metadata": {},
     "output_type": "execute_result"
    }
   ],
   "source": [
    "plt.clf()\n",
    "plt.scatter(vv[0, :], vv[1, :])"
   ]
  },
  {
   "cell_type": "code",
   "execution_count": 222,
   "metadata": {
    "collapsed": false
   },
   "outputs": [
    {
     "data": {
      "text/plain": [
       "<mayavi.modules.glyph.Glyph at 0x14e4ee1d0>"
      ]
     },
     "execution_count": 222,
     "metadata": {},
     "output_type": "execute_result"
    }
   ],
   "source": [
    "mlab.close(all = True)\n",
    "\n",
    "yy = vv[0, :]\n",
    "zz = vv[1, :]\n",
    "xx = np.ones(yy.shape[0])\n",
    "\n",
    "mlab.points3d(xx, yy, zz)"
   ]
  },
  {
   "cell_type": "code",
   "execution_count": 202,
   "metadata": {
    "collapsed": false
   },
   "outputs": [
    {
     "data": {
      "text/plain": [
       "<mayavi.modules.surface.Surface at 0x136069c50>"
      ]
     },
     "execution_count": 202,
     "metadata": {},
     "output_type": "execute_result"
    }
   ],
   "source": [
    "n_mer, n_long = 6, 11\n",
    "pi = np.pi\n",
    "dphi = pi / 1000.0\n",
    "phi = np.arange(0.0, 2 * pi + 0.5 * dphi, dphi)\n",
    "mu = phi * n_mer\n",
    "\n",
    "x = np.cos(mu) * (1 + np.cos(n_long * mu / n_mer) * 0.5)\n",
    "y = np.sin(mu) * (1 + np.cos(n_long * mu / n_mer) * 0.5)\n",
    "z = np.sin(n_long * mu / n_mer) * 0.5\n",
    "\n",
    "mlab.plot3d(x, y, z)"
   ]
  },
  {
   "cell_type": "code",
   "execution_count": null,
   "metadata": {
    "collapsed": true
   },
   "outputs": [],
   "source": []
  }
 ],
 "metadata": {
  "anaconda-cloud": {},
  "kernelspec": {
   "display_name": "Python [conda env:vis_env]",
   "language": "python",
   "name": "conda-env-vis_env-py"
  },
  "language_info": {
   "codemirror_mode": {
    "name": "ipython",
    "version": 2
   },
   "file_extension": ".py",
   "mimetype": "text/x-python",
   "name": "python",
   "nbconvert_exporter": "python",
   "pygments_lexer": "ipython2",
   "version": "2.7.12"
  }
 },
 "nbformat": 4,
 "nbformat_minor": 1
}
