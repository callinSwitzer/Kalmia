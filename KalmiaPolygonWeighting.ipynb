{
 "cells": [
  {
   "cell_type": "markdown",
   "metadata": {},
   "source": [
    "### Callin Switzer\n",
    "\n",
    "1 Nov 2016\n",
    "\n",
    "-Read in all the Kalmia polygon images (from R KalmiaVisualizePolygons_V2.R)\n",
    "\n",
    "-Weight pixels with increasing values as they get closer to zero\n",
    "\n",
    "-Resample all of the images\n",
    "\n",
    "-Stack resampled images\n",
    "\n",
    "-Visualize a heatmap\n",
    "\n",
    "-Save heatmap"
   ]
  },
  {
   "cell_type": "code",
   "execution_count": 1,
   "metadata": {
    "collapsed": true
   },
   "outputs": [],
   "source": [
    "import cv2\n",
    "\n",
    "import numpy as np\n",
    "import matplotlib\n",
    "matplotlib.use(\"TkAgg\") # have to use this for tkinter to  work below\n",
    "from matplotlib import pyplot as plt\n",
    "%matplotlib tk\n",
    "\n",
    "# scikit image\n",
    "import skimage\n",
    "from skimage import io\n",
    "\n",
    "import os\n",
    "import pandas as pd\n",
    "import time"
   ]
  },
  {
   "cell_type": "code",
   "execution_count": 2,
   "metadata": {
    "collapsed": true
   },
   "outputs": [],
   "source": [
    "%qtconsole"
   ]
  },
  {
   "cell_type": "code",
   "execution_count": 3,
   "metadata": {
    "collapsed": true
   },
   "outputs": [],
   "source": [
    "# list files in directory"
   ]
  },
  {
   "cell_type": "code",
   "execution_count": 4,
   "metadata": {
    "collapsed": true
   },
   "outputs": [],
   "source": [
    "# load colormap\n",
    "os.chdir(\"/Users/cswitzer/Dropbox/ExperSummer2016/Kalmia/Manuscript/DatasetsSupplemental/KalmiaDigitizedPolygon/colormap\")\n",
    "import matplotlib.cm as cm\n",
    "import colormaps as cmaps\n",
    "colormap_r = matplotlib.colors.ListedColormap(cmaps.magma.colors[::-1])"
   ]
  },
  {
   "cell_type": "code",
   "execution_count": 5,
   "metadata": {
    "collapsed": true
   },
   "outputs": [],
   "source": [
    "\n",
    "\n",
    "\n",
    "os.chdir(\"/Users/cswitzer/Dropbox/ExperSummer2016/Kalmia/KalmiaExamples/KalmiaManualTrig_VidsToProcess\")"
   ]
  },
  {
   "cell_type": "code",
   "execution_count": 6,
   "metadata": {
    "collapsed": true
   },
   "outputs": [],
   "source": [
    "# list files in directory\n",
    "mypath = os.getcwd()\n",
    "onlyfiles = [f for f in os.listdir(mypath) if os.path.isfile(os.path.join(mypath, f))]\n",
    "photoList = [ x for x in onlyfiles if not x.startswith('.') and x.endswith('.png')]"
   ]
  },
  {
   "cell_type": "code",
   "execution_count": 7,
   "metadata": {},
   "outputs": [
    {
     "data": {
      "text/plain": [
       "29"
      ]
     },
     "execution_count": 7,
     "metadata": {},
     "output_type": "execute_result"
    }
   ],
   "source": [
    "len(photoList)"
   ]
  },
  {
   "cell_type": "code",
   "execution_count": 8,
   "metadata": {},
   "outputs": [
    {
     "name": "stdout",
     "output_type": "stream",
     "text": [
      "0.1 1.0 0.1\n",
      "10.0\n"
     ]
    }
   ],
   "source": [
    "# visualize individual polygons with weighting\n",
    "\n",
    "kk = 0\n",
    "fpth = photoList[kk]\n",
    "img = cv2.imread(fpth,0)\n",
    "img = (img < 255) * 1.0\n",
    "\n",
    "# these are the points of interest\n",
    "intPoints = np.array([[768, 1694],[1000, 1694],[1231, 1694]])\n",
    "\n",
    "#img[:, 1000]= 0.9\n",
    "#img[1694, :] = 0.9\n",
    "plt.clf()\n",
    "io.imshow(img, cmap = 'gray')\n",
    "plt.scatter(x = intPoints[:,0], y = intPoints[:,1])\n",
    "\n",
    "\n",
    "\n",
    "# make multiplication matrix\n",
    "mask = np.ones((2000, 2000))\n",
    "\n",
    "# make points exponentially decreasing \n",
    "# this makes the center probability  == 10 times the outside probability\n",
    "row1 = (10.0**((np.hstack([range(0, 1000), range(999, -1, -1)]))/231.0))\n",
    "\n",
    "# normalize\n",
    "row1 = row1 / np.max(row1)\n",
    "\n",
    "# make a matrix to multiply by\n",
    "mask2 = mask * (row1 )\n",
    "io.imshow(mask2 * img, cmap = 'gray')\n",
    "print row1[768], row1[1000], row1[1231]\n",
    "print  row1[1000] / float(row1[768])"
   ]
  },
  {
   "cell_type": "code",
   "execution_count": 25,
   "metadata": {
    "collapsed": true
   },
   "outputs": [],
   "source": [
    "# stack all polygons and visualize without weighting\n",
    "stackedImg = np.ones((2000, 2000)) * 0.0\n",
    "\n",
    "\n",
    "\n",
    "for ii in range(len(photoList)):\n",
    "    # read in image\n",
    "    \n",
    "    fpth = photoList[ii]\n",
    "    img = cv2.imread(fpth,0)\n",
    "    img = (img < 255) * 1.0\n",
    "    if ii == 0:\n",
    "        img = cv2.flip(img, 1)\n",
    "    img2 = mask * img\n",
    "    stackedImg = img2 + stackedImg\n",
    "\n",
    "plt.clf()\n",
    "io.imshow(stackedImg, cmap = 'YlOrRd')"
   ]
  },
  {
   "cell_type": "code",
   "execution_count": 26,
   "metadata": {
    "collapsed": true
   },
   "outputs": [],
   "source": [
    "# convert 0's to NAN\n",
    "stackedImg = stackedImg / np.max(stackedImg)\n",
    "stackedImg[stackedImg == 0.0] = np.nan"
   ]
  },
  {
   "cell_type": "code",
   "execution_count": 27,
   "metadata": {
    "collapsed": true
   },
   "outputs": [],
   "source": [
    "# remove border\n",
    "a = stackedImg\n",
    "slice_val = 150\n",
    "b = a[slice_val:-slice_val, slice_val:-slice_val]"
   ]
  },
  {
   "cell_type": "code",
   "execution_count": 30,
   "metadata": {},
   "outputs": [],
   "source": [
    "plt.close(\"all\")\n",
    "\n",
    "\n",
    "levels =  np.arange(0, 1.2, 0.1)\n",
    "fig, ax = plt.subplots()\n",
    "ax.axis('equal')\n",
    "ax.axis('off')\n",
    "#ax.tick_params('off')\n",
    "CF = ax.imshow(b, cmap = colormap_r)\n",
    "cbar = fig.colorbar(CF, ticks = levels, fraction = 0.031, pad = 0)\n",
    "#cbar.ax.set_yticklabels([\"0\", \"2\", \"3\", \"4\"])\n",
    "plt.tight_layout()\n",
    "\n",
    "fig.savefig(\"/Users/cswitzer/Desktop/RawStacked_29Polygons.png\", dpi = 700)\n",
    "\n"
   ]
  },
  {
   "cell_type": "code",
   "execution_count": 31,
   "metadata": {
    "collapsed": true
   },
   "outputs": [],
   "source": [
    "# resample stacked images without weighting\n",
    "def resampleImgsNoWeight():\n",
    "    # stack all polygons and visualize\n",
    "    stackedImg = np.ones((2000, 2000)) * 0.0\n",
    "\n",
    "    # make multiplication matrix\n",
    "    mask = np.ones((2000, 2000))\n",
    "\n",
    "    photoSamp = np.random.choice(range(len(photoList)), size=len(photoList), replace=True, p=None)\n",
    "\n",
    "\n",
    "    for ii in photoSamp:\n",
    "        # read in imag\n",
    "        fpth = photoList[ii]\n",
    "        img = cv2.imread(fpth,0)\n",
    "        img = (img < 255) * 1.0\n",
    "\n",
    "\n",
    "\n",
    "        #flip the one that I did backwards\n",
    "        if fpth == '20160615_121016.png':\n",
    "            img = cv2.flip(img, 1)\n",
    "\n",
    "        img2 = mask * img\n",
    "\n",
    "        # stack images\n",
    "        stackedImg = img2 + stackedImg\n",
    "    \n",
    "    return stackedImg"
   ]
  },
  {
   "cell_type": "code",
   "execution_count": 34,
   "metadata": {
    "collapsed": true
   },
   "outputs": [],
   "source": [
    "img1 = resampleImgsNoWeight()"
   ]
  },
  {
   "cell_type": "code",
   "execution_count": 35,
   "metadata": {
    "collapsed": true
   },
   "outputs": [],
   "source": [
    "plt.clf()\n",
    "io.imshow(img1, cmap = colormap_r)"
   ]
  },
  {
   "cell_type": "code",
   "execution_count": 36,
   "metadata": {},
   "outputs": [
    {
     "name": "stdout",
     "output_type": "stream",
     "text": [
      "296.615514994\n"
     ]
    }
   ],
   "source": [
    "stt = time.time()\n",
    "imStt = np.array([resampleImgsNoWeight() for ii in range(100)])\n",
    "print time.time() - stt"
   ]
  },
  {
   "cell_type": "code",
   "execution_count": 55,
   "metadata": {},
   "outputs": [
    {
     "data": {
      "text/plain": [
       "<matplotlib.collections.PathCollection at 0x11d589f50>"
      ]
     },
     "execution_count": 55,
     "metadata": {},
     "output_type": "execute_result"
    }
   ],
   "source": [
    "# sum up arrays to make total bootstrap resample \n",
    "imSum = imStt.sum(axis = 0)\n",
    "i2 = imSum\n",
    "\n",
    "# normalize\n",
    "imSum = imSum / np.max(imSum)\n",
    "\n",
    "plt.clf()\n",
    "io.imshow(imSum, cmap = colormap_r)\n",
    "plt.xlim([600, 1400])\n",
    "plt.ylim([ 1700, 700])\n",
    "plt.scatter(x = intPoints[:,0], y = intPoints[:,1])"
   ]
  },
  {
   "cell_type": "code",
   "execution_count": 48,
   "metadata": {
    "collapsed": true
   },
   "outputs": [],
   "source": [
    "imSum[imSum == 0] = np.nan"
   ]
  },
  {
   "cell_type": "code",
   "execution_count": 49,
   "metadata": {
    "collapsed": true
   },
   "outputs": [],
   "source": [
    "levels =  np.arange(0, 1.2, 0.1)\n",
    "fig, ax = plt.subplots()\n",
    "ax.axis('equal')\n",
    "ax.axis('off')\n",
    "#ax.tick_params('off')\n",
    "CF = ax.imshow(imSum, cmap = colormap_r)\n",
    "cbar = fig.colorbar(CF, ticks = levels, fraction = 0.031, pad = 0)\n",
    "ax.scatter(x = intPoints[:,0], y = intPoints[:,1])\n",
    "plt.tight_layout()\n",
    "\n",
    "fig.savefig(\"/Users/cswitzer/Desktop/RawStacked_29Polygons_withPoints.png\", dpi = 700)"
   ]
  },
  {
   "cell_type": "code",
   "execution_count": 50,
   "metadata": {
    "collapsed": true
   },
   "outputs": [],
   "source": [
    "a = imSum\n",
    "slice_val = 150\n",
    "c = a[slice_val:-slice_val, slice_val:-slice_val]"
   ]
  },
  {
   "cell_type": "code",
   "execution_count": 51,
   "metadata": {},
   "outputs": [],
   "source": [
    "levels =  np.arange(0, 1.2, 0.1)\n",
    "fig, ax = plt.subplots()\n",
    "ax.axis('equal')\n",
    "ax.axis('off')\n",
    "#ax.tick_params('off')\n",
    "CF = ax.imshow(c, cmap = colormap_r)\n",
    "cbar = fig.colorbar(CF, ticks = levels, fraction = 0.031, pad = 0)\n",
    "plt.tight_layout()\n",
    "\n",
    "fig.savefig(\"/Users/cswitzer/Desktop/RawStacked_29Polygons_NoPoints.png\", dpi = 700)"
   ]
  },
  {
   "cell_type": "code",
   "execution_count": 52,
   "metadata": {},
   "outputs": [
    {
     "data": {
      "text/plain": [
       "'/Users/cswitzer/Dropbox/ExperSummer2016/Kalmia/KalmiaExamples/KalmiaManualTrig_VidsToProcess/20160615_121016.png'"
      ]
     },
     "execution_count": 52,
     "metadata": {},
     "output_type": "execute_result"
    }
   ],
   "source": [
    "os.path.abspath(photoList[kk])"
   ]
  },
  {
   "cell_type": "code",
   "execution_count": 83,
   "metadata": {},
   "outputs": [],
   "source": [
    "# add  blur\n",
    "plt.clf()\n",
    "kernel = np.ones((50,50),np.float32)/25\n",
    "imSum2 = np.array(cv2.filter2D(i2.copy(),-1,kernel))\n",
    "\n",
    "# normalize\n",
    "imSum2 = imSum2 / np.max(imSum2) * 100\n",
    "\n",
    "\n",
    "plt.close('all')\n",
    "\n",
    "\n",
    "imNA = imSum2\n",
    "imNA[imNA <= 10] = np.nan\n",
    "fig, ax = plt.subplots()\n",
    "im = ax.imshow(imNA, cmap = colormap_r)\n",
    "cax = fig.add_axes([0.78, 0.2, 0.05, 0.6])\n",
    "fig.colorbar(im, cax=cax, orientation='vertical')\n",
    "\n",
    "# add contour lines\n",
    "ax.contour(imSum2, levels = range(10, 100, 20), colors = 'k')\n",
    "# plt.xlim([600, 1400])\n",
    "# plt.ylim([ 1700, 700])\n",
    "\n",
    "ax.axis('off')\n",
    "\n",
    "ax.set_xlim([600, 1900])\n",
    "ax.set_ylim([ 1800, 700])\n",
    "\n",
    "intPoints = np.array([[768, 1694],[1000, 1694],[1231, 1694]])\n",
    "ax.scatter(x = intPoints[:,0], y = intPoints[:,1])\n",
    "\n",
    "plt.show()\n",
    "\n",
    "plt.savefig('SingleAntherHeatmap_magmaCmap_blurr_withPoints.png', dpi = 500)"
   ]
  },
  {
   "cell_type": "code",
   "execution_count": 85,
   "metadata": {
    "collapsed": true
   },
   "outputs": [],
   "source": [
    "# add  blur\n",
    "plt.clf()\n",
    "kernel = np.ones((50,50),np.float32)/25\n",
    "imSum2 = np.array(cv2.filter2D(i2.copy(),-1,kernel))\n",
    "\n",
    "# normalize\n",
    "imSum2 = imSum2 / np.max(imSum2) * 100\n",
    "\n",
    "\n",
    "plt.close('all')\n",
    "\n",
    "\n",
    "imNA = imSum2\n",
    "imNA[imNA <= 10] = np.nan\n",
    "fig, ax = plt.subplots()\n",
    "im = ax.imshow(imNA, cmap = colormap_r)\n",
    "cax = fig.add_axes([0.78, 0.2, 0.05, 0.6])\n",
    "fig.colorbar(im, cax=cax, orientation='vertical')\n",
    "\n",
    "# add contour lines\n",
    "ax.contour(imSum2, levels = range(10, 100, 20), colors = 'k')\n",
    "# plt.xlim([600, 1400])\n",
    "# plt.ylim([ 1700, 700])\n",
    "\n",
    "ax.axis('off')\n",
    "\n",
    "ax.set_xlim([600, 1900])\n",
    "ax.set_ylim([ 1800, 700])\n",
    "\n",
    "intPoints = np.array([[768, 1694],[1000, 1694],[1231, 1694]])\n",
    "#ax.scatter(x = intPoints[:,0], y = intPoints[:,1])\n",
    "\n",
    "plt.show()\n",
    "\n",
    "plt.savefig('SingleAntherHeatmap_magmaCmap_blurr_NoPoints.png', dpi = 500)"
   ]
  },
  {
   "cell_type": "code",
   "execution_count": null,
   "metadata": {
    "collapsed": true
   },
   "outputs": [],
   "source": []
  }
 ],
 "metadata": {
  "anaconda-cloud": {},
  "kernelspec": {
   "display_name": "python2_opencv",
   "language": "python",
   "name": "python2_opencv"
  },
  "language_info": {
   "codemirror_mode": {
    "name": "ipython",
    "version": 2
   },
   "file_extension": ".py",
   "mimetype": "text/x-python",
   "name": "python",
   "nbconvert_exporter": "python",
   "pygments_lexer": "ipython2",
   "version": "2.7.13"
  }
 },
 "nbformat": 4,
 "nbformat_minor": 1
}
