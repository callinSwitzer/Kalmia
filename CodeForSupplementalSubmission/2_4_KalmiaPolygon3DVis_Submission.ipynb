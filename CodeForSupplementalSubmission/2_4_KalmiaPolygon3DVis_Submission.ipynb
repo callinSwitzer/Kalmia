{
 "cells": [
  {
   "cell_type": "markdown",
   "metadata": {},
   "source": [
    "### Callin Switzer\n",
    "\n",
    "3 Nov 2016\n",
    "\n",
    "Update Feb 10, 2016\n",
    "\n",
    "Make sure to use mayave_env (source activate mayavi_env)\n",
    "To activate this environment, use:\n",
    "> source activate mayavi_env\n",
    "\n",
    "To deactivate this environment, use:\n",
    "> source deactivate mayavi_env\n",
    "\n",
    "\n",
    "-Read in all the Kalmia polygon images (from R KalmiaVisualizePolygons_V2.R)\n",
    "\n",
    "-visualize in 3D\n",
    "\n",
    "-Resample all of the images\n",
    "\n",
    "-Stack resampled images (in 3D)\n",
    "\n",
    "-Visualize a heatmap\n",
    "\n",
    "-Save heatmap"
   ]
  },
  {
   "cell_type": "code",
   "execution_count": 1,
   "metadata": {
    "collapsed": false
   },
   "outputs": [
    {
     "name": "stdout",
     "output_type": "stream",
     "text": [
      "alabaster==0.7.9\n",
      "anaconda-clean==1.0\n",
      "anaconda-client==1.5.1\n",
      "anaconda-navigator==1.3.1\n",
      "appnope==0.1.0\n",
      "appscript==1.0.1\n",
      "argcomplete==1.0.0\n",
      "astroid==1.4.7\n",
      "astropy==1.2.1\n",
      "Babel==2.3.4\n",
      "backports-abc==0.4\n",
      "backports.shutil-get-terminal-size==1.0.0\n",
      "backports.ssl-match-hostname==3.4.0.2\n",
      "beautifulsoup4==4.5.1\n",
      "bitarray==0.8.1\n",
      "blaze==0.10.1\n",
      "bokeh==0.12.2\n",
      "boto==2.42.0\n",
      "Bottleneck==1.1.0\n",
      "cdecimal==2.3\n",
      "cffi==1.7.0\n",
      "chest==0.2.3\n",
      "click==6.6\n",
      "cloudpickle==0.2.1\n",
      "clyent==1.2.2\n",
      "colorama==0.3.7\n",
      "conda==4.2.11\n",
      "conda-build==2.0.2\n",
      "configobj==5.0.6\n",
      "configparser==3.5.0\n",
      "contextlib2==0.5.3\n",
      "cryptography==1.3.1\n",
      "cycler==0.10.0\n",
      "Cython==0.24.1\n",
      "cytoolz==0.8.0\n",
      "dask==0.11.0\n",
      "datashape==0.5.2\n",
      "decorator==4.0.10\n",
      "dill==0.2.5\n",
      "docutils==0.12\n",
      "dynd==0.7.3.dev1\n",
      "enum34==1.1.6\n",
      "et-xmlfile==1.0.1\n",
      "fastcache==1.0.2\n",
      "filelock==2.0.6\n",
      "Flask==0.11.1\n",
      "Flask-Cors==2.1.2\n",
      "funcsigs==1.0.2\n",
      "functools32==3.2.3.post2\n",
      "futures==3.0.5\n",
      "gevent==1.1.2\n",
      "greenlet==0.4.10\n",
      "grin==1.2.1\n",
      "h5py==2.6.0\n",
      "HeapDict==1.0.0\n",
      "html5lib==0.999\n",
      "idna==2.1\n",
      "imagesize==0.7.1\n",
      "ipaddress==1.0.14\n",
      "ipykernel==4.5.0\n",
      "ipython==5.1.0\n",
      "ipython-genutils==0.1.0\n",
      "ipywidgets==5.2.2\n",
      "itsdangerous==0.24\n",
      "jdcal==1.2\n",
      "jedi==0.9.0\n",
      "Jinja2==2.8\n",
      "jsonschema==2.5.1\n",
      "jupyter==1.0.0\n",
      "jupyter-client==4.4.0\n",
      "jupyter-console==5.0.0\n",
      "jupyter-core==4.2.0\n",
      "lazy-object-proxy==1.2.1\n",
      "llvmlite==0.13.0\n",
      "locket==0.2.0\n",
      "lxml==3.6.4\n",
      "MarkupSafe==0.23\n",
      "matplotlib==1.5.3\n",
      "mistune==0.7.3\n",
      "mpmath==0.19\n",
      "multipledispatch==0.4.8\n",
      "nb-anacondacloud==1.2.0\n",
      "nb-conda==2.0.0\n",
      "nb-conda-kernels==2.0.0\n",
      "nbconvert==4.2.0\n",
      "nbformat==4.1.0\n",
      "nbpresent==3.0.2\n",
      "networkx==1.11\n",
      "nltk==3.2.1\n",
      "nose==1.3.7\n",
      "notebook==4.2.3\n",
      "numba==0.28.1+0.gfe99fbc.dirty\n",
      "numexpr==2.6.1\n",
      "numpy==1.11.1\n",
      "odo==0.5.0\n",
      "openpyxl==2.3.2\n",
      "pandas==0.18.1\n",
      "partd==0.3.6\n",
      "path.py==0.0.0\n",
      "pathlib2==2.1.0\n",
      "patsy==0.4.1\n",
      "pep8==1.7.0\n",
      "pexpect==4.0.1\n",
      "pickleshare==0.7.4\n",
      "Pillow==3.3.1\n",
      "pkginfo==1.3.2\n",
      "ply==3.9\n",
      "prompt-toolkit==1.0.3\n",
      "psutil==4.3.1\n",
      "psycopg2==2.6.2\n",
      "ptyprocess==0.5.1\n",
      "py==1.4.31\n",
      "pyasn1==0.1.9\n",
      "PyAudio==0.2.7\n",
      "pycosat==0.6.1\n",
      "pycparser==2.14\n",
      "pycrypto==2.6.1\n",
      "pycurl==7.19.5.1\n",
      "pyflakes==1.3.0\n",
      "Pygments==2.1.3\n",
      "pylint==1.5.4\n",
      "pyOpenSSL==16.0.0\n",
      "pyparsing==2.1.4\n",
      "pytest==2.9.2\n",
      "python-dateutil==2.5.3\n",
      "pytz==2016.6.1\n",
      "PyYAML==3.12\n",
      "pyzmq==15.4.0\n",
      "QtAwesome==0.3.3\n",
      "qtconsole==4.2.1\n",
      "QtPy==1.1.2\n",
      "redis==2.10.5\n",
      "requests==2.11.1\n",
      "rope==0.9.4\n",
      "ruamel-yaml===-VERSION\n",
      "scikit-image==0.12.3\n",
      "scikit-learn==0.17.1\n",
      "scipy==0.18.1\n",
      "seaborn==0.7.1\n",
      "simplegeneric==0.8.1\n",
      "singledispatch==3.4.0.3\n",
      "six==1.10.0\n",
      "snowballstemmer==1.2.1\n",
      "sockjs-tornado==1.0.3\n",
      "Sphinx==1.4.6\n",
      "spyder==3.0.0\n",
      "SQLAlchemy==1.0.13\n",
      "statsmodels==0.6.1\n",
      "sympy==1.0\n",
      "tables==3.2.3.1\n",
      "terminado==0.6\n",
      "toolz==0.8.0\n",
      "tornado==4.4.1\n",
      "traitlets==4.3.0\n",
      "unicodecsv==0.14.1\n",
      "virtualenv==15.0.3\n",
      "wcwidth==0.1.7\n",
      "Werkzeug==0.11.11\n",
      "widgetsnbextension==1.2.6\n",
      "wrapt==1.10.6\n",
      "xlrd==1.0.0\n",
      "XlsxWriter==0.9.3\n",
      "xlwings==0.10.0\n",
      "xlwt==1.1.2\n",
      "\u001b[33mYou are using pip version 8.1.2, however version 9.0.1 is available.\n",
      "You should consider upgrading via the 'pip install --upgrade pip' command.\u001b[0m\n"
     ]
    }
   ],
   "source": [
    "# show installed packages and versions\n",
    "!pip freeze "
   ]
  },
  {
   "cell_type": "code",
   "execution_count": 3,
   "metadata": {
    "collapsed": false
   },
   "outputs": [
    {
     "name": "stdout",
     "output_type": "stream",
     "text": [
      "{'commit_hash': u'5c9c918',\n",
      " 'commit_source': 'installation',\n",
      " 'default_encoding': 'UTF-8',\n",
      " 'ipython_path': '/Users/callinswitzer/anaconda/envs/mayavi_env/lib/python2.7/site-packages/IPython',\n",
      " 'ipython_version': '5.1.0',\n",
      " 'os_name': 'posix',\n",
      " 'platform': 'Darwin-15.6.0-x86_64-i386-64bit',\n",
      " 'sys_executable': '/Users/callinswitzer/anaconda/envs/mayavi_env/bin/python',\n",
      " 'sys_platform': 'darwin',\n",
      " 'sys_version': '2.7.12 |Continuum Analytics, Inc.| (default, Jul  2 2016, 17:43:17) \\n[GCC 4.2.1 (Based on Apple Inc. build 5658) (LLVM build 2336.11.00)]'}\n"
     ]
    }
   ],
   "source": [
    "# print system info\n",
    "import IPython\n",
    "print IPython.sys_info()"
   ]
  },
  {
   "cell_type": "code",
   "execution_count": 4,
   "metadata": {
    "collapsed": false
   },
   "outputs": [],
   "source": [
    "import mayavi"
   ]
  },
  {
   "cell_type": "code",
   "execution_count": 5,
   "metadata": {
    "collapsed": false
   },
   "outputs": [
    {
     "ename": "ImportError",
     "evalue": "No module named matplotlib",
     "output_type": "error",
     "traceback": [
      "\u001b[0;31m---------------------------------------------------------------------------\u001b[0m",
      "\u001b[0;31mImportError\u001b[0m                               Traceback (most recent call last)",
      "\u001b[0;32m<ipython-input-5-1ddf4433512a>\u001b[0m in \u001b[0;36m<module>\u001b[0;34m()\u001b[0m\n\u001b[1;32m      1\u001b[0m \u001b[0;32mimport\u001b[0m \u001b[0mnumpy\u001b[0m \u001b[0;32mas\u001b[0m \u001b[0mnp\u001b[0m\u001b[0;34m\u001b[0m\u001b[0m\n\u001b[0;32m----> 2\u001b[0;31m \u001b[0;32mimport\u001b[0m \u001b[0mmatplotlib\u001b[0m\u001b[0;34m\u001b[0m\u001b[0m\n\u001b[0m\u001b[1;32m      3\u001b[0m \u001b[0mmatplotlib\u001b[0m\u001b[0;34m.\u001b[0m\u001b[0muse\u001b[0m\u001b[0;34m(\u001b[0m\u001b[0;34m\"TkAgg\"\u001b[0m\u001b[0;34m)\u001b[0m \u001b[0;31m# have to use this for tkinter to  work below\u001b[0m\u001b[0;34m\u001b[0m\u001b[0m\n\u001b[1;32m      4\u001b[0m \u001b[0;32mfrom\u001b[0m \u001b[0mmatplotlib\u001b[0m \u001b[0;32mimport\u001b[0m \u001b[0mpyplot\u001b[0m \u001b[0;32mas\u001b[0m \u001b[0mplt\u001b[0m\u001b[0;34m\u001b[0m\u001b[0m\n\u001b[1;32m      5\u001b[0m \u001b[0mget_ipython\u001b[0m\u001b[0;34m(\u001b[0m\u001b[0;34m)\u001b[0m\u001b[0;34m.\u001b[0m\u001b[0mmagic\u001b[0m\u001b[0;34m(\u001b[0m\u001b[0;34mu'matplotlib tk'\u001b[0m\u001b[0;34m)\u001b[0m\u001b[0;34m\u001b[0m\u001b[0m\n",
      "\u001b[0;31mImportError\u001b[0m: No module named matplotlib"
     ]
    }
   ],
   "source": [
    "import numpy as np\n",
    "import matplotlib\n",
    "matplotlib.use(\"TkAgg\") # have to use this for tkinter to  work below\n",
    "from matplotlib import pyplot as plt\n",
    "%matplotlib tk\n",
    "\n",
    "# scikit image\n",
    "import skimage\n",
    "from skimage import io\n",
    "\n",
    "import os\n",
    "import pandas as pd\n",
    "import time\n",
    "\n",
    "import scipy\n",
    "from scipy import stats\n",
    "from mayavi import mlab\n",
    "\n",
    "from mpl_toolkits.mplot3d import Axes3D\n",
    "import sys"
   ]
  },
  {
   "cell_type": "code",
   "execution_count": 2,
   "metadata": {
    "collapsed": true
   },
   "outputs": [],
   "source": [
    "%qtconsole"
   ]
  },
  {
   "cell_type": "markdown",
   "metadata": {},
   "source": [
    "May want to look at this: http://stackoverflow.com/questions/25286811/how-to-plot-a-3d-density-map-in-python-with-matplotlib"
   ]
  },
  {
   "cell_type": "code",
   "execution_count": null,
   "metadata": {
    "collapsed": true
   },
   "outputs": [],
   "source": [
    "import numpy as np\n"
   ]
  },
  {
   "cell_type": "code",
   "execution_count": 8,
   "metadata": {
    "collapsed": true
   },
   "outputs": [],
   "source": [
    "import numpy as np\n",
    "from numpy import sin, cos, pi\n",
    "from skimage import measure\n",
    "import matplotlib.pyplot as plt\n",
    "from mpl_toolkits.mplot3d import Axes3D\n",
    "\n",
    "\n",
    "def fun(x, y, z):\n",
    "    return cos(x) + cos(y) + cos(z)\n",
    "\n",
    "x, y, z = pi*np.mgrid[-1:1:31j, -1:1:31j, -1:1:31j]\n",
    "vol = fun(x, y, z)\n",
    "verts, faces = measure.marching_cubes(vol, 0, spacing=(0.1, 0.1, 0.1))\n",
    "\n",
    "fig = plt.figure()\n",
    "ax = fig.add_subplot(111, projection='3d')\n",
    "ax.plot_trisurf(verts[:, 0], verts[:,1], faces, verts[:, 2],\n",
    "                cmap='Spectral', lw=1, alpha = 0.2, edgecolor = 'none')\n",
    "plt.show()"
   ]
  },
  {
   "cell_type": "code",
   "execution_count": 12,
   "metadata": {
    "collapsed": true
   },
   "outputs": [],
   "source": [
    "# list files in directory"
   ]
  },
  {
   "cell_type": "code",
   "execution_count": 13,
   "metadata": {
    "collapsed": true
   },
   "outputs": [],
   "source": [
    "os.chdir(\"/Users/callinswitzer/Dropbox/KalmiaProject/KalmiaExamples/KalmiaManualTrig_VidsToProcess/\")"
   ]
  },
  {
   "cell_type": "code",
   "execution_count": 14,
   "metadata": {
    "collapsed": false
   },
   "outputs": [],
   "source": [
    "# list files in directory\n",
    "mypath = os.getcwd()\n",
    "onlyfiles = [f for f in os.listdir(mypath) if os.path.isfile(os.path.join(mypath, f))]\n",
    "photoList = [ x for x in onlyfiles if not x.startswith('.') and x.endswith('.png')]"
   ]
  },
  {
   "cell_type": "code",
   "execution_count": 57,
   "metadata": {
    "collapsed": false
   },
   "outputs": [
    {
     "data": {
      "text/plain": [
       "''"
      ]
     },
     "execution_count": 57,
     "metadata": {},
     "output_type": "execute_result"
    }
   ],
   "source": [
    "# read in image and resize\n",
    "kk = 1\n",
    "img = np.array(cv2.imread(photoList[kk], 0))\n",
    "\n",
    "newSideLen = 100\n",
    "\n",
    "r = float(newSideLen) / img.shape[1]\n",
    "dim = (int(newSideLen), int(img.shape[0] * r))\n",
    " \n",
    "# perform the actual resizing of the image and show it\n",
    "resized = cv2.resize(img, dim, interpolation = cv2.INTER_AREA)\n",
    "\n",
    "resized = np.array((resized < 255) * 1.0)\n",
    "\n",
    "# clear edges of resized image\n",
    "resized[:, 0] = 0\n",
    "resized[newSideLen-1, :] = 0\n",
    "\n",
    "plt.close('all')\n",
    "io.imshow(resized)\n",
    "thismanager = plt.get_current_fig_manager()\n",
    "thismanager.window.wm_geometry(\"-1-1\")\n",
    "\n",
    "\n"
   ]
  },
  {
   "cell_type": "code",
   "execution_count": 50,
   "metadata": {
    "collapsed": false
   },
   "outputs": [
    {
     "data": {
      "text/plain": [
       "8"
      ]
     },
     "execution_count": 50,
     "metadata": {},
     "output_type": "execute_result"
    }
   ],
   "source": [
    "# make empty np array\n",
    "stackedArr = np.ones(shape=(np.repeat(newSideLen, [3]))) * 0.0\n",
    "\n",
    "midpt = stackedArr.shape[1]/2\n",
    "\n",
    "stackedArr[midpt,:,:] = stackedArr[midpt,:,:] + resized\n",
    "\n",
    "stackedArr[:, midpt, :] = stackedArr[:, midpt, :] + resized\n",
    "\n",
    "# get size\n",
    "sys.getsizeof(stackedArr)/1000/1000 # in MB\n"
   ]
  },
  {
   "cell_type": "code",
   "execution_count": 51,
   "metadata": {
    "collapsed": false
   },
   "outputs": [],
   "source": [
    "x,y,z = stackedArr.nonzero()"
   ]
  },
  {
   "cell_type": "code",
   "execution_count": 52,
   "metadata": {
    "collapsed": false
   },
   "outputs": [
    {
     "data": {
      "text/plain": [
       "<mpl_toolkits.mplot3d.art3d.Path3DCollection at 0x11f5bb050>"
      ]
     },
     "execution_count": 52,
     "metadata": {},
     "output_type": "execute_result"
    }
   ],
   "source": [
    "#plt.close('all')\n",
    "plt.clf()\n",
    "fig = plt.figure(1)\n",
    "ax = fig.add_subplot(111, projection='3d')\n",
    "ax.scatter(x, y, z, zdir='z', c = stackedArr[x,y,z], cmap = 'Greys', edgecolor = 'none', marker = 's')\n",
    "#plt.savefig(\"demo.png\")"
   ]
  },
  {
   "cell_type": "code",
   "execution_count": 48,
   "metadata": {
    "collapsed": false
   },
   "outputs": [],
   "source": [
    "plt.close('all')\n",
    "verts, faces = measure.marching_cubes(stackedArr, 0, spacing=(0.1, 0.1, 0.1))\n",
    "\n",
    "fig = plt.figure()\n",
    "ax = fig.add_subplot(111, projection='3d')\n",
    "ax.plot_trisurf(verts[:, 0], verts[:,1], faces, verts[:, 2], facecolors = ['red', 'blue'],\n",
    "                cmap='Purples', lw=5, alpha = 0.2, edgecolor = 'none')\n",
    "plt.show()\n",
    "\n"
   ]
  },
  {
   "cell_type": "code",
   "execution_count": 54,
   "metadata": {
    "collapsed": false
   },
   "outputs": [
    {
     "data": {
      "text/plain": [
       "<matplotlib.image.AxesImage at 0x121fed410>"
      ]
     },
     "execution_count": 54,
     "metadata": {},
     "output_type": "execute_result"
    }
   ],
   "source": [
    "plt.clf()\n",
    "io.imshow(resized)"
   ]
  },
  {
   "cell_type": "code",
   "execution_count": null,
   "metadata": {
    "collapsed": true
   },
   "outputs": [],
   "source": [
    "# rotate image\n",
    "M = cv2.getRotationMatrix2D(center, 180, 1.0)\n",
    "rotated = cv2.warpAffine(image, M, (w, h))\n",
    "cv2.imshow(\"rotated\", rotated)"
   ]
  },
  {
   "cell_type": "code",
   "execution_count": 63,
   "metadata": {
    "collapsed": false
   },
   "outputs": [
    {
     "data": {
      "text/plain": [
       "<matplotlib.image.AxesImage at 0x123b4f250>"
      ]
     },
     "execution_count": 63,
     "metadata": {},
     "output_type": "execute_result"
    }
   ],
   "source": [
    "plt.clf()\n",
    "i2 = scipy.ndimage.interpolation.rotate(np.array(resized), 33, axes=(1,0))\n",
    "io.imshow(i2)"
   ]
  },
  {
   "cell_type": "code",
   "execution_count": null,
   "metadata": {
    "collapsed": true
   },
   "outputs": [],
   "source": []
  },
  {
   "cell_type": "code",
   "execution_count": null,
   "metadata": {
    "collapsed": true
   },
   "outputs": [],
   "source": []
  },
  {
   "cell_type": "code",
   "execution_count": null,
   "metadata": {
    "collapsed": true
   },
   "outputs": [],
   "source": []
  },
  {
   "cell_type": "code",
   "execution_count": null,
   "metadata": {
    "collapsed": true
   },
   "outputs": [],
   "source": []
  },
  {
   "cell_type": "code",
   "execution_count": null,
   "metadata": {
    "collapsed": true
   },
   "outputs": [],
   "source": []
  },
  {
   "cell_type": "code",
   "execution_count": null,
   "metadata": {
    "collapsed": false
   },
   "outputs": [],
   "source": [
    "# visualize individual polygons without weighting\n",
    "# in 3D\n",
    "\n",
    "kk = 0\n",
    "fpth = photoList[kk]\n",
    "img = cv2.imread(fpth,0)\n",
    "img = (img < 255) * 1.0\n",
    "\n",
    "# these are the points of interest\n",
    "intPoints = np.array([[768, 1694],[1000, 1694],[1231, 1694]])\n",
    "\n",
    "#img[:, 1000]= 0.9\n",
    "#img[1694, :] = 0.9\n",
    "plt.clf()\n",
    "io.imshow(img, cmap = 'gray')\n",
    "plt.scatter(x = intPoints[:,0], y = intPoints[:,1])\n",
    "\n",
    "\n",
    "\n",
    "# make multiplication matrix\n",
    "mask = np.ones((2000, 2000))\n",
    "\n",
    "# make a matrix to multiply by\n",
    "mask2 = mask \n",
    "io.imshow(mask2 * img, cmap = 'gray')"
   ]
  },
  {
   "cell_type": "code",
   "execution_count": null,
   "metadata": {
    "collapsed": false
   },
   "outputs": [],
   "source": [
    "img = cv2.imread(fpth, 0)\n",
    "img = img / np.max(img)\n",
    "x, y = np.ogrid[0:img.shape[0], 0:img.shape[1]]\n",
    "ax = plt.gca(projection='3d')\n",
    "ax.plot_surface(x, y, 10, rstride=5, cstride=5, facecolors=img)\n",
    "plt.show()"
   ]
  },
  {
   "cell_type": "code",
   "execution_count": null,
   "metadata": {
    "collapsed": false
   },
   "outputs": [],
   "source": [
    "plt.clf()\n",
    "plt.hist(np.ndarray.flatten(stackedImg))\n",
    "plt.ylim([0, 500])"
   ]
  },
  {
   "cell_type": "code",
   "execution_count": null,
   "metadata": {
    "collapsed": false
   },
   "outputs": [],
   "source": [
    "# stack all polygons and visualize\n",
    "stackedImg = np.ones((2000, 2000)) * 0.0\n",
    "\n",
    "\n",
    "\n",
    "for ii in range(len(photoList)):\n",
    "    # read in image\n",
    "    \n",
    "    fpth = photoList[ii]\n",
    "    img = cv2.imread(fpth,0)\n",
    "    img = (img < 255) * 1.0\n",
    "    if ii == 0:\n",
    "        img = cv2.flip(img, 1)\n",
    "    img2 = mask2 * img\n",
    "    stackedImg = img2 + stackedImg\n",
    "    \n",
    "plt.clf()\n",
    "io.imshow(stackedImg)"
   ]
  },
  {
   "cell_type": "code",
   "execution_count": null,
   "metadata": {
    "collapsed": false
   },
   "outputs": [],
   "source": [
    "# resample polygons and flip random ones\n",
    "\n",
    "io.imshow(cv2.flip(img, 1))"
   ]
  },
  {
   "cell_type": "code",
   "execution_count": null,
   "metadata": {
    "collapsed": false
   },
   "outputs": [],
   "source": [
    "def resampleImgs():\n",
    "    # stack all polygons and visualize\n",
    "    stackedImg = np.ones((2000, 2000)) * 0.0\n",
    "\n",
    "    # make multiplication matrix\n",
    "    mask = np.ones((2000, 2000))\n",
    "\n",
    "    # make points exponentially decreasing \n",
    "    # this makes the center probability  == 10 times the outside probability\n",
    "    row1 = (10.0**((np.hstack([range(0, 1000), range(999, -1, -1)]))/231.0))\n",
    "\n",
    "    # normalize\n",
    "    row1 = row1 / np.max(row1)\n",
    "    mask2 = mask * (row1)\n",
    "\n",
    "\n",
    "\n",
    "\n",
    "    #sample photolist\n",
    "    photoSamp = np.random.choice(range(len(photoList)), size=len(photoList), replace=True, p=None)\n",
    "\n",
    "\n",
    "    for ii in photoSamp:\n",
    "        # read in image\n",
    "        fpth = photoList[ii]\n",
    "        img = cv2.imread(fpth,0)\n",
    "        img = (img < 255) * 1.0\n",
    "\n",
    "\n",
    "\n",
    "        #flip coin for whether or not to flip image\n",
    "        flip = np.random.choice([True, False], size=1, replace=True, p=None)\n",
    "        if flip:\n",
    "            img = cv2.flip(img, 1)\n",
    "\n",
    "        img2 = mask2 * img\n",
    "\n",
    "        # stack images\n",
    "        stackedImg = img2 + stackedImg\n",
    "    \n",
    "    return stackedImg"
   ]
  },
  {
   "cell_type": "code",
   "execution_count": null,
   "metadata": {
    "collapsed": false
   },
   "outputs": [],
   "source": [
    "imm = resampleImgs()\n",
    "plt.clf()\n",
    "plt.hist(np.ndarray.flatten(imm))\n",
    "plt.ylim([0, 5000])"
   ]
  },
  {
   "cell_type": "code",
   "execution_count": null,
   "metadata": {
    "collapsed": false
   },
   "outputs": [],
   "source": [
    "plt.clf()\n",
    "io.imshow(imm)"
   ]
  },
  {
   "cell_type": "code",
   "execution_count": null,
   "metadata": {
    "collapsed": false
   },
   "outputs": [],
   "source": [
    "stt = time.time()\n",
    "imStt = np.array([resampleImgs() for ii in range(100)])\n",
    "print time.time() - stt"
   ]
  },
  {
   "cell_type": "code",
   "execution_count": null,
   "metadata": {
    "collapsed": false
   },
   "outputs": [],
   "source": [
    "# sum up arrays to make total bootstrap resample \n",
    "imSum = imStt.sum(axis = 0)\n",
    "\n",
    "# normalize\n",
    "imSum = imSum / np.max(imSum)\n",
    "\n",
    "plt.clf()\n",
    "io.imshow(imSum, cmap = 'magma')\n",
    "plt.xlim([600, 1400])\n",
    "plt.ylim([ 1700, 700])"
   ]
  },
  {
   "cell_type": "code",
   "execution_count": null,
   "metadata": {
    "collapsed": false
   },
   "outputs": [],
   "source": [
    "plt.clf()\n",
    "io.imshow(imSum, cmap = 'YlOrRd')\n",
    "plt.xlim([600, 1400])\n",
    "plt.ylim([ 1700, 700])\n",
    "\n",
    "# add points\n",
    "plt.axis([0, imSum.shape[1], imSum.shape[0], 0])\n",
    "plt.axis('off')\n",
    "\n",
    "plt.gca().set_position([0,0,1,1])\n",
    "plt.gca().set_aspect('equal')\n",
    "\n",
    "intPoints = np.array([[768, 1694],[1000, 1694],[1231, 1694]])\n",
    "plt.scatter(x = intPoints[:,0], y = intPoints[:,1])\n",
    "plt.xlim([600, 1400])\n",
    "plt.ylim([ 1800, 700])\n",
    "\n",
    "plt.show()\n",
    "\n",
    "plt.savefig('PollenHeatmap_Yellow.png')"
   ]
  },
  {
   "cell_type": "code",
   "execution_count": null,
   "metadata": {
    "collapsed": true
   },
   "outputs": [],
   "source": [
    "plt.clf()\n",
    "io.imshow(imSum, cmap = 'Purples')\n",
    "plt.xlim([600, 1400])\n",
    "plt.ylim([ 1700, 700])\n",
    "\n",
    "# add points\n",
    "plt.axis([0, imSum.shape[1], imSum.shape[0], 0])\n",
    "plt.axis('off')\n",
    "\n",
    "plt.gca().set_position([0,0,1,1])\n",
    "plt.gca().set_aspect('equal')\n",
    "\n",
    "intPoints = np.array([[768, 1694],[1000, 1694],[1231, 1694]])\n",
    "plt.scatter(x = intPoints[:,0], y = intPoints[:,1])\n",
    "plt.xlim([600, 1400])\n",
    "plt.ylim([ 1800, 700])\n",
    "\n",
    "plt.show()\n",
    "\n",
    "plt.savefig('PollenHeatmap_Purples.png')"
   ]
  },
  {
   "cell_type": "code",
   "execution_count": null,
   "metadata": {
    "collapsed": true
   },
   "outputs": [],
   "source": [
    "plt.clf()\n",
    "io.imshow(imSum, cmap = 'hot')\n",
    "plt.xlim([600, 1400])\n",
    "plt.ylim([ 1700, 700])\n",
    "\n",
    "# add points\n",
    "plt.axis([0, imSum.shape[1], imSum.shape[0], 0])\n",
    "plt.axis('off')\n",
    "\n",
    "plt.gca().set_position([0,0,1,1])\n",
    "plt.gca().set_aspect('equal')\n",
    "\n",
    "intPoints = np.array([[768, 1694],[1000, 1694],[1231, 1694]])\n",
    "plt.scatter(x = intPoints[:,0], y = intPoints[:,1])\n",
    "plt.xlim([600, 1400])\n",
    "plt.ylim([ 1800, 700])\n",
    "\n",
    "plt.show()\n",
    "\n",
    "plt.savefig('PollenHeatmap_Hot.png')"
   ]
  },
  {
   "cell_type": "code",
   "execution_count": null,
   "metadata": {
    "collapsed": false
   },
   "outputs": [],
   "source": [
    "plt.clf()\n",
    "io.imshow(imSum, cmap = 'magma')\n",
    "plt.xlim([600, 1400])\n",
    "plt.ylim([ 1700, 700])\n",
    "\n",
    "# add points\n",
    "plt.axis([0, imSum.shape[1], imSum.shape[0], 0])\n",
    "plt.axis('off')\n",
    "\n",
    "plt.gca().set_position([0,0,1,1])\n",
    "plt.gca().set_aspect('equal')\n",
    "\n",
    "intPoints = np.array([[768, 1694],[1000, 1694],[1231, 1694]])\n",
    "plt.scatter(x = intPoints[:,0], y = intPoints[:,1])\n",
    "plt.xlim([600, 1400])\n",
    "plt.ylim([ 1800, 700])\n",
    "\n",
    "plt.show()\n",
    "\n",
    "plt.savefig('PollenHeatmap.png')"
   ]
  },
  {
   "cell_type": "code",
   "execution_count": null,
   "metadata": {
    "collapsed": false
   },
   "outputs": [],
   "source": [
    "plt.clf()\n",
    "io.imshow(imSum, cmap = 'gray_r')\n",
    "plt.xlim([600, 1400])\n",
    "plt.ylim([ 1700, 700])\n",
    "\n",
    "# add points\n",
    "#plt.axis([0, imSum.shape[1], imSum.shape[0], 0])\n",
    "#plt.axis('off')\n",
    "\n",
    "#plt.gca().set_position([0,0,1,1])\n",
    "#plt.gca().set_aspect('equal')\n",
    "\n",
    "intPoints = np.array([[768, 1694],[1000, 1694],[1231, 1694]])\n",
    "plt.scatter(x = intPoints[:,0], y = intPoints[:,1])\n",
    "plt.xlim([600, 1400])\n",
    "plt.ylim([ 1800, 700])\n",
    "\n",
    "plt.show()\n",
    "\n",
    "#plt.savefig('PollenHeatmap_BW.png')"
   ]
  },
  {
   "cell_type": "code",
   "execution_count": null,
   "metadata": {
    "collapsed": false
   },
   "outputs": [],
   "source": [
    "plt.clf()\n",
    "plt.hist(np.ndarray.flatten(imSum), bins = 100)\n",
    "plt.ylim([0, 5000])"
   ]
  },
  {
   "cell_type": "code",
   "execution_count": null,
   "metadata": {
    "collapsed": false
   },
   "outputs": [],
   "source": [
    "# plot with colorbar\n",
    "\n",
    "plt.close('all')\n",
    "\n",
    "fig, ax = plt.subplots()\n",
    "im = ax.imshow(imSum, cmap = 'gray_r')\n",
    "cax = fig.add_axes([0.78, 0.2, 0.05, 0.6])\n",
    "fig.colorbar(im, cax=cax, orientation='vertical')\n",
    "# plt.xlim([600, 1400])\n",
    "# plt.ylim([ 1700, 700])\n",
    "\n",
    "ax.axis('off')\n",
    "\n",
    "ax.set_xlim([600, 1400])\n",
    "ax.set_ylim([ 1800, 700])\n",
    "\n",
    "intPoints = np.array([[768, 1694],[1000, 1694],[1231, 1694]])\n",
    "ax.scatter(x = intPoints[:,0], y = intPoints[:,1])\n",
    "\n",
    "plt.show()\n",
    "plt.savefig('PollenHeatmap_BW_colorbar.png')"
   ]
  },
  {
   "cell_type": "code",
   "execution_count": null,
   "metadata": {
    "collapsed": true
   },
   "outputs": [],
   "source": [
    "data = np.arange(100, 0, -1).reshape(10, 10)\n",
    "\n",
    "fig, ax = plt.subplots()\n",
    "#cax = fig.add_axes([0.27, 0.8, 0.5, 0.05])\n",
    "\n",
    "im = ax.imshow(data, cmap='gist_earth')\n",
    "fig.colorbar(im, cax=cax, orientation='horizontal')\n",
    "plt.show()"
   ]
  },
  {
   "cell_type": "code",
   "execution_count": null,
   "metadata": {
    "collapsed": true
   },
   "outputs": [],
   "source": []
  }
 ],
 "metadata": {
  "anaconda-cloud": {},
  "kernelspec": {
   "display_name": "Python [conda env:mayavi_env]",
   "language": "python",
   "name": "conda-env-mayavi_env-py"
  },
  "language_info": {
   "codemirror_mode": {
    "name": "ipython",
    "version": 2
   },
   "file_extension": ".py",
   "mimetype": "text/x-python",
   "name": "python",
   "nbconvert_exporter": "python",
   "pygments_lexer": "ipython2",
   "version": "2.7.12"
  }
 },
 "nbformat": 4,
 "nbformat_minor": 1
}
