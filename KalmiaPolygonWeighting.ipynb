{
 "cells": [
  {
   "cell_type": "markdown",
   "metadata": {},
   "source": [
    "### Callin Switzer\n",
    "\n",
    "1 Nov 2016\n",
    "\n",
    "-Read in all the Kalmia polygon images (from R KalmiaVisualizePolygons_V2.R)\n",
    "\n",
    "-Weight pixels with increasing values as they get closer to zero\n",
    "\n",
    "-Resample all of the images\n",
    "\n",
    "-Stack resampled images\n",
    "\n",
    "-Visualize a heatmap\n",
    "\n",
    "-Save heatmap"
   ]
  },
  {
   "cell_type": "code",
   "execution_count": 463,
   "metadata": {
    "collapsed": false
   },
   "outputs": [],
   "source": [
    "import cv2\n",
    "\n",
    "import numpy as np\n",
    "import matplotlib\n",
    "matplotlib.use(\"TkAgg\") # have to use this for tkinter to  work below\n",
    "from matplotlib import pyplot as plt\n",
    "%matplotlib tk\n",
    "\n",
    "# scikit image\n",
    "import skimage\n",
    "from skimage import io\n",
    "\n",
    "import os\n",
    "import pandas as pd\n",
    "import time"
   ]
  },
  {
   "cell_type": "code",
   "execution_count": 411,
   "metadata": {
    "collapsed": true
   },
   "outputs": [],
   "source": [
    "%qtconsole"
   ]
  },
  {
   "cell_type": "code",
   "execution_count": 3,
   "metadata": {
    "collapsed": true
   },
   "outputs": [],
   "source": [
    "# list files in directory"
   ]
  },
  {
   "cell_type": "code",
   "execution_count": 89,
   "metadata": {
    "collapsed": true
   },
   "outputs": [],
   "source": [
    "os.chdir(\"/Users/callinswitzer/Dropbox/KalmiaProject/KalmiaExamples/KalmiaManualTrig_VidsToProcess/\")"
   ]
  },
  {
   "cell_type": "code",
   "execution_count": 319,
   "metadata": {
    "collapsed": false
   },
   "outputs": [],
   "source": [
    "# list files in directory\n",
    "mypath = os.getcwd()\n",
    "onlyfiles = [f for f in os.listdir(mypath) if os.path.isfile(os.path.join(mypath, f))]\n",
    "photoList = [ x for x in onlyfiles if not x.startswith('.') and x.endswith('.png')]"
   ]
  },
  {
   "cell_type": "code",
   "execution_count": 556,
   "metadata": {
    "collapsed": false
   },
   "outputs": [
    {
     "name": "stdout",
     "output_type": "stream",
     "text": [
      "0.1 1.0 0.1\n",
      "10.0\n"
     ]
    }
   ],
   "source": [
    "# visualize individual polygons with weighting\n",
    "\n",
    "kk = 0\n",
    "fpth = photoList[kk]\n",
    "img = cv2.imread(fpth,0)\n",
    "img = (img < 255) * 1.0\n",
    "\n",
    "# these are the points of interest\n",
    "intPoints = np.array([[768, 1694],[1000, 1694],[1231, 1694]])\n",
    "\n",
    "#img[:, 1000]= 0.9\n",
    "#img[1694, :] = 0.9\n",
    "plt.clf()\n",
    "io.imshow(img, cmap = 'gray')\n",
    "plt.scatter(x = intPoints[:,0], y = intPoints[:,1])\n",
    "\n",
    "\n",
    "\n",
    "# make multiplication matrix\n",
    "mask = np.ones((2000, 2000))\n",
    "\n",
    "# make points exponentially decreasing \n",
    "# this makes the center probability  == 10 times the outside probability\n",
    "row1 = (10.0**((np.hstack([range(0, 1000), range(999, -1, -1)]))/231.0))\n",
    "\n",
    "# normalize\n",
    "row1 = row1 / np.max(row1)\n",
    "\n",
    "# make a matrix to multiply by\n",
    "mask2 = mask * (row1 )\n",
    "io.imshow(mask2 * img, cmap = 'gray')\n",
    "print row1[768], row1[1000], row1[1231]\n",
    "print  row1[1000] / float(row1[768])"
   ]
  },
  {
   "cell_type": "code",
   "execution_count": 561,
   "metadata": {
    "collapsed": false
   },
   "outputs": [
    {
     "data": {
      "text/plain": [
       "<matplotlib.image.AxesImage at 0x5c0d5c710>"
      ]
     },
     "execution_count": 561,
     "metadata": {},
     "output_type": "execute_result"
    }
   ],
   "source": [
    "# stack all polygons and visualize without weighting\n",
    "stackedImg = np.ones((2000, 2000)) * 0.0\n",
    "\n",
    "\n",
    "\n",
    "for ii in range(len(photoList)):\n",
    "    # read in image\n",
    "    \n",
    "    fpth = photoList[ii]\n",
    "    img = cv2.imread(fpth,0)\n",
    "    img = (img < 255) * 1.0\n",
    "    if ii == 0:\n",
    "        img = cv2.flip(img, 1)\n",
    "    img2 = mask * img\n",
    "    stackedImg = img2 + stackedImg\n",
    "    \n",
    "plt.clf()\n",
    "io.imshow(stackedImg, cmap = 'YlOrRd')"
   ]
  },
  {
   "cell_type": "code",
   "execution_count": 566,
   "metadata": {
    "collapsed": true
   },
   "outputs": [],
   "source": [
    "# resample stacked images without weighting\n",
    "def resampleImgsNoWeight():\n",
    "    # stack all polygons and visualize\n",
    "    stackedImg = np.ones((2000, 2000)) * 0.0\n",
    "\n",
    "    # make multiplication matrix\n",
    "    mask = np.ones((2000, 2000))\n",
    "\n",
    "    photoSamp = np.random.choice(range(len(photoList)), size=len(photoList), replace=True, p=None)\n",
    "\n",
    "\n",
    "    for ii in photoSamp:\n",
    "        # read in image\n",
    "        fpth = photoList[ii]\n",
    "        img = cv2.imread(fpth,0)\n",
    "        img = (img < 255) * 1.0\n",
    "\n",
    "\n",
    "\n",
    "        #flip coin for whether or not to flip image\n",
    "        if fpth == '20160615_121016.png':\n",
    "            img = cv2.flip(img, 1)\n",
    "\n",
    "        img2 = mask * img\n",
    "\n",
    "        # stack images\n",
    "        stackedImg = img2 + stackedImg\n",
    "    \n",
    "    return stackedImg"
   ]
  },
  {
   "cell_type": "code",
   "execution_count": 567,
   "metadata": {
    "collapsed": true
   },
   "outputs": [],
   "source": [
    "img1 = resampleImgsNoWeight()"
   ]
  },
  {
   "cell_type": "code",
   "execution_count": 568,
   "metadata": {
    "collapsed": false
   },
   "outputs": [
    {
     "data": {
      "text/plain": [
       "<matplotlib.image.AxesImage at 0x5c1c63f10>"
      ]
     },
     "execution_count": 568,
     "metadata": {},
     "output_type": "execute_result"
    }
   ],
   "source": [
    "plt.clf()\n",
    "io.imshow(img1)"
   ]
  },
  {
   "cell_type": "code",
   "execution_count": 648,
   "metadata": {
    "collapsed": false
   },
   "outputs": [
    {
     "name": "stdout",
     "output_type": "stream",
     "text": [
      "226.997791052\n"
     ]
    }
   ],
   "source": [
    "stt = time.time()\n",
    "imStt = np.array([resampleImgsNoWeight() for ii in range(100)])\n",
    "print time.time() - stt"
   ]
  },
  {
   "cell_type": "code",
   "execution_count": 649,
   "metadata": {
    "collapsed": false
   },
   "outputs": [
    {
     "data": {
      "text/plain": [
       "<matplotlib.collections.PathCollection at 0x5bec8d8d0>"
      ]
     },
     "execution_count": 649,
     "metadata": {},
     "output_type": "execute_result"
    }
   ],
   "source": [
    "# sum up arrays to make total bootstrap resample \n",
    "imSum = imStt.sum(axis = 0)\n",
    "\n",
    "# normalize\n",
    "imSum = imSum / np.max(imSum)\n",
    "\n",
    "plt.clf()\n",
    "io.imshow(imSum, cmap = 'magma')\n",
    "plt.xlim([600, 1400])\n",
    "plt.ylim([ 1700, 700])\n",
    "plt.scatter(x = intPoints[:,0], y = intPoints[:,1])"
   ]
  },
  {
   "cell_type": "code",
   "execution_count": 654,
   "metadata": {
    "collapsed": false
   },
   "outputs": [
    {
     "data": {
      "text/plain": [
       "'/Users/callinswitzer/Dropbox/KalmiaProject/KalmiaExamples/KalmiaManualTrig_VidsToProcess/20160615_121016.png'"
      ]
     },
     "execution_count": 654,
     "metadata": {},
     "output_type": "execute_result"
    }
   ],
   "source": [
    "os.path.abspath(photoList[kk])"
   ]
  },
  {
   "cell_type": "code",
   "execution_count": 653,
   "metadata": {
    "collapsed": false
   },
   "outputs": [],
   "source": [
    "# add  blur\n",
    "plt.clf()\n",
    "kernel = np.ones((100,100),np.float32)/25\n",
    "imSum2 = np.array(cv2.filter2D(imSum.copy(),-1,kernel))\n",
    "\n",
    "# normalize\n",
    "imSum2 = imSum2 / np.max(imSum2) * 100\n",
    "\n",
    "\n",
    "plt.close('all')\n",
    "\n",
    "fig, ax = plt.subplots()\n",
    "im = ax.imshow(imSum2, cmap = 'Purples')\n",
    "cax = fig.add_axes([0.78, 0.2, 0.05, 0.6])\n",
    "fig.colorbar(im, cax=cax, orientation='vertical')\n",
    "\n",
    "# add contour lines\n",
    "ax.contour(imSum2, levels = range(10, 100, 20))\n",
    "# plt.xlim([600, 1400])\n",
    "# plt.ylim([ 1700, 700])\n",
    "\n",
    "ax.axis('off')\n",
    "\n",
    "ax.set_xlim([600, 1900])\n",
    "ax.set_ylim([ 1800, 700])\n",
    "\n",
    "intPoints = np.array([[768, 1694],[1000, 1694],[1231, 1694]])\n",
    "ax.scatter(x = intPoints[:,0], y = intPoints[:,1])\n",
    "\n",
    "plt.show()\n",
    "\n",
    "plt.savefig('SingleAntherHeatmap_Purples.png')"
   ]
  },
  {
   "cell_type": "code",
   "execution_count": 627,
   "metadata": {
    "collapsed": false
   },
   "outputs": [
    {
     "data": {
      "text/plain": [
       "<matplotlib.contour.QuadContourSet at 0x5c8162390>"
      ]
     },
     "execution_count": 627,
     "metadata": {},
     "output_type": "execute_result"
    }
   ],
   "source": []
  },
  {
   "cell_type": "code",
   "execution_count": 597,
   "metadata": {
    "collapsed": false
   },
   "outputs": [
    {
     "data": {
      "text/plain": [
       "<matplotlib.image.AxesImage at 0x5c55cbc10>"
      ]
     },
     "execution_count": 597,
     "metadata": {},
     "output_type": "execute_result"
    }
   ],
   "source": [
    "plt.clf()\n",
    "io.imshow(np.array(imSum2), cmap = 'magma')"
   ]
  },
  {
   "cell_type": "code",
   "execution_count": 610,
   "metadata": {
    "collapsed": true
   },
   "outputs": [],
   "source": [
    "%qtconsole"
   ]
  },
  {
   "cell_type": "code",
   "execution_count": null,
   "metadata": {
    "collapsed": true
   },
   "outputs": [],
   "source": []
  },
  {
   "cell_type": "code",
   "execution_count": 449,
   "metadata": {
    "collapsed": false
   },
   "outputs": [
    {
     "data": {
      "text/plain": [
       "(0, 500)"
      ]
     },
     "execution_count": 449,
     "metadata": {},
     "output_type": "execute_result"
    }
   ],
   "source": [
    "plt.clf()\n",
    "plt.hist(np.ndarray.flatten(stackedImg))\n",
    "plt.ylim([0, 500])"
   ]
  },
  {
   "cell_type": "code",
   "execution_count": 444,
   "metadata": {
    "collapsed": false
   },
   "outputs": [
    {
     "data": {
      "text/plain": [
       "<matplotlib.image.AxesImage at 0x3dc5b1850>"
      ]
     },
     "execution_count": 444,
     "metadata": {},
     "output_type": "execute_result"
    }
   ],
   "source": [
    "# stack all polygons and visualize, with weighting\n",
    "stackedImg = np.ones((2000, 2000)) * 0.0\n",
    "\n",
    "# make multiplication matrix\n",
    "mask = np.ones((2000, 2000))\n",
    "\n",
    "# make points exponentially decreasing \n",
    "# this makes the center probability  == 10 times the outside probability\n",
    "row1 = (10.0**((np.hstack([range(0, 1000), range(999, -1, -1)]))/231.0))\n",
    "\n",
    "# normalize\n",
    "row1 = row1 / np.max(row1)\n",
    "mask2 = mask * (row1)\n",
    "\n",
    "\n",
    "for ii in range(len(photoList)):\n",
    "    # read in image\n",
    "    fpth = photoList[ii]\n",
    "    img = cv2.imread(fpth,0)\n",
    "    img = (img < 255) * 1.0\n",
    "    img2 = mask2 * img\n",
    "    stackedImg = img2 + stackedImg\n",
    "    \n",
    "plt.clf()\n",
    "io.imshow(stackedImg)"
   ]
  },
  {
   "cell_type": "code",
   "execution_count": 328,
   "metadata": {
    "collapsed": false
   },
   "outputs": [
    {
     "data": {
      "text/plain": [
       "<matplotlib.image.AxesImage at 0x2a3b7db50>"
      ]
     },
     "execution_count": 328,
     "metadata": {},
     "output_type": "execute_result"
    }
   ],
   "source": [
    "# resample polygons and flip random ones\n",
    "\n",
    "io.imshow(cv2.flip(img, 1))"
   ]
  },
  {
   "cell_type": "code",
   "execution_count": 450,
   "metadata": {
    "collapsed": false
   },
   "outputs": [],
   "source": [
    "def resampleImgs():\n",
    "    # stack all polygons and visualize\n",
    "    stackedImg = np.ones((2000, 2000)) * 0.0\n",
    "\n",
    "    # make multiplication matrix\n",
    "    mask = np.ones((2000, 2000))\n",
    "\n",
    "    # make points exponentially decreasing \n",
    "    # this makes the center probability  == 10 times the outside probability\n",
    "    row1 = (10.0**((np.hstack([range(0, 1000), range(999, -1, -1)]))/231.0))\n",
    "\n",
    "    # normalize\n",
    "    row1 = row1 / np.max(row1)\n",
    "    mask2 = mask * (row1)\n",
    "\n",
    "\n",
    "\n",
    "\n",
    "    #sample photolist\n",
    "    photoSamp = np.random.choice(range(len(photoList)), size=len(photoList), replace=True, p=None)\n",
    "\n",
    "\n",
    "    for ii in photoSamp:\n",
    "        # read in image\n",
    "        fpth = photoList[ii]\n",
    "        img = cv2.imread(fpth,0)\n",
    "        img = (img < 255) * 1.0\n",
    "\n",
    "\n",
    "\n",
    "        #flip coin for whether or not to flip image\n",
    "        flip = np.random.choice([True, False], size=1, replace=True, p=None)\n",
    "        if flip:\n",
    "            img = cv2.flip(img, 1)\n",
    "\n",
    "        img2 = mask2 * img\n",
    "\n",
    "        # stack images\n",
    "        stackedImg = img2 + stackedImg\n",
    "    \n",
    "    return stackedImg"
   ]
  },
  {
   "cell_type": "code",
   "execution_count": 454,
   "metadata": {
    "collapsed": false
   },
   "outputs": [
    {
     "data": {
      "text/plain": [
       "(0, 5000)"
      ]
     },
     "execution_count": 454,
     "metadata": {},
     "output_type": "execute_result"
    }
   ],
   "source": [
    "imm = resampleImgs()\n",
    "plt.clf()\n",
    "plt.hist(np.ndarray.flatten(imm))\n",
    "plt.ylim([0, 5000])"
   ]
  },
  {
   "cell_type": "code",
   "execution_count": 455,
   "metadata": {
    "collapsed": false
   },
   "outputs": [
    {
     "data": {
      "text/plain": [
       "<matplotlib.image.AxesImage at 0x611f850d0>"
      ]
     },
     "execution_count": 455,
     "metadata": {},
     "output_type": "execute_result"
    }
   ],
   "source": [
    "plt.clf()\n",
    "io.imshow(imm)"
   ]
  },
  {
   "cell_type": "code",
   "execution_count": 629,
   "metadata": {
    "collapsed": false
   },
   "outputs": [
    {
     "name": "stdout",
     "output_type": "stream",
     "text": [
      "27.2174310684\n"
     ]
    }
   ],
   "source": [
    "stt = time.time()\n",
    "imStt = np.array([resampleImgs() for ii in range(10)])\n",
    "print time.time() - stt"
   ]
  },
  {
   "cell_type": "code",
   "execution_count": 630,
   "metadata": {
    "collapsed": false
   },
   "outputs": [
    {
     "data": {
      "text/plain": [
       "(1700, 700)"
      ]
     },
     "execution_count": 630,
     "metadata": {},
     "output_type": "execute_result"
    }
   ],
   "source": [
    "# sum up arrays to make total bootstrap resample \n",
    "imSum = imStt.sum(axis = 0)\n",
    "\n",
    "# normalize\n",
    "imSum = imSum / np.max(imSum)\n",
    "\n",
    "plt.clf()\n",
    "io.imshow(imSum, cmap = 'magma')\n",
    "plt.xlim([600, 1400])\n",
    "plt.ylim([ 1700, 700])"
   ]
  },
  {
   "cell_type": "code",
   "execution_count": 496,
   "metadata": {
    "collapsed": false
   },
   "outputs": [],
   "source": [
    "plt.clf()\n",
    "io.imshow(imSum, cmap = 'YlOrRd')\n",
    "plt.xlim([600, 1400])\n",
    "plt.ylim([ 1700, 700])\n",
    "\n",
    "# add points\n",
    "plt.axis([0, imSum.shape[1], imSum.shape[0], 0])\n",
    "plt.axis('off')\n",
    "\n",
    "plt.gca().set_position([0,0,1,1])\n",
    "plt.gca().set_aspect('equal')\n",
    "\n",
    "intPoints = np.array([[768, 1694],[1000, 1694],[1231, 1694]])\n",
    "plt.scatter(x = intPoints[:,0], y = intPoints[:,1])\n",
    "plt.xlim([600, 1400])\n",
    "plt.ylim([ 1800, 700])\n",
    "\n",
    "plt.show()\n",
    "\n",
    "plt.savefig('PollenHeatmap_Yellow.png')"
   ]
  },
  {
   "cell_type": "code",
   "execution_count": 495,
   "metadata": {
    "collapsed": true
   },
   "outputs": [],
   "source": [
    "plt.clf()\n",
    "io.imshow(imSum, cmap = 'Purples')\n",
    "plt.xlim([600, 1400])\n",
    "plt.ylim([ 1700, 700])\n",
    "\n",
    "# add points\n",
    "plt.axis([0, imSum.shape[1], imSum.shape[0], 0])\n",
    "plt.axis('off')\n",
    "\n",
    "plt.gca().set_position([0,0,1,1])\n",
    "plt.gca().set_aspect('equal')\n",
    "\n",
    "intPoints = np.array([[768, 1694],[1000, 1694],[1231, 1694]])\n",
    "plt.scatter(x = intPoints[:,0], y = intPoints[:,1])\n",
    "plt.xlim([600, 1400])\n",
    "plt.ylim([ 1800, 700])\n",
    "\n",
    "plt.show()\n",
    "\n",
    "plt.savefig('PollenHeatmap_Purples.png')"
   ]
  },
  {
   "cell_type": "code",
   "execution_count": 499,
   "metadata": {
    "collapsed": true
   },
   "outputs": [],
   "source": [
    "plt.clf()\n",
    "io.imshow(imSum, cmap = 'hot')\n",
    "plt.xlim([600, 1400])\n",
    "plt.ylim([ 1700, 700])\n",
    "\n",
    "# add points\n",
    "plt.axis([0, imSum.shape[1], imSum.shape[0], 0])\n",
    "plt.axis('off')\n",
    "\n",
    "plt.gca().set_position([0,0,1,1])\n",
    "plt.gca().set_aspect('equal')\n",
    "\n",
    "intPoints = np.array([[768, 1694],[1000, 1694],[1231, 1694]])\n",
    "plt.scatter(x = intPoints[:,0], y = intPoints[:,1])\n",
    "plt.xlim([600, 1400])\n",
    "plt.ylim([ 1800, 700])\n",
    "\n",
    "plt.show()\n",
    "\n",
    "plt.savefig('PollenHeatmap_Hot.png')"
   ]
  },
  {
   "cell_type": "code",
   "execution_count": 469,
   "metadata": {
    "collapsed": false
   },
   "outputs": [
    {
     "data": {
      "text/plain": [
       "(2000, 2000)"
      ]
     },
     "execution_count": 469,
     "metadata": {},
     "output_type": "execute_result"
    }
   ],
   "source": [
    "plt.clf()\n",
    "io.imshow(imSum, cmap = 'magma')\n",
    "plt.xlim([600, 1400])\n",
    "plt.ylim([ 1700, 700])\n",
    "\n",
    "# add points\n",
    "plt.axis([0, imSum.shape[1], imSum.shape[0], 0])\n",
    "plt.axis('off')\n",
    "\n",
    "plt.gca().set_position([0,0,1,1])\n",
    "plt.gca().set_aspect('equal')\n",
    "\n",
    "intPoints = np.array([[768, 1694],[1000, 1694],[1231, 1694]])\n",
    "plt.scatter(x = intPoints[:,0], y = intPoints[:,1])\n",
    "plt.xlim([600, 1400])\n",
    "plt.ylim([ 1800, 700])\n",
    "\n",
    "plt.show()\n",
    "\n",
    "plt.savefig('PollenHeatmap.png')"
   ]
  },
  {
   "cell_type": "code",
   "execution_count": 507,
   "metadata": {
    "collapsed": false
   },
   "outputs": [],
   "source": [
    "plt.clf()\n",
    "io.imshow(imSum, cmap = 'gray_r')\n",
    "plt.xlim([600, 1400])\n",
    "plt.ylim([ 1700, 700])\n",
    "\n",
    "# add points\n",
    "#plt.axis([0, imSum.shape[1], imSum.shape[0], 0])\n",
    "#plt.axis('off')\n",
    "\n",
    "#plt.gca().set_position([0,0,1,1])\n",
    "#plt.gca().set_aspect('equal')\n",
    "\n",
    "intPoints = np.array([[768, 1694],[1000, 1694],[1231, 1694]])\n",
    "plt.scatter(x = intPoints[:,0], y = intPoints[:,1])\n",
    "plt.xlim([600, 1400])\n",
    "plt.ylim([ 1800, 700])\n",
    "\n",
    "plt.show()\n",
    "\n",
    "#plt.savefig('PollenHeatmap_BW.png')"
   ]
  },
  {
   "cell_type": "code",
   "execution_count": 471,
   "metadata": {
    "collapsed": false
   },
   "outputs": [
    {
     "data": {
      "text/plain": [
       "(0, 5000)"
      ]
     },
     "execution_count": 471,
     "metadata": {},
     "output_type": "execute_result"
    }
   ],
   "source": [
    "plt.clf()\n",
    "plt.hist(np.ndarray.flatten(imSum), bins = 100)\n",
    "plt.ylim([0, 5000])"
   ]
  },
  {
   "cell_type": "code",
   "execution_count": 646,
   "metadata": {
    "collapsed": false
   },
   "outputs": [],
   "source": [
    "# plot with colorbar\n",
    "# add blur and contour lines\n",
    "# \n",
    "\n",
    "# sum up arrays to make total bootstrap resample \n",
    "imSum = imStt.sum(axis = 0)\n",
    "\n",
    "# normalize\n",
    "imSum = imSum / np.max(imSum) *100\n",
    "\n",
    "\n",
    "kernel = np.ones((50,50),np.float32)/25\n",
    "imSum2 = np.array(cv2.filter2D(imSum.copy(),-1,kernel))\n",
    "# normalize\n",
    "imSum2 = imSum2 / np.max(imSum2) * 100\n",
    "\n",
    "plt.close('all')\n",
    "\n",
    "fig, ax = plt.subplots()\n",
    "im = ax.imshow(imSum2, cmap = 'gray_r')\n",
    "cax = fig.add_axes([0.78, 0.2, 0.05, 0.6])\n",
    "fig.colorbar(im, cax=cax, orientation='vertical')\n",
    "# plt.xlim([600, 1400])\n",
    "# plt.ylim([ 1700, 700])\n",
    "\n",
    "ax.axis('off')\n",
    "\n",
    "ax.set_xlim([600, 1400])\n",
    "ax.set_ylim([ 1800, 700])\n",
    "\n",
    "intPoints = np.array([[768, 1694],[1000, 1694],[1231, 1694]])\n",
    "ax.scatter(x = intPoints[:,0], y = intPoints[:,1])\n",
    "ax.contour(imSum2, levels = range(10, 100, 20), cmap = 'Reds_r')\n",
    "\n",
    "plt.show()\n",
    "plt.savefig('PollenHeatmap_BW_colorbar_Blur.png')"
   ]
  },
  {
   "cell_type": "code",
   "execution_count": 519,
   "metadata": {
    "collapsed": true
   },
   "outputs": [],
   "source": [
    "data = np.arange(100, 0, -1).reshape(10, 10)\n",
    "\n",
    "fig, ax = plt.subplots()\n",
    "#cax = fig.add_axes([0.27, 0.8, 0.5, 0.05])\n",
    "\n",
    "im = ax.imshow(data, cmap='gist_earth')\n",
    "fig.colorbar(im, cax=cax, orientation='horizontal')\n",
    "plt.show()"
   ]
  },
  {
   "cell_type": "code",
   "execution_count": null,
   "metadata": {
    "collapsed": true
   },
   "outputs": [],
   "source": []
  }
 ],
 "metadata": {
  "anaconda-cloud": {},
  "kernelspec": {
   "display_name": "Python [default]",
   "language": "python",
   "name": "python2"
  },
  "language_info": {
   "codemirror_mode": {
    "name": "ipython",
    "version": 2
   },
   "file_extension": ".py",
   "mimetype": "text/x-python",
   "name": "python",
   "nbconvert_exporter": "python",
   "pygments_lexer": "ipython2",
   "version": "2.7.9"
  }
 },
 "nbformat": 4,
 "nbformat_minor": 1
}
