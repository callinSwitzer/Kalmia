{
 "cells": [
  {
   "cell_type": "markdown",
   "metadata": {},
   "source": [
    "### Callin Switzer\n",
    "\n",
    "3 Nov 2016\n",
    "\n",
    "Make sure to use mayave_env (source activate mayavi_env)\n",
    "To activate this environment, use:\n",
    "> source activate mayavi_env\n",
    "\n",
    "To deactivate this environment, use:\n",
    "> source deactivate mayavi_env\n",
    "\n",
    "\n",
    "-Read in all the Kalmia polygon images (from R KalmiaVisualizePolygons_V2.R)\n",
    "\n",
    "-visualize in 3D\n",
    "\n",
    "-Resample all of the images\n",
    "\n",
    "-Stack resampled images (in 3D)\n",
    "\n",
    "-Visualize a heatmap\n",
    "\n",
    "-Save heatmap"
   ]
  },
  {
   "cell_type": "code",
   "execution_count": 1,
   "metadata": {
    "collapsed": false
   },
   "outputs": [
    {
     "ename": "ImportError",
     "evalue": "No module named mayavi",
     "output_type": "error",
     "traceback": [
      "\u001b[0;31m---------------------------------------------------------------------------\u001b[0m",
      "\u001b[0;31mImportError\u001b[0m                               Traceback (most recent call last)",
      "\u001b[0;32m<ipython-input-1-b126ccfe2529>\u001b[0m in \u001b[0;36m<module>\u001b[0;34m()\u001b[0m\n\u001b[0;32m----> 1\u001b[0;31m \u001b[0;32mimport\u001b[0m \u001b[0mmayavi\u001b[0m\u001b[0;34m\u001b[0m\u001b[0m\n\u001b[0m",
      "\u001b[0;31mImportError\u001b[0m: No module named mayavi"
     ]
    }
   ],
   "source": [
    "import mayavi"
   ]
  },
  {
   "cell_type": "code",
   "execution_count": 3,
   "metadata": {
    "collapsed": false
   },
   "outputs": [
    {
     "ename": "ImportError",
     "evalue": "No module named mayavi",
     "output_type": "error",
     "traceback": [
      "\u001b[0;31m---------------------------------------------------------------------------\u001b[0m",
      "\u001b[0;31mImportError\u001b[0m                               Traceback (most recent call last)",
      "\u001b[0;32m<ipython-input-3-1ddf4433512a>\u001b[0m in \u001b[0;36m<module>\u001b[0;34m()\u001b[0m\n\u001b[1;32m     15\u001b[0m \u001b[0;32mimport\u001b[0m \u001b[0mscipy\u001b[0m\u001b[0;34m\u001b[0m\u001b[0m\n\u001b[1;32m     16\u001b[0m \u001b[0;32mfrom\u001b[0m \u001b[0mscipy\u001b[0m \u001b[0;32mimport\u001b[0m \u001b[0mstats\u001b[0m\u001b[0;34m\u001b[0m\u001b[0m\n\u001b[0;32m---> 17\u001b[0;31m \u001b[0;32mfrom\u001b[0m \u001b[0mmayavi\u001b[0m \u001b[0;32mimport\u001b[0m \u001b[0mmlab\u001b[0m\u001b[0;34m\u001b[0m\u001b[0m\n\u001b[0m\u001b[1;32m     18\u001b[0m \u001b[0;34m\u001b[0m\u001b[0m\n\u001b[1;32m     19\u001b[0m \u001b[0;32mfrom\u001b[0m \u001b[0mmpl_toolkits\u001b[0m\u001b[0;34m.\u001b[0m\u001b[0mmplot3d\u001b[0m \u001b[0;32mimport\u001b[0m \u001b[0mAxes3D\u001b[0m\u001b[0;34m\u001b[0m\u001b[0m\n",
      "\u001b[0;31mImportError\u001b[0m: No module named mayavi"
     ]
    }
   ],
   "source": [
    "import numpy as np\n",
    "import matplotlib\n",
    "matplotlib.use(\"TkAgg\") # have to use this for tkinter to  work below\n",
    "from matplotlib import pyplot as plt\n",
    "%matplotlib tk\n",
    "\n",
    "# scikit image\n",
    "import skimage\n",
    "from skimage import io\n",
    "\n",
    "import os\n",
    "import pandas as pd\n",
    "import time\n",
    "\n",
    "import scipy\n",
    "from scipy import stats\n",
    "from mayavi import mlab\n",
    "\n",
    "from mpl_toolkits.mplot3d import Axes3D\n",
    "import sys"
   ]
  },
  {
   "cell_type": "code",
   "execution_count": 2,
   "metadata": {
    "collapsed": true
   },
   "outputs": [],
   "source": [
    "%qtconsole"
   ]
  },
  {
   "cell_type": "markdown",
   "metadata": {},
   "source": [
    "May want to look at this: http://stackoverflow.com/questions/25286811/how-to-plot-a-3d-density-map-in-python-with-matplotlib"
   ]
  },
  {
   "cell_type": "code",
   "execution_count": null,
   "metadata": {
    "collapsed": true
   },
   "outputs": [],
   "source": [
    "import numpy as np\n"
   ]
  },
  {
   "cell_type": "code",
   "execution_count": 8,
   "metadata": {
    "collapsed": true
   },
   "outputs": [],
   "source": [
    "import numpy as np\n",
    "from numpy import sin, cos, pi\n",
    "from skimage import measure\n",
    "import matplotlib.pyplot as plt\n",
    "from mpl_toolkits.mplot3d import Axes3D\n",
    "\n",
    "\n",
    "def fun(x, y, z):\n",
    "    return cos(x) + cos(y) + cos(z)\n",
    "\n",
    "x, y, z = pi*np.mgrid[-1:1:31j, -1:1:31j, -1:1:31j]\n",
    "vol = fun(x, y, z)\n",
    "verts, faces = measure.marching_cubes(vol, 0, spacing=(0.1, 0.1, 0.1))\n",
    "\n",
    "fig = plt.figure()\n",
    "ax = fig.add_subplot(111, projection='3d')\n",
    "ax.plot_trisurf(verts[:, 0], verts[:,1], faces, verts[:, 2],\n",
    "                cmap='Spectral', lw=1, alpha = 0.2, edgecolor = 'none')\n",
    "plt.show()"
   ]
  },
  {
   "cell_type": "code",
   "execution_count": 12,
   "metadata": {
    "collapsed": true
   },
   "outputs": [],
   "source": [
    "# list files in directory"
   ]
  },
  {
   "cell_type": "code",
   "execution_count": 13,
   "metadata": {
    "collapsed": true
   },
   "outputs": [],
   "source": [
    "os.chdir(\"/Users/callinswitzer/Dropbox/KalmiaProject/KalmiaExamples/KalmiaManualTrig_VidsToProcess/\")"
   ]
  },
  {
   "cell_type": "code",
   "execution_count": 14,
   "metadata": {
    "collapsed": false
   },
   "outputs": [],
   "source": [
    "# list files in directory\n",
    "mypath = os.getcwd()\n",
    "onlyfiles = [f for f in os.listdir(mypath) if os.path.isfile(os.path.join(mypath, f))]\n",
    "photoList = [ x for x in onlyfiles if not x.startswith('.') and x.endswith('.png')]"
   ]
  },
  {
   "cell_type": "code",
   "execution_count": 57,
   "metadata": {
    "collapsed": false
   },
   "outputs": [
    {
     "data": {
      "text/plain": [
       "''"
      ]
     },
     "execution_count": 57,
     "metadata": {},
     "output_type": "execute_result"
    }
   ],
   "source": [
    "# read in image and resize\n",
    "kk = 1\n",
    "img = np.array(cv2.imread(photoList[kk], 0))\n",
    "\n",
    "newSideLen = 100\n",
    "\n",
    "r = float(newSideLen) / img.shape[1]\n",
    "dim = (int(newSideLen), int(img.shape[0] * r))\n",
    " \n",
    "# perform the actual resizing of the image and show it\n",
    "resized = cv2.resize(img, dim, interpolation = cv2.INTER_AREA)\n",
    "\n",
    "resized = np.array((resized < 255) * 1.0)\n",
    "\n",
    "# clear edges of resized image\n",
    "resized[:, 0] = 0\n",
    "resized[newSideLen-1, :] = 0\n",
    "\n",
    "plt.close('all')\n",
    "io.imshow(resized)\n",
    "thismanager = plt.get_current_fig_manager()\n",
    "thismanager.window.wm_geometry(\"-1-1\")\n",
    "\n",
    "\n"
   ]
  },
  {
   "cell_type": "code",
   "execution_count": 50,
   "metadata": {
    "collapsed": false
   },
   "outputs": [
    {
     "data": {
      "text/plain": [
       "8"
      ]
     },
     "execution_count": 50,
     "metadata": {},
     "output_type": "execute_result"
    }
   ],
   "source": [
    "# make empty np array\n",
    "stackedArr = np.ones(shape=(np.repeat(newSideLen, [3]))) * 0.0\n",
    "\n",
    "midpt = stackedArr.shape[1]/2\n",
    "\n",
    "stackedArr[midpt,:,:] = stackedArr[midpt,:,:] + resized\n",
    "\n",
    "stackedArr[:, midpt, :] = stackedArr[:, midpt, :] + resized\n",
    "\n",
    "# get size\n",
    "sys.getsizeof(stackedArr)/1000/1000 # in MB\n"
   ]
  },
  {
   "cell_type": "code",
   "execution_count": 51,
   "metadata": {
    "collapsed": false
   },
   "outputs": [],
   "source": [
    "x,y,z = stackedArr.nonzero()"
   ]
  },
  {
   "cell_type": "code",
   "execution_count": 52,
   "metadata": {
    "collapsed": false
   },
   "outputs": [
    {
     "data": {
      "text/plain": [
       "<mpl_toolkits.mplot3d.art3d.Path3DCollection at 0x11f5bb050>"
      ]
     },
     "execution_count": 52,
     "metadata": {},
     "output_type": "execute_result"
    }
   ],
   "source": [
    "#plt.close('all')\n",
    "plt.clf()\n",
    "fig = plt.figure(1)\n",
    "ax = fig.add_subplot(111, projection='3d')\n",
    "ax.scatter(x, y, z, zdir='z', c = stackedArr[x,y,z], cmap = 'Greys', edgecolor = 'none', marker = 's')\n",
    "#plt.savefig(\"demo.png\")"
   ]
  },
  {
   "cell_type": "code",
   "execution_count": 48,
   "metadata": {
    "collapsed": false
   },
   "outputs": [],
   "source": [
    "plt.close('all')\n",
    "verts, faces = measure.marching_cubes(stackedArr, 0, spacing=(0.1, 0.1, 0.1))\n",
    "\n",
    "fig = plt.figure()\n",
    "ax = fig.add_subplot(111, projection='3d')\n",
    "ax.plot_trisurf(verts[:, 0], verts[:,1], faces, verts[:, 2], facecolors = ['red', 'blue'],\n",
    "                cmap='Purples', lw=5, alpha = 0.2, edgecolor = 'none')\n",
    "plt.show()\n",
    "\n"
   ]
  },
  {
   "cell_type": "code",
   "execution_count": 54,
   "metadata": {
    "collapsed": false
   },
   "outputs": [
    {
     "data": {
      "text/plain": [
       "<matplotlib.image.AxesImage at 0x121fed410>"
      ]
     },
     "execution_count": 54,
     "metadata": {},
     "output_type": "execute_result"
    }
   ],
   "source": [
    "plt.clf()\n",
    "io.imshow(resized)"
   ]
  },
  {
   "cell_type": "code",
   "execution_count": null,
   "metadata": {
    "collapsed": true
   },
   "outputs": [],
   "source": [
    "# rotate image\n",
    "M = cv2.getRotationMatrix2D(center, 180, 1.0)\n",
    "rotated = cv2.warpAffine(image, M, (w, h))\n",
    "cv2.imshow(\"rotated\", rotated)"
   ]
  },
  {
   "cell_type": "code",
   "execution_count": 63,
   "metadata": {
    "collapsed": false
   },
   "outputs": [
    {
     "data": {
      "text/plain": [
       "<matplotlib.image.AxesImage at 0x123b4f250>"
      ]
     },
     "execution_count": 63,
     "metadata": {},
     "output_type": "execute_result"
    }
   ],
   "source": [
    "plt.clf()\n",
    "i2 = scipy.ndimage.interpolation.rotate(np.array(resized), 33, axes=(1,0))\n",
    "io.imshow(i2)"
   ]
  },
  {
   "cell_type": "code",
   "execution_count": null,
   "metadata": {
    "collapsed": true
   },
   "outputs": [],
   "source": []
  },
  {
   "cell_type": "code",
   "execution_count": null,
   "metadata": {
    "collapsed": true
   },
   "outputs": [],
   "source": []
  },
  {
   "cell_type": "code",
   "execution_count": null,
   "metadata": {
    "collapsed": true
   },
   "outputs": [],
   "source": []
  },
  {
   "cell_type": "code",
   "execution_count": null,
   "metadata": {
    "collapsed": true
   },
   "outputs": [],
   "source": []
  },
  {
   "cell_type": "code",
   "execution_count": null,
   "metadata": {
    "collapsed": true
   },
   "outputs": [],
   "source": []
  },
  {
   "cell_type": "code",
   "execution_count": null,
   "metadata": {
    "collapsed": false
   },
   "outputs": [],
   "source": [
    "# visualize individual polygons without weighting\n",
    "# in 3D\n",
    "\n",
    "kk = 0\n",
    "fpth = photoList[kk]\n",
    "img = cv2.imread(fpth,0)\n",
    "img = (img < 255) * 1.0\n",
    "\n",
    "# these are the points of interest\n",
    "intPoints = np.array([[768, 1694],[1000, 1694],[1231, 1694]])\n",
    "\n",
    "#img[:, 1000]= 0.9\n",
    "#img[1694, :] = 0.9\n",
    "plt.clf()\n",
    "io.imshow(img, cmap = 'gray')\n",
    "plt.scatter(x = intPoints[:,0], y = intPoints[:,1])\n",
    "\n",
    "\n",
    "\n",
    "# make multiplication matrix\n",
    "mask = np.ones((2000, 2000))\n",
    "\n",
    "# make a matrix to multiply by\n",
    "mask2 = mask \n",
    "io.imshow(mask2 * img, cmap = 'gray')"
   ]
  },
  {
   "cell_type": "code",
   "execution_count": null,
   "metadata": {
    "collapsed": false
   },
   "outputs": [],
   "source": [
    "img = cv2.imread(fpth, 0)\n",
    "img = img / np.max(img)\n",
    "x, y = np.ogrid[0:img.shape[0], 0:img.shape[1]]\n",
    "ax = plt.gca(projection='3d')\n",
    "ax.plot_surface(x, y, 10, rstride=5, cstride=5, facecolors=img)\n",
    "plt.show()"
   ]
  },
  {
   "cell_type": "code",
   "execution_count": null,
   "metadata": {
    "collapsed": false
   },
   "outputs": [],
   "source": [
    "plt.clf()\n",
    "plt.hist(np.ndarray.flatten(stackedImg))\n",
    "plt.ylim([0, 500])"
   ]
  },
  {
   "cell_type": "code",
   "execution_count": null,
   "metadata": {
    "collapsed": false
   },
   "outputs": [],
   "source": [
    "# stack all polygons and visualize\n",
    "stackedImg = np.ones((2000, 2000)) * 0.0\n",
    "\n",
    "\n",
    "\n",
    "for ii in range(len(photoList)):\n",
    "    # read in image\n",
    "    \n",
    "    fpth = photoList[ii]\n",
    "    img = cv2.imread(fpth,0)\n",
    "    img = (img < 255) * 1.0\n",
    "    if ii == 0:\n",
    "        img = cv2.flip(img, 1)\n",
    "    img2 = mask2 * img\n",
    "    stackedImg = img2 + stackedImg\n",
    "    \n",
    "plt.clf()\n",
    "io.imshow(stackedImg)"
   ]
  },
  {
   "cell_type": "code",
   "execution_count": null,
   "metadata": {
    "collapsed": false
   },
   "outputs": [],
   "source": [
    "# resample polygons and flip random ones\n",
    "\n",
    "io.imshow(cv2.flip(img, 1))"
   ]
  },
  {
   "cell_type": "code",
   "execution_count": null,
   "metadata": {
    "collapsed": false
   },
   "outputs": [],
   "source": [
    "def resampleImgs():\n",
    "    # stack all polygons and visualize\n",
    "    stackedImg = np.ones((2000, 2000)) * 0.0\n",
    "\n",
    "    # make multiplication matrix\n",
    "    mask = np.ones((2000, 2000))\n",
    "\n",
    "    # make points exponentially decreasing \n",
    "    # this makes the center probability  == 10 times the outside probability\n",
    "    row1 = (10.0**((np.hstack([range(0, 1000), range(999, -1, -1)]))/231.0))\n",
    "\n",
    "    # normalize\n",
    "    row1 = row1 / np.max(row1)\n",
    "    mask2 = mask * (row1)\n",
    "\n",
    "\n",
    "\n",
    "\n",
    "    #sample photolist\n",
    "    photoSamp = np.random.choice(range(len(photoList)), size=len(photoList), replace=True, p=None)\n",
    "\n",
    "\n",
    "    for ii in photoSamp:\n",
    "        # read in image\n",
    "        fpth = photoList[ii]\n",
    "        img = cv2.imread(fpth,0)\n",
    "        img = (img < 255) * 1.0\n",
    "\n",
    "\n",
    "\n",
    "        #flip coin for whether or not to flip image\n",
    "        flip = np.random.choice([True, False], size=1, replace=True, p=None)\n",
    "        if flip:\n",
    "            img = cv2.flip(img, 1)\n",
    "\n",
    "        img2 = mask2 * img\n",
    "\n",
    "        # stack images\n",
    "        stackedImg = img2 + stackedImg\n",
    "    \n",
    "    return stackedImg"
   ]
  },
  {
   "cell_type": "code",
   "execution_count": null,
   "metadata": {
    "collapsed": false
   },
   "outputs": [],
   "source": [
    "imm = resampleImgs()\n",
    "plt.clf()\n",
    "plt.hist(np.ndarray.flatten(imm))\n",
    "plt.ylim([0, 5000])"
   ]
  },
  {
   "cell_type": "code",
   "execution_count": null,
   "metadata": {
    "collapsed": false
   },
   "outputs": [],
   "source": [
    "plt.clf()\n",
    "io.imshow(imm)"
   ]
  },
  {
   "cell_type": "code",
   "execution_count": null,
   "metadata": {
    "collapsed": false
   },
   "outputs": [],
   "source": [
    "stt = time.time()\n",
    "imStt = np.array([resampleImgs() for ii in range(100)])\n",
    "print time.time() - stt"
   ]
  },
  {
   "cell_type": "code",
   "execution_count": null,
   "metadata": {
    "collapsed": false
   },
   "outputs": [],
   "source": [
    "# sum up arrays to make total bootstrap resample \n",
    "imSum = imStt.sum(axis = 0)\n",
    "\n",
    "# normalize\n",
    "imSum = imSum / np.max(imSum)\n",
    "\n",
    "plt.clf()\n",
    "io.imshow(imSum, cmap = 'magma')\n",
    "plt.xlim([600, 1400])\n",
    "plt.ylim([ 1700, 700])"
   ]
  },
  {
   "cell_type": "code",
   "execution_count": null,
   "metadata": {
    "collapsed": false
   },
   "outputs": [],
   "source": [
    "plt.clf()\n",
    "io.imshow(imSum, cmap = 'YlOrRd')\n",
    "plt.xlim([600, 1400])\n",
    "plt.ylim([ 1700, 700])\n",
    "\n",
    "# add points\n",
    "plt.axis([0, imSum.shape[1], imSum.shape[0], 0])\n",
    "plt.axis('off')\n",
    "\n",
    "plt.gca().set_position([0,0,1,1])\n",
    "plt.gca().set_aspect('equal')\n",
    "\n",
    "intPoints = np.array([[768, 1694],[1000, 1694],[1231, 1694]])\n",
    "plt.scatter(x = intPoints[:,0], y = intPoints[:,1])\n",
    "plt.xlim([600, 1400])\n",
    "plt.ylim([ 1800, 700])\n",
    "\n",
    "plt.show()\n",
    "\n",
    "plt.savefig('PollenHeatmap_Yellow.png')"
   ]
  },
  {
   "cell_type": "code",
   "execution_count": null,
   "metadata": {
    "collapsed": true
   },
   "outputs": [],
   "source": [
    "plt.clf()\n",
    "io.imshow(imSum, cmap = 'Purples')\n",
    "plt.xlim([600, 1400])\n",
    "plt.ylim([ 1700, 700])\n",
    "\n",
    "# add points\n",
    "plt.axis([0, imSum.shape[1], imSum.shape[0], 0])\n",
    "plt.axis('off')\n",
    "\n",
    "plt.gca().set_position([0,0,1,1])\n",
    "plt.gca().set_aspect('equal')\n",
    "\n",
    "intPoints = np.array([[768, 1694],[1000, 1694],[1231, 1694]])\n",
    "plt.scatter(x = intPoints[:,0], y = intPoints[:,1])\n",
    "plt.xlim([600, 1400])\n",
    "plt.ylim([ 1800, 700])\n",
    "\n",
    "plt.show()\n",
    "\n",
    "plt.savefig('PollenHeatmap_Purples.png')"
   ]
  },
  {
   "cell_type": "code",
   "execution_count": null,
   "metadata": {
    "collapsed": true
   },
   "outputs": [],
   "source": [
    "plt.clf()\n",
    "io.imshow(imSum, cmap = 'hot')\n",
    "plt.xlim([600, 1400])\n",
    "plt.ylim([ 1700, 700])\n",
    "\n",
    "# add points\n",
    "plt.axis([0, imSum.shape[1], imSum.shape[0], 0])\n",
    "plt.axis('off')\n",
    "\n",
    "plt.gca().set_position([0,0,1,1])\n",
    "plt.gca().set_aspect('equal')\n",
    "\n",
    "intPoints = np.array([[768, 1694],[1000, 1694],[1231, 1694]])\n",
    "plt.scatter(x = intPoints[:,0], y = intPoints[:,1])\n",
    "plt.xlim([600, 1400])\n",
    "plt.ylim([ 1800, 700])\n",
    "\n",
    "plt.show()\n",
    "\n",
    "plt.savefig('PollenHeatmap_Hot.png')"
   ]
  },
  {
   "cell_type": "code",
   "execution_count": null,
   "metadata": {
    "collapsed": false
   },
   "outputs": [],
   "source": [
    "plt.clf()\n",
    "io.imshow(imSum, cmap = 'magma')\n",
    "plt.xlim([600, 1400])\n",
    "plt.ylim([ 1700, 700])\n",
    "\n",
    "# add points\n",
    "plt.axis([0, imSum.shape[1], imSum.shape[0], 0])\n",
    "plt.axis('off')\n",
    "\n",
    "plt.gca().set_position([0,0,1,1])\n",
    "plt.gca().set_aspect('equal')\n",
    "\n",
    "intPoints = np.array([[768, 1694],[1000, 1694],[1231, 1694]])\n",
    "plt.scatter(x = intPoints[:,0], y = intPoints[:,1])\n",
    "plt.xlim([600, 1400])\n",
    "plt.ylim([ 1800, 700])\n",
    "\n",
    "plt.show()\n",
    "\n",
    "plt.savefig('PollenHeatmap.png')"
   ]
  },
  {
   "cell_type": "code",
   "execution_count": null,
   "metadata": {
    "collapsed": false
   },
   "outputs": [],
   "source": [
    "plt.clf()\n",
    "io.imshow(imSum, cmap = 'gray_r')\n",
    "plt.xlim([600, 1400])\n",
    "plt.ylim([ 1700, 700])\n",
    "\n",
    "# add points\n",
    "#plt.axis([0, imSum.shape[1], imSum.shape[0], 0])\n",
    "#plt.axis('off')\n",
    "\n",
    "#plt.gca().set_position([0,0,1,1])\n",
    "#plt.gca().set_aspect('equal')\n",
    "\n",
    "intPoints = np.array([[768, 1694],[1000, 1694],[1231, 1694]])\n",
    "plt.scatter(x = intPoints[:,0], y = intPoints[:,1])\n",
    "plt.xlim([600, 1400])\n",
    "plt.ylim([ 1800, 700])\n",
    "\n",
    "plt.show()\n",
    "\n",
    "#plt.savefig('PollenHeatmap_BW.png')"
   ]
  },
  {
   "cell_type": "code",
   "execution_count": null,
   "metadata": {
    "collapsed": false
   },
   "outputs": [],
   "source": [
    "plt.clf()\n",
    "plt.hist(np.ndarray.flatten(imSum), bins = 100)\n",
    "plt.ylim([0, 5000])"
   ]
  },
  {
   "cell_type": "code",
   "execution_count": null,
   "metadata": {
    "collapsed": false
   },
   "outputs": [],
   "source": [
    "# plot with colorbar\n",
    "\n",
    "plt.close('all')\n",
    "\n",
    "fig, ax = plt.subplots()\n",
    "im = ax.imshow(imSum, cmap = 'gray_r')\n",
    "cax = fig.add_axes([0.78, 0.2, 0.05, 0.6])\n",
    "fig.colorbar(im, cax=cax, orientation='vertical')\n",
    "# plt.xlim([600, 1400])\n",
    "# plt.ylim([ 1700, 700])\n",
    "\n",
    "ax.axis('off')\n",
    "\n",
    "ax.set_xlim([600, 1400])\n",
    "ax.set_ylim([ 1800, 700])\n",
    "\n",
    "intPoints = np.array([[768, 1694],[1000, 1694],[1231, 1694]])\n",
    "ax.scatter(x = intPoints[:,0], y = intPoints[:,1])\n",
    "\n",
    "plt.show()\n",
    "plt.savefig('PollenHeatmap_BW_colorbar.png')"
   ]
  },
  {
   "cell_type": "code",
   "execution_count": null,
   "metadata": {
    "collapsed": true
   },
   "outputs": [],
   "source": [
    "data = np.arange(100, 0, -1).reshape(10, 10)\n",
    "\n",
    "fig, ax = plt.subplots()\n",
    "#cax = fig.add_axes([0.27, 0.8, 0.5, 0.05])\n",
    "\n",
    "im = ax.imshow(data, cmap='gist_earth')\n",
    "fig.colorbar(im, cax=cax, orientation='horizontal')\n",
    "plt.show()"
   ]
  },
  {
   "cell_type": "code",
   "execution_count": null,
   "metadata": {
    "collapsed": true
   },
   "outputs": [],
   "source": []
  }
 ],
 "metadata": {
  "anaconda-cloud": {},
  "kernelspec": {
   "display_name": "Python [default]",
   "language": "python",
   "name": "python2"
  },
  "language_info": {
   "codemirror_mode": {
    "name": "ipython",
    "version": 2
   },
   "file_extension": ".py",
   "mimetype": "text/x-python",
   "name": "python",
   "nbconvert_exporter": "python",
   "pygments_lexer": "ipython2",
   "version": "2.7.9"
  }
 },
 "nbformat": 4,
 "nbformat_minor": 1
}
