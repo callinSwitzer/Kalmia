{
 "cells": [
  {
   "cell_type": "markdown",
   "metadata": {},
   "source": [
    "### Callin Switzer\n",
    "\n",
    "2 Nov 2016\n",
    "\n",
    "-Read in all the Kalmia polygon images (from R KalmiaVisualizePolygons_V2.R)\n",
    "- Make sure to use Python [conda env:vis_env]\n",
    "\n",
    "-visualize in 3D\n",
    "\n",
    "-Resample all of the images\n",
    "\n",
    "-Stack resampled images (in 3D)\n",
    "\n",
    "-Visualize a heatmap\n",
    "\n",
    "-Save heatmap"
   ]
  },
  {
   "cell_type": "code",
   "execution_count": 1,
   "metadata": {
    "collapsed": true
   },
   "outputs": [],
   "source": [
    "import cv2"
   ]
  },
  {
   "cell_type": "code",
   "execution_count": 2,
   "metadata": {
    "collapsed": true
   },
   "outputs": [],
   "source": [
    "import numpy as np\n",
    "import matplotlib\n",
    "matplotlib.use(\"TkAgg\") # have to use this for tkinter to  work below\n",
    "from matplotlib import pyplot as plt\n",
    "%matplotlib tk"
   ]
  },
  {
   "cell_type": "code",
   "execution_count": 3,
   "metadata": {
    "collapsed": false
   },
   "outputs": [],
   "source": [
    "# scikit image\n",
    "import skimage\n",
    "from skimage import io"
   ]
  },
  {
   "cell_type": "code",
   "execution_count": 4,
   "metadata": {
    "collapsed": false
   },
   "outputs": [],
   "source": [
    "import os\n",
    "import pandas as pd\n",
    "import time"
   ]
  },
  {
   "cell_type": "code",
   "execution_count": 5,
   "metadata": {
    "collapsed": false
   },
   "outputs": [],
   "source": [
    "import scipy\n",
    "\n",
    "from mpl_toolkits.mplot3d import Axes3D\n",
    "import sys"
   ]
  },
  {
   "cell_type": "code",
   "execution_count": 9,
   "metadata": {
    "collapsed": false
   },
   "outputs": [],
   "source": [
    "from mayavi import mlab\n",
    "from scipy import stats"
   ]
  },
  {
   "cell_type": "code",
   "execution_count": 10,
   "metadata": {
    "collapsed": true
   },
   "outputs": [],
   "source": [
    "% qtconsole"
   ]
  },
  {
   "cell_type": "markdown",
   "metadata": {},
   "source": [
    "May want to look at this: http://stackoverflow.com/questions/25286811/how-to-plot-a-3d-density-map-in-python-with-matplotlib"
   ]
  },
  {
   "cell_type": "code",
   "execution_count": 11,
   "metadata": {
    "collapsed": false
   },
   "outputs": [],
   "source": [
    "mu, sigma = 0, 0.1 \n",
    "x = 10*np.random.normal(mu, sigma, 5000)\n",
    "y = 10*np.random.normal(mu, sigma, 5000)\n",
    "z = 10*np.random.normal(mu, sigma, 5000)\n",
    "\n",
    "xyz = np.vstack([x,y,z])\n",
    "kde = stats.gaussian_kde(xyz)\n",
    "density = kde(xyz)\n",
    "\n",
    "# Plot scatter with mayavi\n",
    "figure = mlab.figure('DensityPlot')\n",
    "pts = mlab.points3d(x, y, z, density, scale_mode='none', scale_factor=0.07)\n",
    "mlab.axes()\n",
    "mlab.show()"
   ]
  },
  {
   "cell_type": "code",
   "execution_count": null,
   "metadata": {
    "collapsed": true
   },
   "outputs": [],
   "source": [
    "# list files in directory"
   ]
  },
  {
   "cell_type": "code",
   "execution_count": 12,
   "metadata": {
    "collapsed": true
   },
   "outputs": [],
   "source": [
    "os.chdir(\"/Users/callinswitzer/Dropbox/KalmiaProject/KalmiaExamples/KalmiaManualTrig_VidsToProcess/\")"
   ]
  },
  {
   "cell_type": "code",
   "execution_count": 13,
   "metadata": {
    "collapsed": false
   },
   "outputs": [],
   "source": [
    "# list files in directory\n",
    "mypath = os.getcwd()\n",
    "onlyfiles = [f for f in os.listdir(mypath) if os.path.isfile(os.path.join(mypath, f))]\n",
    "photoList = [ x for x in onlyfiles if not x.startswith('.') and x.endswith('.png')]"
   ]
  },
  {
   "cell_type": "code",
   "execution_count": 48,
   "metadata": {
    "collapsed": false
   },
   "outputs": [
    {
     "data": {
      "text/plain": [
       "''"
      ]
     },
     "execution_count": 48,
     "metadata": {},
     "output_type": "execute_result"
    }
   ],
   "source": [
    "# read in image and resize\n",
    "kk = 1\n",
    "img = np.array(cv2.imread(photoList[kk], 0))\n",
    "\n",
    "newSideLen = 100\n",
    "\n",
    "r = float(newSideLen) / img.shape[1]\n",
    "dim = (int(newSideLen), int(img.shape[0] * r))\n",
    " \n",
    "# perform the actual resizing of the image and show it\n",
    "resized = cv2.resize(img, dim, interpolation = cv2.INTER_AREA)\n",
    "\n",
    "resized = np.array((resized < 255) * 1.0)\n",
    "\n",
    "# clear edges of resized image\n",
    "resized[:, 0] = 0\n",
    "resized[newSideLen-1, :] = 0\n",
    "\n",
    "plt.close('all')\n",
    "io.imshow(resized)\n",
    "thismanager = plt.get_current_fig_manager()\n",
    "thismanager.window.wm_geometry(\"-1-1\")\n",
    "\n",
    "\n"
   ]
  },
  {
   "cell_type": "code",
   "execution_count": 58,
   "metadata": {
    "collapsed": false
   },
   "outputs": [
    {
     "data": {
      "text/plain": [
       "<matplotlib.image.AxesImage at 0x12e84a6d0>"
      ]
     },
     "execution_count": 58,
     "metadata": {},
     "output_type": "execute_result"
    }
   ],
   "source": [
    "plt.imshow(resized)"
   ]
  },
  {
   "cell_type": "code",
   "execution_count": 63,
   "metadata": {
    "collapsed": false
   },
   "outputs": [
    {
     "data": {
      "text/plain": [
       "0"
      ]
     },
     "execution_count": 63,
     "metadata": {},
     "output_type": "execute_result"
    }
   ],
   "source": [
    "# make empty np array\n",
    "# for future reference, these are stacked wrong\n",
    "\n",
    "# rotate image for visualization with numpy\n",
    "resized_flip = np.rot90(resized, 3)\n",
    "stackedArr = np.ones(shape=(np.repeat(newSideLen, [3]))) * 0.0\n",
    "\n",
    "midpt = stackedArr.shape[1]/2\n",
    "\n",
    "stackedArr[midpt,:,:] = stackedArr[midpt,:,:] + resized_flip\n",
    "\n",
    "stackedArr[:, midpt, :] = stackedArr[:, midpt, :] + resized_flip\n",
    "\n",
    "# get size\n",
    "sys.getsizeof(stackedArr)/1000/1000 # in MB\n"
   ]
  },
  {
   "cell_type": "code",
   "execution_count": 64,
   "metadata": {
    "collapsed": false
   },
   "outputs": [],
   "source": [
    "x,y,z = stackedArr.nonzero()"
   ]
  },
  {
   "cell_type": "code",
   "execution_count": 65,
   "metadata": {
    "collapsed": false
   },
   "outputs": [
    {
     "data": {
      "text/plain": [
       "<mpl_toolkits.mplot3d.art3d.Patch3DCollection at 0x126a2a610>"
      ]
     },
     "execution_count": 65,
     "metadata": {},
     "output_type": "execute_result"
    }
   ],
   "source": [
    "#plt.close('all')\n",
    "plt.clf()\n",
    "fig = plt.figure(1)\n",
    "ax = fig.add_subplot(111, projection='3d')\n",
    "ax.scatter(x, y, z, zdir='z', c = stackedArr[x,y,z], \n",
    "           cmap = 'Greys', edgecolor = 'none', marker = 's')\n",
    "#plt.savefig(\"demo.png\")"
   ]
  },
  {
   "cell_type": "code",
   "execution_count": 66,
   "metadata": {
    "collapsed": true
   },
   "outputs": [],
   "source": [
    "plt.close('all')"
   ]
  },
  {
   "cell_type": "code",
   "execution_count": 67,
   "metadata": {
    "collapsed": false
   },
   "outputs": [],
   "source": [
    "# visualize with MayaVi\n",
    "xyz = np.vstack([x, y, z,])\n",
    "kde = stats.gaussian_kde(xyz)\n",
    "density = kde(xyz)\n",
    "\n",
    "# Plot scatter with mayavi\n",
    "figure = mlab.figure('DensityPlot')\n",
    "pts = mlab.points3d(x, y, z, stackedArr[x,y,z], colormap = 'cool', \n",
    "                    scale_mode='none', scale_factor=1)\n",
    "mlab.axes()\n",
    "mlab.show()"
   ]
  },
  {
   "cell_type": "code",
   "execution_count": 68,
   "metadata": {
    "collapsed": false
   },
   "outputs": [],
   "source": [
    "# visualize density with MayaVi\n",
    "density = stackedArr\n",
    "grid = mlab.pipeline.scalar_field(density)\n",
    "min1 = density.min()\n",
    "max1=density.max()\n",
    "mlab.pipeline.volume(grid, vmin=min1, vmax=min1 + .5*(max1-min1))\n",
    "\n",
    "mlab.axes()\n",
    "mlab.show()"
   ]
  },
  {
   "cell_type": "code",
   "execution_count": null,
   "metadata": {
    "collapsed": true
   },
   "outputs": [],
   "source": []
  },
  {
   "cell_type": "code",
   "execution_count": null,
   "metadata": {
    "collapsed": true
   },
   "outputs": [],
   "source": []
  },
  {
   "cell_type": "code",
   "execution_count": null,
   "metadata": {
    "collapsed": true
   },
   "outputs": [],
   "source": []
  },
  {
   "cell_type": "code",
   "execution_count": null,
   "metadata": {
    "collapsed": true
   },
   "outputs": [],
   "source": []
  },
  {
   "cell_type": "code",
   "execution_count": null,
   "metadata": {
    "collapsed": true
   },
   "outputs": [],
   "source": []
  },
  {
   "cell_type": "code",
   "execution_count": null,
   "metadata": {
    "collapsed": true
   },
   "outputs": [],
   "source": []
  },
  {
   "cell_type": "code",
   "execution_count": null,
   "metadata": {
    "collapsed": true
   },
   "outputs": [],
   "source": []
  },
  {
   "cell_type": "code",
   "execution_count": 39,
   "metadata": {
    "collapsed": false
   },
   "outputs": [],
   "source": [
    "# Evaluate density on a grid\n",
    "xmin, ymin, zmin = 0, 0, 0\n",
    "xmax, ymax, zmax = newSideLen,newSideLen,newSideLen\n",
    "xi, yi, zi = np.mgrid[xmin:xmax:30j, ymin:ymax:30j, zmin:zmax:30j]\n",
    "density = stackedArr"
   ]
  },
  {
   "cell_type": "code",
   "execution_count": 44,
   "metadata": {
    "collapsed": true
   },
   "outputs": [],
   "source": [
    "grid = mlab.pipeline.scalar_field(density)"
   ]
  },
  {
   "cell_type": "code",
   "execution_count": null,
   "metadata": {
    "collapsed": true
   },
   "outputs": [],
   "source": [
    "# Plot scatter with mayavi\n",
    "figure = mlab.figure('DensityPlot')\n",
    "\n",
    "grid = mlab.pipeline.scalar_field(xi, yi, zi, density)"
   ]
  },
  {
   "cell_type": "code",
   "execution_count": 45,
   "metadata": {
    "collapsed": true
   },
   "outputs": [],
   "source": [
    "min = density.min()\n",
    "max=density.max()\n",
    "mlab.pipeline.volume(grid, vmin=min, vmax=min + .5*(max-min))\n",
    "\n",
    "mlab.axes()\n",
    "mlab.show()"
   ]
  },
  {
   "cell_type": "code",
   "execution_count": null,
   "metadata": {
    "collapsed": false
   },
   "outputs": [],
   "source": [
    "# plot 3d points with mlab\n",
    "mlab.points3d(x,y,z)"
   ]
  },
  {
   "cell_type": "code",
   "execution_count": null,
   "metadata": {
    "collapsed": false
   },
   "outputs": [],
   "source": [
    "# plot stacked array\n",
    "mlab.contour3d(stackedArr, colormap = 'jet')"
   ]
  },
  {
   "cell_type": "code",
   "execution_count": null,
   "metadata": {
    "collapsed": false
   },
   "outputs": [],
   "source": [
    "mlab.pipeline.volume(stackedArr)"
   ]
  },
  {
   "cell_type": "code",
   "execution_count": null,
   "metadata": {
    "collapsed": true
   },
   "outputs": [],
   "source": []
  },
  {
   "cell_type": "code",
   "execution_count": null,
   "metadata": {
    "collapsed": true
   },
   "outputs": [],
   "source": []
  },
  {
   "cell_type": "code",
   "execution_count": null,
   "metadata": {
    "collapsed": true
   },
   "outputs": [],
   "source": []
  },
  {
   "cell_type": "code",
   "execution_count": null,
   "metadata": {
    "collapsed": true
   },
   "outputs": [],
   "source": []
  },
  {
   "cell_type": "code",
   "execution_count": null,
   "metadata": {
    "collapsed": true
   },
   "outputs": [],
   "source": []
  },
  {
   "cell_type": "code",
   "execution_count": null,
   "metadata": {
    "collapsed": true
   },
   "outputs": [],
   "source": []
  },
  {
   "cell_type": "code",
   "execution_count": null,
   "metadata": {
    "collapsed": true
   },
   "outputs": [],
   "source": []
  },
  {
   "cell_type": "code",
   "execution_count": null,
   "metadata": {
    "collapsed": true
   },
   "outputs": [],
   "source": []
  },
  {
   "cell_type": "code",
   "execution_count": null,
   "metadata": {
    "collapsed": true
   },
   "outputs": [],
   "source": []
  },
  {
   "cell_type": "code",
   "execution_count": null,
   "metadata": {
    "collapsed": true
   },
   "outputs": [],
   "source": []
  },
  {
   "cell_type": "code",
   "execution_count": null,
   "metadata": {
    "collapsed": false
   },
   "outputs": [],
   "source": [
    "from scipy.interpolate import griddata\n",
    "\n",
    "# Create some test data, 3D gaussian, 200 points\n",
    "dx, pts = 2, 100j\n",
    "\n",
    "N = 500\n",
    "R = np.random.random((N,3))*2*dx - dx\n",
    "V = np.exp(-( (R**2).sum(axis=1)) )\n",
    "\n",
    "# Create the grid to interpolate on\n",
    "X,Y,Z = np.mgrid[-dx:dx:pts, -dx:dx:pts, -dx:dx:pts]\n",
    "\n",
    "# Interpolate the data\n",
    "F = griddata(R, V, (X,Y,Z))\n",
    "mlab.contour3d(F,contours=8,opacity=.2 )\n"
   ]
  },
  {
   "cell_type": "code",
   "execution_count": null,
   "metadata": {
    "collapsed": false
   },
   "outputs": [],
   "source": [
    "mlab.clf()\n",
    "mu, sigma = 0, 0.1 \n",
    "x = 10*np.random.normal(mu, sigma, 5000)\n",
    "y = 10*np.random.normal(mu, sigma, 5000)    \n",
    "z = 10*np.random.normal(mu, sigma, 5000)\n",
    "\n",
    "xyz = np.vstack([x,y,z])\n",
    "kde = stats.gaussian_kde(xyz)\n",
    "\n",
    "# Evaluate kde on a grid\n",
    "xmin, ymin, zmin = x.min(), y.min(), z.min()\n",
    "xmax, ymax, zmax = x.max(), y.max(), z.max()\n",
    "xi, yi, zi = np.mgrid[xmin:xmax:30j, ymin:ymax:30j, zmin:zmax:30j]\n",
    "coords = np.vstack([item.ravel() for item in [xi, yi, zi]]) \n",
    "density = kde(coords).reshape(xi.shape)\n",
    "\n",
    "# Plot scatter with mayavi\n",
    "figure = mlab.figure('DensityPlot')\n",
    "\n",
    "grid = mlab.pipeline.scalar_field(xi, yi, zi, density)\n",
    "min = density.min()\n",
    "max=density.max()\n",
    "mlab.pipeline.volume(grid, vmin=min, vmax=min + .5*(max-min))\n",
    "\n",
    "mlab.axes()\n",
    "mlab.show()"
   ]
  },
  {
   "cell_type": "code",
   "execution_count": null,
   "metadata": {
    "collapsed": false
   },
   "outputs": [],
   "source": [
    "plt.close('all')\n",
    "verts, faces = measure.marching_cubes(stackedArr, 0, spacing=(0.1, 0.1, 0.1))\n",
    "\n",
    "fig = plt.figure()\n",
    "ax = fig.add_subplot(111, projection='3d')\n",
    "ax.plot_trisurf(verts[:, 0], verts[:,1], faces, verts[:, 2], facecolors = ['red', 'blue'],\n",
    "                cmap='Purples', lw=5, alpha = 0.2, edgecolor = 'none')\n",
    "plt.show()\n",
    "\n"
   ]
  },
  {
   "cell_type": "code",
   "execution_count": null,
   "metadata": {
    "collapsed": true
   },
   "outputs": [],
   "source": []
  },
  {
   "cell_type": "code",
   "execution_count": null,
   "metadata": {
    "collapsed": false
   },
   "outputs": [],
   "source": [
    "plt.clf()\n",
    "io.imshow(resized)"
   ]
  },
  {
   "cell_type": "code",
   "execution_count": null,
   "metadata": {
    "collapsed": true
   },
   "outputs": [],
   "source": [
    "# rotate image\n",
    "M = cv2.getRotationMatrix2D(center, 180, 1.0)\n",
    "rotated = cv2.warpAffine(image, M, (w, h))\n",
    "cv2.imshow(\"rotated\", rotated)"
   ]
  },
  {
   "cell_type": "code",
   "execution_count": null,
   "metadata": {
    "collapsed": false
   },
   "outputs": [],
   "source": [
    "plt.clf()\n",
    "i2 = scipy.ndimage.interpolation.rotate(np.array(resized), 33, axes=(1,0))\n",
    "io.imshow(i2)"
   ]
  },
  {
   "cell_type": "code",
   "execution_count": null,
   "metadata": {
    "collapsed": true
   },
   "outputs": [],
   "source": []
  },
  {
   "cell_type": "code",
   "execution_count": null,
   "metadata": {
    "collapsed": true
   },
   "outputs": [],
   "source": []
  },
  {
   "cell_type": "code",
   "execution_count": null,
   "metadata": {
    "collapsed": true
   },
   "outputs": [],
   "source": []
  },
  {
   "cell_type": "code",
   "execution_count": null,
   "metadata": {
    "collapsed": true
   },
   "outputs": [],
   "source": []
  },
  {
   "cell_type": "code",
   "execution_count": null,
   "metadata": {
    "collapsed": true
   },
   "outputs": [],
   "source": []
  },
  {
   "cell_type": "code",
   "execution_count": null,
   "metadata": {
    "collapsed": false
   },
   "outputs": [],
   "source": [
    "# visualize individual polygons without weighting\n",
    "# in 3D\n",
    "\n",
    "kk = 0\n",
    "fpth = photoList[kk]\n",
    "img = cv2.imread(fpth,0)\n",
    "img = (img < 255) * 1.0\n",
    "\n",
    "# these are the points of interest\n",
    "intPoints = np.array([[768, 1694],[1000, 1694],[1231, 1694]])\n",
    "\n",
    "#img[:, 1000]= 0.9\n",
    "#img[1694, :] = 0.9\n",
    "plt.clf()\n",
    "io.imshow(img, cmap = 'gray')\n",
    "plt.scatter(x = intPoints[:,0], y = intPoints[:,1])\n",
    "\n",
    "\n",
    "\n",
    "# make multiplication matrix\n",
    "mask = np.ones((2000, 2000))\n",
    "\n",
    "# make a matrix to multiply by\n",
    "mask2 = mask \n",
    "io.imshow(mask2 * img, cmap = 'gray')"
   ]
  },
  {
   "cell_type": "code",
   "execution_count": null,
   "metadata": {
    "collapsed": false
   },
   "outputs": [],
   "source": [
    "img = cv2.imread(fpth, 0)\n",
    "img = img / np.max(img)\n",
    "x, y = np.ogrid[0:img.shape[0], 0:img.shape[1]]\n",
    "ax = plt.gca(projection='3d')\n",
    "ax.plot_surface(x, y, 10, rstride=5, cstride=5, facecolors=img)\n",
    "plt.show()"
   ]
  },
  {
   "cell_type": "code",
   "execution_count": null,
   "metadata": {
    "collapsed": false
   },
   "outputs": [],
   "source": [
    "plt.clf()\n",
    "plt.hist(np.ndarray.flatten(stackedImg))\n",
    "plt.ylim([0, 500])"
   ]
  },
  {
   "cell_type": "code",
   "execution_count": null,
   "metadata": {
    "collapsed": false
   },
   "outputs": [],
   "source": [
    "# stack all polygons and visualize\n",
    "stackedImg = np.ones((2000, 2000)) * 0.0\n",
    "\n",
    "\n",
    "\n",
    "for ii in range(len(photoList)):\n",
    "    # read in image\n",
    "    \n",
    "    fpth = photoList[ii]\n",
    "    img = cv2.imread(fpth,0)\n",
    "    img = (img < 255) * 1.0\n",
    "    if ii == 0:\n",
    "        img = cv2.flip(img, 1)\n",
    "    img2 = mask2 * img\n",
    "    stackedImg = img2 + stackedImg\n",
    "    \n",
    "plt.clf()\n",
    "io.imshow(stackedImg)"
   ]
  },
  {
   "cell_type": "code",
   "execution_count": null,
   "metadata": {
    "collapsed": false
   },
   "outputs": [],
   "source": [
    "# resample polygons and flip random ones\n",
    "\n",
    "io.imshow(cv2.flip(img, 1))"
   ]
  },
  {
   "cell_type": "code",
   "execution_count": null,
   "metadata": {
    "collapsed": false
   },
   "outputs": [],
   "source": [
    "def resampleImgs():\n",
    "    # stack all polygons and visualize\n",
    "    stackedImg = np.ones((2000, 2000)) * 0.0\n",
    "\n",
    "    # make multiplication matrix\n",
    "    mask = np.ones((2000, 2000))\n",
    "\n",
    "    # make points exponentially decreasing \n",
    "    # this makes the center probability  == 10 times the outside probability\n",
    "    row1 = (10.0**((np.hstack([range(0, 1000), range(999, -1, -1)]))/231.0))\n",
    "\n",
    "    # normalize\n",
    "    row1 = row1 / np.max(row1)\n",
    "    mask2 = mask * (row1)\n",
    "\n",
    "\n",
    "\n",
    "\n",
    "    #sample photolist\n",
    "    photoSamp = np.random.choice(range(len(photoList)), size=len(photoList), replace=True, p=None)\n",
    "\n",
    "\n",
    "    for ii in photoSamp:\n",
    "        # read in image\n",
    "        fpth = photoList[ii]\n",
    "        img = cv2.imread(fpth,0)\n",
    "        img = (img < 255) * 1.0\n",
    "\n",
    "\n",
    "\n",
    "        #flip coin for whether or not to flip image\n",
    "        flip = np.random.choice([True, False], size=1, replace=True, p=None)\n",
    "        if flip:\n",
    "            img = cv2.flip(img, 1)\n",
    "\n",
    "        img2 = mask2 * img\n",
    "\n",
    "        # stack images\n",
    "        stackedImg = img2 + stackedImg\n",
    "    \n",
    "    return stackedImg"
   ]
  },
  {
   "cell_type": "code",
   "execution_count": null,
   "metadata": {
    "collapsed": false
   },
   "outputs": [],
   "source": [
    "imm = resampleImgs()\n",
    "plt.clf()\n",
    "plt.hist(np.ndarray.flatten(imm))\n",
    "plt.ylim([0, 5000])"
   ]
  },
  {
   "cell_type": "code",
   "execution_count": null,
   "metadata": {
    "collapsed": false
   },
   "outputs": [],
   "source": [
    "plt.clf()\n",
    "io.imshow(imm)"
   ]
  },
  {
   "cell_type": "code",
   "execution_count": null,
   "metadata": {
    "collapsed": false
   },
   "outputs": [],
   "source": [
    "stt = time.time()\n",
    "imStt = np.array([resampleImgs() for ii in range(100)])\n",
    "print time.time() - stt"
   ]
  },
  {
   "cell_type": "code",
   "execution_count": null,
   "metadata": {
    "collapsed": false
   },
   "outputs": [],
   "source": [
    "# sum up arrays to make total bootstrap resample \n",
    "imSum = imStt.sum(axis = 0)\n",
    "\n",
    "# normalize\n",
    "imSum = imSum / np.max(imSum)\n",
    "\n",
    "plt.clf()\n",
    "io.imshow(imSum, cmap = 'magma')\n",
    "plt.xlim([600, 1400])\n",
    "plt.ylim([ 1700, 700])"
   ]
  },
  {
   "cell_type": "code",
   "execution_count": null,
   "metadata": {
    "collapsed": false
   },
   "outputs": [],
   "source": [
    "plt.clf()\n",
    "io.imshow(imSum, cmap = 'YlOrRd')\n",
    "plt.xlim([600, 1400])\n",
    "plt.ylim([ 1700, 700])\n",
    "\n",
    "# add points\n",
    "plt.axis([0, imSum.shape[1], imSum.shape[0], 0])\n",
    "plt.axis('off')\n",
    "\n",
    "plt.gca().set_position([0,0,1,1])\n",
    "plt.gca().set_aspect('equal')\n",
    "\n",
    "intPoints = np.array([[768, 1694],[1000, 1694],[1231, 1694]])\n",
    "plt.scatter(x = intPoints[:,0], y = intPoints[:,1])\n",
    "plt.xlim([600, 1400])\n",
    "plt.ylim([ 1800, 700])\n",
    "\n",
    "plt.show()\n",
    "\n",
    "plt.savefig('PollenHeatmap_Yellow.png')"
   ]
  },
  {
   "cell_type": "code",
   "execution_count": null,
   "metadata": {
    "collapsed": true
   },
   "outputs": [],
   "source": [
    "plt.clf()\n",
    "io.imshow(imSum, cmap = 'Purples')\n",
    "plt.xlim([600, 1400])\n",
    "plt.ylim([ 1700, 700])\n",
    "\n",
    "# add points\n",
    "plt.axis([0, imSum.shape[1], imSum.shape[0], 0])\n",
    "plt.axis('off')\n",
    "\n",
    "plt.gca().set_position([0,0,1,1])\n",
    "plt.gca().set_aspect('equal')\n",
    "\n",
    "intPoints = np.array([[768, 1694],[1000, 1694],[1231, 1694]])\n",
    "plt.scatter(x = intPoints[:,0], y = intPoints[:,1])\n",
    "plt.xlim([600, 1400])\n",
    "plt.ylim([ 1800, 700])\n",
    "\n",
    "plt.show()\n",
    "\n",
    "plt.savefig('PollenHeatmap_Purples.png')"
   ]
  },
  {
   "cell_type": "code",
   "execution_count": null,
   "metadata": {
    "collapsed": true
   },
   "outputs": [],
   "source": [
    "plt.clf()\n",
    "io.imshow(imSum, cmap = 'hot')\n",
    "plt.xlim([600, 1400])\n",
    "plt.ylim([ 1700, 700])\n",
    "\n",
    "# add points\n",
    "plt.axis([0, imSum.shape[1], imSum.shape[0], 0])\n",
    "plt.axis('off')\n",
    "\n",
    "plt.gca().set_position([0,0,1,1])\n",
    "plt.gca().set_aspect('equal')\n",
    "\n",
    "intPoints = np.array([[768, 1694],[1000, 1694],[1231, 1694]])\n",
    "plt.scatter(x = intPoints[:,0], y = intPoints[:,1])\n",
    "plt.xlim([600, 1400])\n",
    "plt.ylim([ 1800, 700])\n",
    "\n",
    "plt.show()\n",
    "\n",
    "plt.savefig('PollenHeatmap_Hot.png')"
   ]
  },
  {
   "cell_type": "code",
   "execution_count": null,
   "metadata": {
    "collapsed": false
   },
   "outputs": [],
   "source": [
    "plt.clf()\n",
    "io.imshow(imSum, cmap = 'magma')\n",
    "plt.xlim([600, 1400])\n",
    "plt.ylim([ 1700, 700])\n",
    "\n",
    "# add points\n",
    "plt.axis([0, imSum.shape[1], imSum.shape[0], 0])\n",
    "plt.axis('off')\n",
    "\n",
    "plt.gca().set_position([0,0,1,1])\n",
    "plt.gca().set_aspect('equal')\n",
    "\n",
    "intPoints = np.array([[768, 1694],[1000, 1694],[1231, 1694]])\n",
    "plt.scatter(x = intPoints[:,0], y = intPoints[:,1])\n",
    "plt.xlim([600, 1400])\n",
    "plt.ylim([ 1800, 700])\n",
    "\n",
    "plt.show()\n",
    "\n",
    "plt.savefig('PollenHeatmap.png')"
   ]
  },
  {
   "cell_type": "code",
   "execution_count": null,
   "metadata": {
    "collapsed": false
   },
   "outputs": [],
   "source": [
    "plt.clf()\n",
    "io.imshow(imSum, cmap = 'gray_r')\n",
    "plt.xlim([600, 1400])\n",
    "plt.ylim([ 1700, 700])\n",
    "\n",
    "# add points\n",
    "#plt.axis([0, imSum.shape[1], imSum.shape[0], 0])\n",
    "#plt.axis('off')\n",
    "\n",
    "#plt.gca().set_position([0,0,1,1])\n",
    "#plt.gca().set_aspect('equal')\n",
    "\n",
    "intPoints = np.array([[768, 1694],[1000, 1694],[1231, 1694]])\n",
    "plt.scatter(x = intPoints[:,0], y = intPoints[:,1])\n",
    "plt.xlim([600, 1400])\n",
    "plt.ylim([ 1800, 700])\n",
    "\n",
    "plt.show()\n",
    "\n",
    "#plt.savefig('PollenHeatmap_BW.png')"
   ]
  },
  {
   "cell_type": "code",
   "execution_count": null,
   "metadata": {
    "collapsed": false
   },
   "outputs": [],
   "source": [
    "plt.clf()\n",
    "plt.hist(np.ndarray.flatten(imSum), bins = 100)\n",
    "plt.ylim([0, 5000])"
   ]
  },
  {
   "cell_type": "code",
   "execution_count": null,
   "metadata": {
    "collapsed": false
   },
   "outputs": [],
   "source": [
    "# plot with colorbar\n",
    "\n",
    "plt.close('all')\n",
    "\n",
    "fig, ax = plt.subplots()\n",
    "im = ax.imshow(imSum, cmap = 'gray_r')\n",
    "cax = fig.add_axes([0.78, 0.2, 0.05, 0.6])\n",
    "fig.colorbar(im, cax=cax, orientation='vertical')\n",
    "# plt.xlim([600, 1400])\n",
    "# plt.ylim([ 1700, 700])\n",
    "\n",
    "ax.axis('off')\n",
    "\n",
    "ax.set_xlim([600, 1400])\n",
    "ax.set_ylim([ 1800, 700])\n",
    "\n",
    "intPoints = np.array([[768, 1694],[1000, 1694],[1231, 1694]])\n",
    "ax.scatter(x = intPoints[:,0], y = intPoints[:,1])\n",
    "\n",
    "plt.show()\n",
    "plt.savefig('PollenHeatmap_BW_colorbar.png')"
   ]
  },
  {
   "cell_type": "code",
   "execution_count": null,
   "metadata": {
    "collapsed": true
   },
   "outputs": [],
   "source": [
    "data = np.arange(100, 0, -1).reshape(10, 10)\n",
    "\n",
    "fig, ax = plt.subplots()\n",
    "#cax = fig.add_axes([0.27, 0.8, 0.5, 0.05])\n",
    "\n",
    "im = ax.imshow(data, cmap='gist_earth')\n",
    "fig.colorbar(im, cax=cax, orientation='horizontal')\n",
    "plt.show()"
   ]
  },
  {
   "cell_type": "code",
   "execution_count": null,
   "metadata": {
    "collapsed": true
   },
   "outputs": [],
   "source": []
  }
 ],
 "metadata": {
  "anaconda-cloud": {},
  "kernelspec": {
   "display_name": "Python [conda env:vis_env]",
   "language": "python",
   "name": "conda-env-vis_env-py"
  },
  "language_info": {
   "codemirror_mode": {
    "name": "ipython",
    "version": 2
   },
   "file_extension": ".py",
   "mimetype": "text/x-python",
   "name": "python",
   "nbconvert_exporter": "python",
   "pygments_lexer": "ipython2",
   "version": "2.7.12"
  }
 },
 "nbformat": 4,
 "nbformat_minor": 1
}
