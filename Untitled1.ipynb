{
 "cells": [
  {
   "cell_type": "code",
   "execution_count": 1,
   "metadata": {
    "collapsed": false
   },
   "outputs": [],
   "source": [
    "import cv2\n",
    "\n",
    "import numpy as np\n",
    "import matplotlib\n",
    "matplotlib.use(\"TkAgg\") # have to use this for tkinter to  work below\n",
    "from matplotlib import pyplot as plt\n",
    "%matplotlib tk\n",
    "\n",
    "# scikit image\n",
    "import skimage\n",
    "from skimage import io\n",
    "\n",
    "import os\n",
    "import pandas as pd\n",
    "import time\n",
    "\n",
    "\n",
    "from pylab import *\n",
    "from mpl_toolkits.mplot3d import Axes3D\n",
    "from matplotlib.cbook import get_sample_data\n",
    "from matplotlib._png import read_png"
   ]
  },
  {
   "cell_type": "code",
   "execution_count": 4,
   "metadata": {
    "collapsed": true
   },
   "outputs": [],
   "source": [
    "plt.clf()\n",
    "img = read_png('/Users/callinswitzer/Dropbox/KalmiaProject/KalmiaExamples/KalmiaManualTrig_VidsToProcess/20160615_121016.png')\n",
    "x, y = ogrid[0:img.shape[0], 0:img.shape[1]]"
   ]
  },
  {
   "cell_type": "code",
   "execution_count": 5,
   "metadata": {
    "collapsed": false
   },
   "outputs": [
    {
     "data": {
      "text/plain": [
       "array([[[ nan,  nan,  nan,  nan],\n",
       "        [ nan,  nan,  nan,  nan],\n",
       "        [ nan,  nan,  nan,  nan],\n",
       "        ..., \n",
       "        [ nan,  nan,  nan,  nan],\n",
       "        [ nan,  nan,  nan,  nan],\n",
       "        [ nan,  nan,  nan,  nan]],\n",
       "\n",
       "       [[ nan,  nan,  nan,  nan],\n",
       "        [ nan,  nan,  nan,  nan],\n",
       "        [ nan,  nan,  nan,  nan],\n",
       "        ..., \n",
       "        [ nan,  nan,  nan,  nan],\n",
       "        [ nan,  nan,  nan,  nan],\n",
       "        [ nan,  nan,  nan,  nan]],\n",
       "\n",
       "       [[ nan,  nan,  nan,  nan],\n",
       "        [ nan,  nan,  nan,  nan],\n",
       "        [ nan,  nan,  nan,  nan],\n",
       "        ..., \n",
       "        [ nan,  nan,  nan,  nan],\n",
       "        [ nan,  nan,  nan,  nan],\n",
       "        [ nan,  nan,  nan,  nan]],\n",
       "\n",
       "       ..., \n",
       "       [[ nan,  nan,  nan,  nan],\n",
       "        [ nan,  nan,  nan,  nan],\n",
       "        [ nan,  nan,  nan,  nan],\n",
       "        ..., \n",
       "        [ nan,  nan,  nan,  nan],\n",
       "        [ nan,  nan,  nan,  nan],\n",
       "        [ nan,  nan,  nan,  nan]],\n",
       "\n",
       "       [[ nan,  nan,  nan,  nan],\n",
       "        [ nan,  nan,  nan,  nan],\n",
       "        [ nan,  nan,  nan,  nan],\n",
       "        ..., \n",
       "        [ nan,  nan,  nan,  nan],\n",
       "        [ nan,  nan,  nan,  nan],\n",
       "        [ nan,  nan,  nan,  nan]],\n",
       "\n",
       "       [[ nan,  nan,  nan,  nan],\n",
       "        [ nan,  nan,  nan,  nan],\n",
       "        [ nan,  nan,  nan,  nan],\n",
       "        ..., \n",
       "        [ nan,  nan,  nan,  nan],\n",
       "        [ nan,  nan,  nan,  nan],\n",
       "        [ nan,  nan,  nan,  nan]]], dtype=float32)"
      ]
     },
     "execution_count": 5,
     "metadata": {},
     "output_type": "execute_result"
    }
   ],
   "source": [
    "ax = gca(projection='3d')\n",
    "img[img == 1] = 'nan'\n",
    "img"
   ]
  },
  {
   "cell_type": "code",
   "execution_count": 6,
   "metadata": {
    "collapsed": false
   },
   "outputs": [],
   "source": [
    "ax.plot_surface(x, y, 10, rstride=5, cstride=5, facecolors=img)\n",
    "show()"
   ]
  },
  {
   "cell_type": "code",
   "execution_count": null,
   "metadata": {
    "collapsed": true
   },
   "outputs": [],
   "source": [
    "%qtconsole"
   ]
  },
  {
   "cell_type": "code",
   "execution_count": null,
   "metadata": {
    "collapsed": true
   },
   "outputs": [],
   "source": []
  }
 ],
 "metadata": {
  "kernelspec": {
   "display_name": "Python [default]",
   "language": "python",
   "name": "python2"
  },
  "language_info": {
   "codemirror_mode": {
    "name": "ipython",
    "version": 2
   },
   "file_extension": ".py",
   "mimetype": "text/x-python",
   "name": "python",
   "nbconvert_exporter": "python",
   "pygments_lexer": "ipython2",
   "version": "2.7.9"
  }
 },
 "nbformat": 4,
 "nbformat_minor": 1
}
