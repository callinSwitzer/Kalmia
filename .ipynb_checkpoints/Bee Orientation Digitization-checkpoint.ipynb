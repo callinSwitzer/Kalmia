{
 "cells": [
  {
   "cell_type": "markdown",
   "metadata": {},
   "source": [
    "### Callin Switzer\n",
    "### 21 November 2016\n",
    "\n",
    "* Import photos of bees from freq learning experiment\n",
    "* Subtract background (maybe)\n",
    "* Digitize head and tips of wings\n",
    "* Calculate angle of bee body\n"
   ]
  },
  {
   "cell_type": "code",
   "execution_count": 371,
   "metadata": {
    "collapsed": false
   },
   "outputs": [],
   "source": [
    "import cv2\n",
    "import numpy as np\n",
    "import matplotlib\n",
    "matplotlib.use(\"TkAgg\") # have to use this for tkinter to  work below\n",
    "from matplotlib import pyplot as plt\n",
    "%matplotlib tk\n",
    "\n",
    "# scikit image\n",
    "import skimage\n",
    "from skimage import io\n",
    "\n",
    "import os\n",
    "import pandas as pd\n",
    "\n",
    "import time\n"
   ]
  },
  {
   "cell_type": "code",
   "execution_count": 72,
   "metadata": {
    "collapsed": true
   },
   "outputs": [],
   "source": [
    "% qtconsole"
   ]
  },
  {
   "cell_type": "code",
   "execution_count": 4,
   "metadata": {
    "collapsed": true
   },
   "outputs": [],
   "source": [
    "import Tkinter as tk\n",
    "import tkFileDialog\n",
    "\n",
    "def file_choose():\n",
    "    '''\n",
    "    Opens tkfileDialog and returns full path name.\n",
    "    It's the equivalent of file.choose in R.\n",
    "    Make sure the following modeules are loaded\n",
    "    import Tkinter as tk\n",
    "    import tkFileDialog\n",
    "    Also, won't work if %matplotlib qt4 has been used\n",
    "    '''\n",
    "    root = tk.Tk()\n",
    "    root.update()\n",
    "    file1 = tkFileDialog.askopenfilename(parent=root)\n",
    "    root.destroy() # closes the window\n",
    "    return file1"
   ]
  },
  {
   "cell_type": "code",
   "execution_count": 7,
   "metadata": {
    "collapsed": false
   },
   "outputs": [],
   "source": [
    "os.chdir((\"/Users/callinswitzer/Dropbox/ExperSummer2016/\" + \n",
    "         \"BeeSonicationLearningWithAvery/BeeFrequencyLearning/\"))"
   ]
  },
  {
   "cell_type": "code",
   "execution_count": 10,
   "metadata": {
    "collapsed": true
   },
   "outputs": [],
   "source": [
    "aa = file_choose()"
   ]
  },
  {
   "cell_type": "code",
   "execution_count": 11,
   "metadata": {
    "collapsed": false
   },
   "outputs": [
    {
     "data": {
      "text/plain": [
       "'/Users/callinswitzer/Dropbox/ExperSummer2016/BeeSonicationLearningWithAvery/BeeFrequencyLearning/BeeYellow2_21Nov2016_Hive4_low/2016_11_21__10_08_37/background.pgm'"
      ]
     },
     "execution_count": 11,
     "metadata": {},
     "output_type": "execute_result"
    }
   ],
   "source": [
    "aa"
   ]
  },
  {
   "cell_type": "code",
   "execution_count": 12,
   "metadata": {
    "collapsed": true
   },
   "outputs": [],
   "source": [
    "os.chdir(\"/Users/callinswitzer/Dropbox/ExperSummer2016/BeeSonicationLearningWithAvery/BeeFrequencyLearning/BeeYellow2_21Nov2016_Hive4_low/2016_11_21__10_08_37/\")"
   ]
  },
  {
   "cell_type": "code",
   "execution_count": 13,
   "metadata": {
    "collapsed": true
   },
   "outputs": [],
   "source": [
    "# list photos in directory:\n",
    "mypath = os.getcwd()\n",
    "onlyfiles = [f for f in os.listdir(mypath) if os.path.isfile(os.path.join(mypath, f))]\n",
    "photoList = [ x for x in onlyfiles if not x.startswith('.') and x.endswith('.pgm')]"
   ]
  },
  {
   "cell_type": "code",
   "execution_count": 17,
   "metadata": {
    "collapsed": true
   },
   "outputs": [],
   "source": [
    "ii = 0\n",
    "img = cv2.imread(photoList[ii], 0)"
   ]
  },
  {
   "cell_type": "code",
   "execution_count": 19,
   "metadata": {
    "collapsed": false
   },
   "outputs": [
    {
     "data": {
      "text/plain": [
       "<matplotlib.image.AxesImage at 0x11ff229d0>"
      ]
     },
     "execution_count": 19,
     "metadata": {},
     "output_type": "execute_result"
    }
   ],
   "source": [
    "io.imshow(img)"
   ]
  },
  {
   "cell_type": "code",
   "execution_count": 21,
   "metadata": {
    "collapsed": false
   },
   "outputs": [],
   "source": [
    "pts = np.array(plt.ginput(2))"
   ]
  },
  {
   "cell_type": "code",
   "execution_count": 25,
   "metadata": {
    "collapsed": false
   },
   "outputs": [
    {
     "data": {
      "text/plain": [
       "<matplotlib.collections.PathCollection at 0x11ff73750>"
      ]
     },
     "execution_count": 25,
     "metadata": {},
     "output_type": "execute_result"
    }
   ],
   "source": [
    "plt.scatter(pts[:,0], pts[:,1])"
   ]
  },
  {
   "cell_type": "code",
   "execution_count": 24,
   "metadata": {
    "collapsed": false
   },
   "outputs": [
    {
     "data": {
      "text/plain": [
       "array([ 609.29417444,  508.68225616])"
      ]
     },
     "execution_count": 24,
     "metadata": {},
     "output_type": "execute_result"
    }
   ],
   "source": [
    "pts[:,0]"
   ]
  },
  {
   "cell_type": "code",
   "execution_count": 267,
   "metadata": {
    "collapsed": true
   },
   "outputs": [],
   "source": [
    "# for background, digitize the top and bottom of the vertical piece of plexiglass\n",
    "\n",
    "newDF = []\n",
    "\n",
    "for ii in range(20, len(photoList)):\n",
    "    if ii % 3 == 0:\n",
    "        plt.clf()\n",
    "    img = cv2.imread(photoList[ii], 0)\n",
    "    io.imshow(img)\n",
    "    pts = np.array(plt.ginput(2))\n",
    "    plt.scatter(pts[:,0], pts[:,1])\n",
    "    pts[:, 1] = img.shape[0] - pts[:, 1] # change format so Y axis increases upward\n",
    "    newDF.append(np.hstack([photoList[ii].split(\".\")[0], np.hstack(pts)]))"
   ]
  },
  {
   "cell_type": "code",
   "execution_count": 280,
   "metadata": {
    "collapsed": false
   },
   "outputs": [
    {
     "data": {
      "text/html": [
       "<div>\n",
       "<table border=\"1\" class=\"dataframe\">\n",
       "  <thead>\n",
       "    <tr style=\"text-align: right;\">\n",
       "      <th></th>\n",
       "      <th>img</th>\n",
       "      <th>headx</th>\n",
       "      <th>heady</th>\n",
       "      <th>wingx</th>\n",
       "      <th>wingy</th>\n",
       "    </tr>\n",
       "  </thead>\n",
       "  <tbody>\n",
       "    <tr>\n",
       "      <th>0</th>\n",
       "      <td>2016_11_21__10_12_31_800</td>\n",
       "      <td>620.785623943</td>\n",
       "      <td>503.67815255</td>\n",
       "      <td>584.835242958</td>\n",
       "      <td>311.942787299</td>\n",
       "    </tr>\n",
       "    <tr>\n",
       "      <th>1</th>\n",
       "      <td>2016_11_21__10_12_37_210</td>\n",
       "      <td>704.179104178</td>\n",
       "      <td>439.253231801</td>\n",
       "      <td>546.074627298</td>\n",
       "      <td>281.148754921</td>\n",
       "    </tr>\n",
       "    <tr>\n",
       "      <th>2</th>\n",
       "      <td>2016_11_21__10_12_37_667</td>\n",
       "      <td>661.048251991</td>\n",
       "      <td>549.447130327</td>\n",
       "      <td>620.324381287</td>\n",
       "      <td>336.245689582</td>\n",
       "    </tr>\n",
       "    <tr>\n",
       "      <th>3</th>\n",
       "      <td>2016_11_21__10_12_38_107</td>\n",
       "      <td>577.199190396</td>\n",
       "      <td>501.536694146</td>\n",
       "      <td>584.385755814</td>\n",
       "      <td>240.424817309</td>\n",
       "    </tr>\n",
       "    <tr>\n",
       "      <th>4</th>\n",
       "      <td>2016_11_21__10_13_10_039</td>\n",
       "      <td>565.218682135</td>\n",
       "      <td>434.462083583</td>\n",
       "      <td>543.658985883</td>\n",
       "      <td>269.17107898</td>\n",
       "    </tr>\n",
       "    <tr>\n",
       "      <th>5</th>\n",
       "      <td>background</td>\n",
       "      <td>831.120152968</td>\n",
       "      <td>997.409707955</td>\n",
       "      <td>934.127590619</td>\n",
       "      <td>230.842730086</td>\n",
       "    </tr>\n",
       "  </tbody>\n",
       "</table>\n",
       "</div>"
      ],
      "text/plain": [
       "                        img          headx          heady          wingx  \\\n",
       "0  2016_11_21__10_12_31_800  620.785623943   503.67815255  584.835242958   \n",
       "1  2016_11_21__10_12_37_210  704.179104178  439.253231801  546.074627298   \n",
       "2  2016_11_21__10_12_37_667  661.048251991  549.447130327  620.324381287   \n",
       "3  2016_11_21__10_12_38_107  577.199190396  501.536694146  584.385755814   \n",
       "4  2016_11_21__10_13_10_039  565.218682135  434.462083583  543.658985883   \n",
       "5                background  831.120152968  997.409707955  934.127590619   \n",
       "\n",
       "           wingy  \n",
       "0  311.942787299  \n",
       "1  281.148754921  \n",
       "2  336.245689582  \n",
       "3  240.424817309  \n",
       "4   269.17107898  \n",
       "5  230.842730086  "
      ]
     },
     "execution_count": 280,
     "metadata": {},
     "output_type": "execute_result"
    }
   ],
   "source": [
    "df1 = pd.DataFrame(newDF, columns = [\"img\", \"headx\", \"heady\", \"wingx\", \"wingy\"])\n",
    "df1"
   ]
  },
  {
   "cell_type": "code",
   "execution_count": 344,
   "metadata": {
    "collapsed": false
   },
   "outputs": [
    {
     "data": {
      "text/plain": [
       "(0, 1024)"
      ]
     },
     "execution_count": 344,
     "metadata": {},
     "output_type": "execute_result"
    }
   ],
   "source": [
    "plt.clf()\n",
    "plt.scatter(x = np.array(df1.ix[:,  [1, 3]]).astype(float),\n",
    "            y =  np.array(df1.ix[:,  [2, 4]]).astype(float))\n",
    "plt.xlim([0, 1280])\n",
    "plt.ylim([0, 1024])"
   ]
  },
  {
   "cell_type": "code",
   "execution_count": 345,
   "metadata": {
    "collapsed": false
   },
   "outputs": [],
   "source": [
    "# calculate angles \n",
    "bkg = df1.ix[len(df1) - 1, :]"
   ]
  },
  {
   "cell_type": "code",
   "execution_count": 354,
   "metadata": {
    "collapsed": false
   },
   "outputs": [
    {
     "data": {
      "text/plain": [
       "(0, 1280)"
      ]
     },
     "execution_count": 354,
     "metadata": {},
     "output_type": "execute_result"
    }
   ],
   "source": [
    "p1 = tuple(bkg.ix[[1,2]].astype(float))\n",
    "p2 = tuple(bkg.ix[[3,4]].astype(float))\n",
    "plt.clf()\n",
    "plt.scatter(x = [p1[0], p2[0]], y = [p1[1], p2[1]])\n",
    "plt.axes().set_aspect('equal')\n",
    "plt.xlim([0, 1280])"
   ]
  },
  {
   "cell_type": "code",
   "execution_count": 357,
   "metadata": {
    "collapsed": false
   },
   "outputs": [],
   "source": [
    "# calculate angle of background, but move the bottom \n",
    "# background point to the origin (p2, will now be at origin)\n",
    "def moveTailToOrigin(p1, p2):\n",
    "    p1_adj = [p1[x] - p2[x] for x in range(len(p1))]\n",
    "    p2_adj = [p2[x] - p2[x] for x in range(len(p1))]\n",
    "    return p1_adj, p2_adj\n",
    "\n",
    "\n",
    "def angleXAxisPoint(p1):\n",
    "    ang = np.rad2deg(np.arctan2(p1[1],  p1[0]))\n",
    "    if ang < 0:\n",
    "        ang = 360.0 + ang\n",
    "    return ang\n"
   ]
  },
  {
   "cell_type": "code",
   "execution_count": 361,
   "metadata": {
    "collapsed": false
   },
   "outputs": [
    {
     "data": {
      "text/plain": [
       "97.653275950972073"
      ]
     },
     "execution_count": 361,
     "metadata": {},
     "output_type": "execute_result"
    }
   ],
   "source": [
    "p1_adj, p2_adj = moveTailToOrigin(p1, p2)\n",
    "bkg_angle = angleXAxisPoint(p1_adj)\n",
    "bkg_angle"
   ]
  },
  {
   "cell_type": "code",
   "execution_count": 389,
   "metadata": {
    "collapsed": false
   },
   "outputs": [
    {
     "name": "stdout",
     "output_type": "stream",
     "text": [
      "79.3803447237\n",
      "45.0\n",
      "79.1861224864\n",
      "91.5765500553\n",
      "82.568592029\n",
      "97.653275951\n"
     ]
    }
   ],
   "source": [
    "# calculate angle for other points\n",
    "angles = []\n",
    "for kk in range(len(df1)):\n",
    "    tmp = df1.ix[kk, :]\n",
    "    p1 = tuple(tmp.ix[[1,2]].astype(float))\n",
    "    p2 = tuple(tmp.ix[[3,4]].astype(float))\n",
    "\n",
    "#     fig, ax = plt.subplots(1)\n",
    "#     xx = [p1[0], p2[0]]\n",
    "#     yy = [p1[1], p2[1]]\n",
    "#     ax.scatter(x = xx, y =yy )\n",
    "#     ax.set_aspect('equal')\n",
    "#     n = [kk, kk]\n",
    "#     for i, txt in enumerate(n):\n",
    "#         ax.annotate(txt, (xx[i],yy[i] ))\n",
    "\n",
    "\n",
    "    \n",
    "    p1_adj, p2_adj = moveTailToOrigin(p1, p2)\n",
    "    bkg_angle = angleXAxisPoint(p1_adj)\n",
    "    print bkg_angle\n",
    "    angles.append(bkg_angle)\n",
    "    \n",
    "df1[\"angleFromX\"] = angles"
   ]
  },
  {
   "cell_type": "code",
   "execution_count": 409,
   "metadata": {
    "collapsed": false
   },
   "outputs": [],
   "source": [
    "df1[\"angleFromBackground\"] = [float(df1[\"angleFromX\"][x] - df1[\"angleFromX\"][df1[\"img\"] == \"background\"]) for x in range(len(df1))]"
   ]
  },
  {
   "cell_type": "code",
   "execution_count": 410,
   "metadata": {
    "collapsed": false
   },
   "outputs": [
    {
     "data": {
      "text/html": [
       "<div>\n",
       "<table border=\"1\" class=\"dataframe\">\n",
       "  <thead>\n",
       "    <tr style=\"text-align: right;\">\n",
       "      <th></th>\n",
       "      <th>img</th>\n",
       "      <th>headx</th>\n",
       "      <th>heady</th>\n",
       "      <th>wingx</th>\n",
       "      <th>wingy</th>\n",
       "      <th>angleFromX</th>\n",
       "      <th>angleFromBackground</th>\n",
       "    </tr>\n",
       "  </thead>\n",
       "  <tbody>\n",
       "    <tr>\n",
       "      <th>0</th>\n",
       "      <td>2016_11_21__10_12_31_800</td>\n",
       "      <td>620.785623943</td>\n",
       "      <td>503.67815255</td>\n",
       "      <td>584.835242958</td>\n",
       "      <td>311.942787299</td>\n",
       "      <td>79.380345</td>\n",
       "      <td>-18.272931</td>\n",
       "    </tr>\n",
       "    <tr>\n",
       "      <th>1</th>\n",
       "      <td>2016_11_21__10_12_37_210</td>\n",
       "      <td>704.179104178</td>\n",
       "      <td>439.253231801</td>\n",
       "      <td>546.074627298</td>\n",
       "      <td>281.148754921</td>\n",
       "      <td>45.000000</td>\n",
       "      <td>-52.653276</td>\n",
       "    </tr>\n",
       "    <tr>\n",
       "      <th>2</th>\n",
       "      <td>2016_11_21__10_12_37_667</td>\n",
       "      <td>661.048251991</td>\n",
       "      <td>549.447130327</td>\n",
       "      <td>620.324381287</td>\n",
       "      <td>336.245689582</td>\n",
       "      <td>79.186122</td>\n",
       "      <td>-18.467153</td>\n",
       "    </tr>\n",
       "    <tr>\n",
       "      <th>3</th>\n",
       "      <td>2016_11_21__10_12_38_107</td>\n",
       "      <td>577.199190396</td>\n",
       "      <td>501.536694146</td>\n",
       "      <td>584.385755814</td>\n",
       "      <td>240.424817309</td>\n",
       "      <td>91.576550</td>\n",
       "      <td>-6.076726</td>\n",
       "    </tr>\n",
       "    <tr>\n",
       "      <th>4</th>\n",
       "      <td>2016_11_21__10_13_10_039</td>\n",
       "      <td>565.218682135</td>\n",
       "      <td>434.462083583</td>\n",
       "      <td>543.658985883</td>\n",
       "      <td>269.17107898</td>\n",
       "      <td>82.568592</td>\n",
       "      <td>-15.084684</td>\n",
       "    </tr>\n",
       "    <tr>\n",
       "      <th>5</th>\n",
       "      <td>background</td>\n",
       "      <td>831.120152968</td>\n",
       "      <td>997.409707955</td>\n",
       "      <td>934.127590619</td>\n",
       "      <td>230.842730086</td>\n",
       "      <td>97.653276</td>\n",
       "      <td>0.000000</td>\n",
       "    </tr>\n",
       "  </tbody>\n",
       "</table>\n",
       "</div>"
      ],
      "text/plain": [
       "                        img          headx          heady          wingx  \\\n",
       "0  2016_11_21__10_12_31_800  620.785623943   503.67815255  584.835242958   \n",
       "1  2016_11_21__10_12_37_210  704.179104178  439.253231801  546.074627298   \n",
       "2  2016_11_21__10_12_37_667  661.048251991  549.447130327  620.324381287   \n",
       "3  2016_11_21__10_12_38_107  577.199190396  501.536694146  584.385755814   \n",
       "4  2016_11_21__10_13_10_039  565.218682135  434.462083583  543.658985883   \n",
       "5                background  831.120152968  997.409707955  934.127590619   \n",
       "\n",
       "           wingy  angleFromX  angleFromBackground  \n",
       "0  311.942787299   79.380345           -18.272931  \n",
       "1  281.148754921   45.000000           -52.653276  \n",
       "2  336.245689582   79.186122           -18.467153  \n",
       "3  240.424817309   91.576550            -6.076726  \n",
       "4   269.17107898   82.568592           -15.084684  \n",
       "5  230.842730086   97.653276             0.000000  "
      ]
     },
     "execution_count": 410,
     "metadata": {},
     "output_type": "execute_result"
    }
   ],
   "source": [
    "df1"
   ]
  },
  {
   "cell_type": "code",
   "execution_count": null,
   "metadata": {
    "collapsed": true
   },
   "outputs": [],
   "source": [
    "### HERE STOPPED ###"
   ]
  },
  {
   "cell_type": "code",
   "execution_count": null,
   "metadata": {
    "collapsed": true
   },
   "outputs": [],
   "source": []
  },
  {
   "cell_type": "code",
   "execution_count": null,
   "metadata": {
    "collapsed": true
   },
   "outputs": [],
   "source": []
  },
  {
   "cell_type": "code",
   "execution_count": null,
   "metadata": {
    "collapsed": true
   },
   "outputs": [],
   "source": []
  },
  {
   "cell_type": "code",
   "execution_count": 341,
   "metadata": {
    "collapsed": false
   },
   "outputs": [
    {
     "data": {
      "text/plain": [
       "348.69006752597977"
      ]
     },
     "execution_count": 341,
     "metadata": {},
     "output_type": "execute_result"
    }
   ],
   "source": [
    "p1 = (5,-1)\n",
    "#np.rad2deg(np.arctan2(p1[1],  p1[0]))\n",
    "angleXAxisPoint(p1)"
   ]
  },
  {
   "cell_type": "code",
   "execution_count": 381,
   "metadata": {
    "collapsed": false
   },
   "outputs": [
    {
     "data": {
      "text/plain": [
       "97.653275950972073"
      ]
     },
     "execution_count": 381,
     "metadata": {},
     "output_type": "execute_result"
    }
   ],
   "source": [
    "angleXAxisPoint(p1_adj)"
   ]
  },
  {
   "cell_type": "code",
   "execution_count": 266,
   "metadata": {
    "collapsed": false
   },
   "outputs": [
    {
     "data": {
      "text/plain": [
       "(1024, 0)"
      ]
     },
     "execution_count": 266,
     "metadata": {},
     "output_type": "execute_result"
    }
   ],
   "source": [
    "plt.clf()\n",
    "#plt.plot([p1[0], p2[0]], [p1[1], p1[1]])\n",
    "plt.scatter(x = [p1[0], p2[0]], y = [p1[1], p2[1]])\n",
    "plt.axes().set_aspect('equal')\n",
    "plt.xlim([0, 1280])\n",
    "plt.ylim([1024, 0])"
   ]
  },
  {
   "cell_type": "code",
   "execution_count": 245,
   "metadata": {
    "collapsed": false
   },
   "outputs": [
    {
     "data": {
      "text/plain": [
       "(0, 1024)"
      ]
     },
     "execution_count": 245,
     "metadata": {},
     "output_type": "execute_result"
    }
   ],
   "source": [
    "plt.clf()\n",
    "#plt.plot([p1[0], p2[0]], [p1[1], p1[1]])\n",
    "plt.scatter(x = [p1[0], p2[0]], y = [p1[1], p2[1]])\n",
    "plt.axes().set_aspect('equal')\n",
    "plt.xlim([0, 1280])\n",
    "plt.ylim([0, 1024])"
   ]
  },
  {
   "cell_type": "code",
   "execution_count": 114,
   "metadata": {
    "collapsed": false
   },
   "outputs": [
    {
     "data": {
      "text/plain": [
       "828.81323026345967"
      ]
     },
     "execution_count": 114,
     "metadata": {},
     "output_type": "execute_result"
    }
   ],
   "source": [
    "np.linalg.norm(np.array(bkg[[1,2]].astype(float)))\n"
   ]
  },
  {
   "cell_type": "code",
   "execution_count": 246,
   "metadata": {
    "collapsed": false
   },
   "outputs": [
    {
     "data": {
      "text/plain": [
       "array([ 0.,  0.])"
      ]
     },
     "execution_count": 246,
     "metadata": {},
     "output_type": "execute_result"
    }
   ],
   "source": [
    "np.angle([0, 1], deg=True)"
   ]
  },
  {
   "cell_type": "code",
   "execution_count": 123,
   "metadata": {
    "collapsed": false
   },
   "outputs": [],
   "source": [
    "uv = unit_vector(bkg[[3,4]])\n",
    "plt.clf()\n",
    "plt.scatter([0, uv[0]], [0, uv[1]])\n",
    "plt.axes().set_aspect('equal')"
   ]
  },
  {
   "cell_type": "code",
   "execution_count": 120,
   "metadata": {
    "collapsed": false
   },
   "outputs": [
    {
     "data": {
      "text/plain": [
       "array([ 0.75663882,  0.65383308])"
      ]
     },
     "execution_count": 120,
     "metadata": {},
     "output_type": "execute_result"
    }
   ],
   "source": [
    "uv"
   ]
  },
  {
   "cell_type": "code",
   "execution_count": 124,
   "metadata": {
    "collapsed": false
   },
   "outputs": [
    {
     "data": {
      "text/plain": [
       "wingx    931.730619197\n",
       "wingy    805.134878943\n",
       "Name: 25, dtype: object"
      ]
     },
     "execution_count": 124,
     "metadata": {},
     "output_type": "execute_result"
    }
   ],
   "source": [
    "bkg[[3,4]]"
   ]
  },
  {
   "cell_type": "code",
   "execution_count": null,
   "metadata": {
    "collapsed": true
   },
   "outputs": [],
   "source": []
  }
 ],
 "metadata": {
  "anaconda-cloud": {},
  "kernelspec": {
   "display_name": "Python [default]",
   "language": "python",
   "name": "python2"
  },
  "language_info": {
   "codemirror_mode": {
    "name": "ipython",
    "version": 2
   },
   "file_extension": ".py",
   "mimetype": "text/x-python",
   "name": "python",
   "nbconvert_exporter": "python",
   "pygments_lexer": "ipython2",
   "version": "2.7.9"
  }
 },
 "nbformat": 4,
 "nbformat_minor": 1
}
