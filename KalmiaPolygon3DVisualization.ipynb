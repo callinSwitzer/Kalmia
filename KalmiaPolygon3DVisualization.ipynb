{
 "cells": [
  {
   "cell_type": "markdown",
   "metadata": {},
   "source": [
    "### Callin Switzer\n",
    "\n",
    "2 Nov 2016\n",
    "\n",
    "-Read in all the Kalmia polygon images (from R KalmiaVisualizePolygons_V2.R)\n",
    "- Make sure to use Python [conda env:vis_env]\n",
    "\n",
    "-visualize in 3D\n",
    "\n",
    "-Resample all of the images\n",
    "\n",
    "-Stack resampled images (in 3D)\n",
    "\n",
    "-Visualize a heatmap\n",
    "\n",
    "-Save heatmap"
   ]
  },
  {
   "cell_type": "code",
   "execution_count": 1,
   "metadata": {
    "collapsed": true
   },
   "outputs": [],
   "source": [
    "import cv2"
   ]
  },
  {
   "cell_type": "code",
   "execution_count": 2,
   "metadata": {
    "collapsed": true
   },
   "outputs": [],
   "source": [
    "import numpy as np\n",
    "import matplotlib\n",
    "matplotlib.use(\"TkAgg\") # have to use this for tkinter to  work below\n",
    "from matplotlib import pyplot as plt\n",
    "%matplotlib tk"
   ]
  },
  {
   "cell_type": "code",
   "execution_count": 3,
   "metadata": {
    "collapsed": false
   },
   "outputs": [],
   "source": [
    "# scikit image\n",
    "import skimage\n",
    "from skimage import io"
   ]
  },
  {
   "cell_type": "code",
   "execution_count": 4,
   "metadata": {
    "collapsed": false
   },
   "outputs": [],
   "source": [
    "import os\n",
    "import pandas as pd\n",
    "import time"
   ]
  },
  {
   "cell_type": "code",
   "execution_count": 5,
   "metadata": {
    "collapsed": false
   },
   "outputs": [],
   "source": [
    "import scipy\n",
    "import scipy.ndimage\n",
    "\n",
    "from mpl_toolkits.mplot3d import Axes3D\n",
    "import sys"
   ]
  },
  {
   "cell_type": "code",
   "execution_count": null,
   "metadata": {
    "collapsed": false
   },
   "outputs": [],
   "source": [
    "from mayavi import mlab\n",
    "from scipy import stats"
   ]
  },
  {
   "cell_type": "code",
   "execution_count": null,
   "metadata": {
    "collapsed": true
   },
   "outputs": [],
   "source": [
    "% qtconsole"
   ]
  },
  {
   "cell_type": "markdown",
   "metadata": {},
   "source": [
    "May want to look at this: http://stackoverflow.com/questions/25286811/how-to-plot-a-3d-density-map-in-python-with-matplotlib"
   ]
  },
  {
   "cell_type": "code",
   "execution_count": null,
   "metadata": {
    "collapsed": true
   },
   "outputs": [],
   "source": [
    "# list files in directory"
   ]
  },
  {
   "cell_type": "code",
   "execution_count": 6,
   "metadata": {
    "collapsed": false
   },
   "outputs": [],
   "source": [
    "os.chdir(\"/Users/callinswitzer/Dropbox/ExperSummer2016/Kalmia/KalmiaExamples/KalmiaManualTrig_VidsToProcess\")"
   ]
  },
  {
   "cell_type": "code",
   "execution_count": 7,
   "metadata": {
    "collapsed": false
   },
   "outputs": [],
   "source": [
    "# list files in directory\n",
    "mypath = os.getcwd()\n",
    "onlyfiles = [f for f in os.listdir(mypath) if os.path.isfile(os.path.join(mypath, f))]\n",
    "photoList = [ x for x in onlyfiles if not x.startswith('.') and x.endswith('.png')]"
   ]
  },
  {
   "cell_type": "code",
   "execution_count": 8,
   "metadata": {
    "collapsed": false
   },
   "outputs": [
    {
     "data": {
      "text/plain": [
       "29"
      ]
     },
     "execution_count": 8,
     "metadata": {},
     "output_type": "execute_result"
    }
   ],
   "source": [
    "len(photoList)"
   ]
  },
  {
   "cell_type": "code",
   "execution_count": null,
   "metadata": {
    "collapsed": true
   },
   "outputs": [],
   "source": []
  },
  {
   "cell_type": "code",
   "execution_count": null,
   "metadata": {
    "collapsed": true
   },
   "outputs": [],
   "source": []
  },
  {
   "cell_type": "code",
   "execution_count": 414,
   "metadata": {
    "collapsed": false
   },
   "outputs": [
    {
     "data": {
      "text/plain": [
       "''"
      ]
     },
     "execution_count": 414,
     "metadata": {},
     "output_type": "execute_result"
    }
   ],
   "source": [
    "# read in image and resize\n",
    "kk = 1\n",
    "# img = np.array(cv2.imread(photoList[kk], 0))\n",
    "img = np.array(cv2.imread('20160615_153850.png', 0))\n",
    "\n",
    "newSideLen = 200\n",
    "\n",
    "r = float(newSideLen) / img.shape[1]\n",
    "dim = (int(newSideLen), int(img.shape[0] * r))\n",
    " \n",
    "# perform the actual resizing of the image and show it\n",
    "resized = cv2.resize(img, dim, interpolation = cv2.INTER_AREA)\n",
    "\n",
    "resized = np.array((resized < 255) * 1.0)\n",
    "\n",
    "# clear edges of resized image (grid from graph)\n",
    "resized[:, 0:newSideLen/20] = 0\n",
    "resized[newSideLen - newSideLen/20:newSideLen, :] = 0\n",
    "\n",
    "plt.close('all')\n",
    "io.imshow(resized)\n",
    "thismanager = plt.get_current_fig_manager()\n",
    "thismanager.window.wm_geometry(\"-1-1\")\n",
    "\n",
    "\n"
   ]
  },
  {
   "cell_type": "code",
   "execution_count": 415,
   "metadata": {
    "collapsed": false
   },
   "outputs": [
    {
     "data": {
      "text/plain": [
       "<matplotlib.image.AxesImage at 0x1463bec50>"
      ]
     },
     "execution_count": 415,
     "metadata": {},
     "output_type": "execute_result"
    }
   ],
   "source": [
    "plt.imshow(resized)"
   ]
  },
  {
   "cell_type": "code",
   "execution_count": 435,
   "metadata": {
    "collapsed": false
   },
   "outputs": [
    {
     "data": {
      "text/plain": [
       "0"
      ]
     },
     "execution_count": 435,
     "metadata": {},
     "output_type": "execute_result"
    }
   ],
   "source": [
    "# make empty np array\n",
    "# for future reference, these are stacked wrong\n",
    "\n",
    "# rotate image for visualization with numpy\n",
    "resized_flip = np.rot90(resized, 3)\n",
    "stackedArr = np.ones(shape=(np.repeat(newSideLen, [3]))) * 0.0\n",
    "\n",
    "midpt = stackedArr.shape[1]/2\n",
    "\n",
    "stackedArr[midpt,:,:] = stackedArr[midpt,:,:] + resized_flip\n",
    "\n",
    "stackedArr[:, midpt, :] = stackedArr[:, midpt, :] + resized_flip\n",
    "\n",
    "# get size\n",
    "sys.getsizeof(stackedArr)/1000/1000 # in MB\n"
   ]
  },
  {
   "cell_type": "code",
   "execution_count": null,
   "metadata": {
    "collapsed": false
   },
   "outputs": [],
   "source": [
    "x,y,z = stackedArr.nonzero()"
   ]
  },
  {
   "cell_type": "code",
   "execution_count": null,
   "metadata": {
    "collapsed": false
   },
   "outputs": [],
   "source": [
    "#plt.close('all')\n",
    "plt.clf()\n",
    "fig = plt.figure(1)\n",
    "ax = fig.add_subplot(111, projection='3d')\n",
    "ax.scatter(x, y, z, zdir='z', c = stackedArr[x,y,z], \n",
    "           cmap = 'Greys', edgecolor = 'none', marker = 's')\n",
    "#plt.savefig(\"demo.png\")"
   ]
  },
  {
   "cell_type": "code",
   "execution_count": null,
   "metadata": {
    "collapsed": true
   },
   "outputs": [],
   "source": [
    "plt.close('all')\n",
    "mlab.close(all = True)"
   ]
  },
  {
   "cell_type": "code",
   "execution_count": null,
   "metadata": {
    "collapsed": false
   },
   "outputs": [],
   "source": [
    "# visualize with MayaVi points in 3d\n",
    "x,y,z = stackedArr.nonzero()\n",
    "xyz = np.vstack([x, y, z,])\n",
    "kde = stats.gaussian_kde(xyz)\n",
    "density = kde(xyz)\n",
    "\n",
    "# Plot scatter with mayavi\n",
    "figure = mlab.figure('DensityPlot')\n",
    "pts = mlab.points3d(x, y, z, stackedArr[x,y,z], colormap = 'hot', \n",
    "                    scale_mode='none', scale_factor=1, opacity = 0.2)\n",
    "mlab.axes()\n",
    "mlab.show()"
   ]
  },
  {
   "cell_type": "code",
   "execution_count": 433,
   "metadata": {
    "collapsed": false
   },
   "outputs": [],
   "source": [
    "# visualize density with MayaVi\n",
    "density = stackedArr\n",
    "grid = mlab.pipeline.scalar_field(density)\n",
    "min1 = density.min()\n",
    "max1=density.max()\n",
    "mlab.pipeline.volume(grid, vmin=min1, vmax=min1 + .5*(max1-min1))\n",
    "\n",
    "mlab.axes()\n",
    "mlab.show()"
   ]
  },
  {
   "cell_type": "code",
   "execution_count": null,
   "metadata": {
    "collapsed": true
   },
   "outputs": [],
   "source": []
  },
  {
   "cell_type": "code",
   "execution_count": null,
   "metadata": {
    "collapsed": true
   },
   "outputs": [],
   "source": []
  },
  {
   "cell_type": "code",
   "execution_count": null,
   "metadata": {
    "collapsed": true
   },
   "outputs": [],
   "source": []
  },
  {
   "cell_type": "code",
   "execution_count": null,
   "metadata": {
    "collapsed": true
   },
   "outputs": [],
   "source": []
  },
  {
   "cell_type": "code",
   "execution_count": null,
   "metadata": {
    "collapsed": true
   },
   "outputs": [],
   "source": []
  },
  {
   "cell_type": "markdown",
   "metadata": {},
   "source": [
    "# Rotate image"
   ]
  },
  {
   "cell_type": "code",
   "execution_count": 436,
   "metadata": {
    "collapsed": false
   },
   "outputs": [],
   "source": [
    "plt.clf()\n",
    "io.imshow(resized)"
   ]
  },
  {
   "cell_type": "code",
   "execution_count": 437,
   "metadata": {
    "collapsed": false
   },
   "outputs": [],
   "source": [
    "# rotate image with opencv\n",
    "w = resized.shape[0]\n",
    "h = resized.shape[1]\n",
    "M = cv2.getRotationMatrix2D((newSideLen/2,newSideLen/2), 36, 1.0)\n",
    "rotated = cv2.warpAffine(resized, M, (w, h))\n",
    "io.imshow(rotated < .4)\n"
   ]
  },
  {
   "cell_type": "code",
   "execution_count": 438,
   "metadata": {
    "collapsed": false
   },
   "outputs": [],
   "source": [
    "# rotate with scipy\n",
    "plt.clf()\n",
    "i2 = scipy.ndimage.interpolation.rotate(np.array(resized), 36, axes=(1,0))\n",
    "io.imshow(i2)"
   ]
  },
  {
   "cell_type": "code",
   "execution_count": 439,
   "metadata": {
    "collapsed": false
   },
   "outputs": [],
   "source": [
    "stackedRot = np.ones(shape=(np.repeat(newSideLen, [3]))) * 0.0\n",
    "stackedRot[midpt,:,:] = stackedRot[midpt,:,:] + resized_flip"
   ]
  },
  {
   "cell_type": "code",
   "execution_count": 444,
   "metadata": {
    "collapsed": false
   },
   "outputs": [
    {
     "data": {
      "text/plain": [
       "<mayavi.modules.axes.Axes at 0x21f90bbf0>"
      ]
     },
     "execution_count": 444,
     "metadata": {},
     "output_type": "execute_result"
    }
   ],
   "source": [
    "# visualize\n",
    "mlab.close(all = True)\n",
    "mlab.figure(size = (1024,768),\n",
    "            bgcolor = (1,1,1), fgcolor = (0.5, 0.5, 0.5))\n",
    "mlab.contour3d(stackedRot)\n",
    "mlab.axes()"
   ]
  },
  {
   "cell_type": "code",
   "execution_count": 429,
   "metadata": {
    "collapsed": false
   },
   "outputs": [
    {
     "data": {
      "text/plain": [
       "<mayavi.modules.iso_surface.IsoSurface at 0x1d208b590>"
      ]
     },
     "execution_count": 429,
     "metadata": {},
     "output_type": "execute_result"
    }
   ],
   "source": [
    "mlab.clf()\n",
    "#pixels (should be an even number to make it symmetrical)\n",
    "\n",
    "pollWidth = newSideLen / 100 / 2\n",
    "\n",
    "stackedRot = np.ones(shape=(np.repeat(newSideLen, [3]))) * 0.0\n",
    "stackedRot[midpt-pollWidth:midpt + pollWidth,:,:] = stackedRot[midpt-pollWidth:midpt + pollWidth,:,:] + resized_flip\n",
    "\n",
    "\n",
    "\n",
    "# pretty fast\n",
    "w,h = stackedRot.shape[:2]\n",
    "M = cv2.getRotationMatrix2D((newSideLen/2,newSideLen/2), 36, 1.0)\n",
    "rotated = cv2.warpAffine(resized, M, (w, h))\n",
    "\n",
    "\n",
    "for ii in range(newSideLen):\n",
    "    stackedRot[:,:,ii] = ((cv2.warpAffine(stackedRot[:,:,ii], M, (w, h)) +\n",
    "                          stackedRot[:,:,ii]) < 1 ) * 1\n",
    "    \n",
    "mlab.contour3d(stackedRot)\n",
    "    "
   ]
  },
  {
   "cell_type": "code",
   "execution_count": null,
   "metadata": {
    "collapsed": false
   },
   "outputs": [],
   "source": [
    "stackedRot = np.ones(shape=(np.repeat(newSideLen, [3]))) * 0.0\n",
    "stackedRot[midpt-pollWidth:midpt + pollWidth,:,:] = stackedRot[midpt-pollWidth:midpt + pollWidth,:,:] + resized_flip\n",
    "\n",
    "\n",
    "stackedRot_fin = np.ones(shape=(np.repeat(newSideLen, [3]))) * 0.0\n",
    "\n",
    "# do for all 10\n",
    "for kk in range(10):\n",
    "    M = cv2.getRotationMatrix2D((newSideLen/2,newSideLen/2), 36*kk, 1.0)\n",
    "\n",
    "    for ii in range(newSideLen):\n",
    "        stackedRot_fin[:,:,ii] = ((cv2.warpAffine(stackedRot[:,:,ii], M, (w, h)) > 0.3) * 1 +\n",
    "                              stackedRot_fin[:,:,ii])\n",
    "\n",
    "        \n"
   ]
  },
  {
   "cell_type": "code",
   "execution_count": null,
   "metadata": {
    "collapsed": true
   },
   "outputs": [],
   "source": [
    "# slice in z-direction\n",
    "io.imshow(stackedRot_fin[:,:,newSideLen / 2])"
   ]
  },
  {
   "cell_type": "code",
   "execution_count": null,
   "metadata": {
    "collapsed": false
   },
   "outputs": [],
   "source": [
    "mlab.clf()\n",
    "plt.close('all')\n",
    "mlab.contour3d(stackedRot_fin, contours = 10)"
   ]
  },
  {
   "cell_type": "code",
   "execution_count": null,
   "metadata": {
    "collapsed": true
   },
   "outputs": [],
   "source": [
    "# final density visualization\n",
    "mlab.clf()\n",
    "density = stackedRot_fin\n",
    "grid = mlab.pipeline.scalar_field(density)\n",
    "min1 = density.min()\n",
    "max1=density.max()\n",
    "mlab.pipeline.volume(grid, vmin=min1, vmax=min1 + .5*(max1-min1))\n",
    "\n",
    "mlab.axes()\n",
    "mlab.show()"
   ]
  },
  {
   "cell_type": "code",
   "execution_count": null,
   "metadata": {
    "collapsed": true
   },
   "outputs": [],
   "source": [
    "# visualize with points\n",
    "# visualize with MayaVi points in 3d\n",
    "x,y,z = stackedRot_fin.nonzero()\n",
    "\n",
    "# Plot scatter with mayavi\n",
    "figure = mlab.figure('DensityPlot')\n",
    "pts = mlab.points3d(x, y, z, stackedRot_fin[x,y,z], colormap = 'hot', \n",
    "                    scale_mode='none', scale_factor=1.5, opacity = 0.02)\n",
    "mlab.axes()\n",
    "mlab.show()"
   ]
  },
  {
   "cell_type": "code",
   "execution_count": null,
   "metadata": {
    "collapsed": false
   },
   "outputs": [],
   "source": [
    "io.imshow(resized)\n",
    "intPoints = np.array([[768, 1694],[1000, 1694],[1231, 1694]]) / 10.0\n",
    "plt.scatter(intPoints[:, 0], intPoints[:,1])"
   ]
  },
  {
   "cell_type": "code",
   "execution_count": null,
   "metadata": {
    "collapsed": true
   },
   "outputs": [],
   "source": []
  },
  {
   "cell_type": "code",
   "execution_count": null,
   "metadata": {
    "collapsed": true
   },
   "outputs": [],
   "source": []
  },
  {
   "cell_type": "code",
   "execution_count": null,
   "metadata": {
    "collapsed": true
   },
   "outputs": [],
   "source": []
  },
  {
   "cell_type": "code",
   "execution_count": null,
   "metadata": {
    "collapsed": true
   },
   "outputs": [],
   "source": []
  },
  {
   "cell_type": "markdown",
   "metadata": {},
   "source": [
    "# Resampling and replotting"
   ]
  },
  {
   "cell_type": "code",
   "execution_count": null,
   "metadata": {
    "collapsed": false
   },
   "outputs": [],
   "source": [
    "# read in all images in direcory, resize, and make a big numpy array\n",
    "# read in image and resize\n",
    "\n",
    "newSideLen = 200\n",
    "img = np.array(cv2.imread(photoList[1], 0))\n",
    "r = float(newSideLen) / img.shape[1]\n",
    "dim = (int(newSideLen), int(img.shape[0] * r))\n",
    "\n",
    "stackedImgs = np.ones((newSideLen, newSideLen, len(photoList)))\n",
    "\n",
    "\n",
    "for hh in range(len(photoList)):\n",
    "    img = np.array(cv2.imread(photoList[hh], 0)) # read in image black and white\n",
    "\n",
    "    # perform the resizing\n",
    "    resized = cv2.resize(img, dim, interpolation = cv2.INTER_AREA)\n",
    "\n",
    "    # convert to binary\n",
    "    resized = np.array((resized < 255) * 1.0)\n",
    "\n",
    "    # clear edges of resized image (grid from graph)\n",
    "    resized[:, 0:newSideLen/20] = 0\n",
    "    resized[newSideLen - newSideLen/20:newSideLen, :] = 0\n",
    "    \n",
    "    # add to stacked array\n",
    "    stackedImgs[:,:,hh] = resized"
   ]
  },
  {
   "cell_type": "code",
   "execution_count": null,
   "metadata": {
    "collapsed": false
   },
   "outputs": [],
   "source": [
    "def resampRotate(stackedImgs):\n",
    "    '''\n",
    "    Resample all the images (same number of photos that I took)\n",
    "    Randomly rotate images in 1/10 of 360 degree increments\n",
    "    Put into 3D space\n",
    "    '''\n",
    "    \n",
    "    # prepare to resample resized images\n",
    "    pollWidth = newSideLen / 100 / 2\n",
    "    midpt = newSideLen / 2\n",
    "\n",
    "    # make temporary array\n",
    "    stackedRot = np.ones(shape=(np.repeat(newSideLen, [3]))) * 0.0\n",
    "    w,h = stackedRot.shape[:2]\n",
    "\n",
    "\n",
    "    # make final array\n",
    "    stackedRot_fin = np.ones(shape=(np.repeat(newSideLen, [3]))) * 0.0\n",
    "    \n",
    "    \n",
    "    # resample all images\n",
    "    photoSamp = np.random.choice(range(len(photoList)), size = len(photoList), replace = True)\n",
    "    # resample rotation angles\n",
    "    angles = np.random.choice(range(10), len(photoList), True)\n",
    "\n",
    "\n",
    "    for kk in photoSamp:\n",
    "\n",
    "        # get image to rotate\n",
    "        resized = stackedImgs[:,:,kk]\n",
    "        resized_flip = np.rot90(resized, 3)\n",
    "\n",
    "        # get rotatation matrix\n",
    "        M = cv2.getRotationMatrix2D((newSideLen/2,newSideLen/2), 36*angles[kk], 1.0)\n",
    "\n",
    "        # reset blank 3D array\n",
    "        stackedRot = stackedRot * 0.0\n",
    "\n",
    "        # get image to rotate into 3D space\n",
    "        stackedRot[midpt-pollWidth:midpt + pollWidth,:,:] = stackedRot[midpt-pollWidth:midpt + pollWidth,:,:] + resized_flip\n",
    "\n",
    "        # rotate image in 3D, by doing one level at a time\n",
    "        for ii in range(newSideLen):\n",
    "            stackedRot_fin[:,:,ii] = ((cv2.warpAffine(stackedRot[:,:,ii], M, (w, h)) > 0.3) * 1 +\n",
    "                                  stackedRot_fin[:,:,ii])\n",
    "        \n",
    "    return stackedRot_fin"
   ]
  },
  {
   "cell_type": "code",
   "execution_count": null,
   "metadata": {
    "collapsed": false
   },
   "outputs": [],
   "source": [
    "finArry = resampRotate(stackedImgs=stackedImgs)\n",
    "# mlab.clf()\n",
    "# mlab.contour3d(finArry, contours = 10)\n",
    "print np.max(finArry)"
   ]
  },
  {
   "cell_type": "code",
   "execution_count": null,
   "metadata": {
    "collapsed": false
   },
   "outputs": [],
   "source": [
    "stackedExample  = np.array([stackedImgs[:,:,1] for ii in range(stackedImgs.shape[2]) ])\n",
    "np.max(stackedExample.sum(axis = 0)) # example for \"theoretical maximum\""
   ]
  },
  {
   "cell_type": "code",
   "execution_count": null,
   "metadata": {
    "collapsed": false
   },
   "outputs": [],
   "source": [
    "# repeat the resampling method multiple times\n",
    "\n",
    "res_fin = np.ones(shape=(np.repeat(newSideLen, [3]))) * 0.0\n",
    "\n",
    "stt = time.time()\n",
    "for ii in range(500):\n",
    "    tmp = resampRotate(stackedImgs)\n",
    "    res_fin = res_fin + tmp\n",
    "    print ii, time.time() - stt # takes about 8 seconds each"
   ]
  },
  {
   "cell_type": "code",
   "execution_count": null,
   "metadata": {
    "collapsed": false
   },
   "outputs": [],
   "source": [
    "# save numpy array, so I don't have to keep running the simulation\n",
    "outfile = '/Users/callinswitzer/Desktop/array5.npy'\n",
    "np.save(outfile, res_fin)"
   ]
  },
  {
   "cell_type": "markdown",
   "metadata": {},
   "source": [
    "# start here, if not conducting the simulations"
   ]
  },
  {
   "cell_type": "code",
   "execution_count": 368,
   "metadata": {
    "collapsed": true
   },
   "outputs": [],
   "source": [
    "# load np array\n",
    "res_fin = np.load('/Users/callinswitzer/Dropbox/ExperSummer2016/Kalmia/array5.npy')\n",
    "intPoints = np.round(np.array([[768, 1694],[1000, 1694],[1231, 1694]]) / 10.0)\n",
    "density = res_fin / (29 * 500) # dividing array by max possible value (29 videos, 500 resamples)"
   ]
  },
  {
   "cell_type": "code",
   "execution_count": 445,
   "metadata": {
    "collapsed": false
   },
   "outputs": [
    {
     "data": {
      "text/plain": [
       "<mayavi.modules.axes.Axes at 0x21ffbecb0>"
      ]
     },
     "execution_count": 445,
     "metadata": {},
     "output_type": "execute_result"
    }
   ],
   "source": [
    "#### mlab.close(all = True)\n",
    "mlab.figure(size = (1024,768),\n",
    "            bgcolor = (1,1,1), fgcolor = (0.5, 0.5, 0.5))\n",
    "mlab.contour3d(res_fin, contours= 30)\n",
    "mlab.axes()\n",
    "\n",
    "# intPoints = np.array([[768, 1694],[1000, 1694],[1231, 1694]]) / 10\n",
    "# mlab.points3d([100, 100, 100], intPoints[:,0], 200 - intPoints[:,1], colormap = 'hot', \n",
    "#                     scale_mode='none', scale_factor=5, opacity = 1)"
   ]
  },
  {
   "cell_type": "code",
   "execution_count": null,
   "metadata": {
    "collapsed": false
   },
   "outputs": [],
   "source": [
    "mlab.close(all = True)\n",
    "mlab.figure(size = (1024,768),\n",
    "            bgcolor = (1,1,1), fgcolor = (0.5, 0.5, 0.5))\n",
    "\n",
    "# density = res_fin / np.max(res_fin)\n",
    "grid = mlab.pipeline.scalar_field(density)\n",
    "min1 = density.min()\n",
    "max1=density.max()\n",
    "mlab.pipeline.volume(grid, vmin=min1, vmax=min1 + .5*(max1-min1))\n",
    "intPoints = (np.array([[768, 1694],[1000, 1694],[1231, 1694]]) / 10) + 0.5\n",
    "mlab.points3d([100, 100, 100], intPoints[:,0], 200 - intPoints[:,1], colormap = 'hot', \n",
    "                    scale_mode='none', scale_factor=5, opacity = 1)\n",
    "\n",
    "mlab.axes(extent = [25, 175, 25, 175, 15, 175])\n",
    "#mlab.show()"
   ]
  },
  {
   "cell_type": "code",
   "execution_count": null,
   "metadata": {
    "collapsed": false
   },
   "outputs": [],
   "source": [
    "mlab.figure(size = (1024,768),\n",
    "            bgcolor = (1,1,1), fgcolor = (0.5, 0.5, 0.5))\n",
    "\n",
    "density = res_fin / np.max(res_fin)\n",
    "grid = mlab.pipeline.scalar_field(density)\n",
    "min1 = density.min()\n",
    "max1=density.max()\n",
    "mlab.pipeline.volume(grid, vmin=min1, vmax=min1 + .5*(max1-min1))\n",
    "intPoints = (np.array([[768, 1694],[1000, 1694],[1231, 1694]]) / 10) + 0.5\n",
    "mlab.points3d([100, 100, 100], intPoints[:,0], 200 - intPoints[:,1], colormap = 'cool', \n",
    "                    scale_mode='none', scale_factor=5, opacity = 1)\n",
    "\n",
    "mlab.axes(extent = [25, 175, 25, 175, 15, 175])\n",
    "#mlab.show()"
   ]
  },
  {
   "cell_type": "code",
   "execution_count": null,
   "metadata": {
    "collapsed": false
   },
   "outputs": [],
   "source": [
    "# visualize with points\n",
    "# visualize with MayaVi points in 3d\n",
    "x,y,z = res_fin.nonzero()\n",
    "\n",
    "# Plot scatter with mayavi\n",
    "figure = mlab.figure('DensityPlot')\n",
    "pts = mlab.points3d(x, y, z, res_fin[x,y,z], colormap = 'hot', \n",
    "                    scale_mode='none', scale_factor=1.5, opacity = 0.02)\n",
    "mlab.axes()\n",
    "mlab.show()"
   ]
  },
  {
   "cell_type": "code",
   "execution_count": null,
   "metadata": {
    "collapsed": false
   },
   "outputs": [],
   "source": [
    "# this way is great!\n",
    "\n",
    "mlab.close(all = True)\n",
    "# density = res_fin / np.max(res_fin)\n",
    "\n",
    "fig = mlab.figure(size = (1024,768),\n",
    "            bgcolor = (1,1,1), fgcolor = (0.5, 0.5, 0.5))\n",
    "mlab.contour3d(density, contours= 50, opacity = 0.1, colormap = 'hot')\n",
    "#mlab.axes(extent = [25, 175, 25, 175, 15, 175], y_axis_visibility = False)\n",
    "mlab.orientation_axes()\n",
    "mlab.points3d([101, 101, 101], intPoints[:,0] + 1, 200 - intPoints[:,1], colormap = 'hot', \n",
    "                    scale_mode='none', scale_factor=2, opacity = 1)"
   ]
  },
  {
   "cell_type": "code",
   "execution_count": null,
   "metadata": {
    "collapsed": false
   },
   "outputs": [],
   "source": [
    "# this way is great!\n",
    "\n",
    "mlab.close(all = True)\n",
    "\n",
    "\n",
    "fig = mlab.figure(size = (1024,768),\n",
    "            bgcolor = (1,1,1), fgcolor = (0.5, 0.5, 0.5))\n",
    "mlab.contour3d(density, contours= 50, opacity = 0.2, colormap = \"jet\")\n",
    "#mlab.axes(extent = [25, 175, 25, 175, 15, 175], y_axis_visibility = False)\n",
    "mlab.orientation_axes()\n",
    "mlab.points3d([101, 101, 101], intPoints[:,0] + 1, 200 - intPoints[:,1], colormap = 'hot', \n",
    "                    scale_mode='none', scale_factor=2, opacity = 1)"
   ]
  },
  {
   "cell_type": "code",
   "execution_count": null,
   "metadata": {
    "collapsed": true
   },
   "outputs": [],
   "source": [
    "# contour with matplotlib of a single slice\n",
    "# make contour figure for paper\n",
    "os.chdir(\"/Users/callinswitzer/Dropbox/ExperSummer2016/Kalmia/Manuscript/DatasetsSupplemental/KalmiaDigitizedPolygon/colormap\")\n",
    "import matplotlib.cm as cm\n",
    "import colormaps as cmaps\n",
    "\n",
    "\n",
    "saveDir = '/Users/callinswitzer/Dropbox/ExperSummer2016/Kalmia/Manuscript/Media/'\n",
    "\n",
    "# mlab.close(all = True)\n",
    "density = res_fin / (29 * 500) \n",
    "\n",
    "# this cuts the array in half, so we can see inside\n",
    "Z = np.rot90(density[100, :,:], 3)\n",
    "#Z /= np.max(Z,axis=(0,1))\n",
    "\n",
    "# Z[Z>0.4]= 0.41\n",
    "\n",
    "Z = Z[30:142, 10:190]\n",
    "\n",
    "levels =  [np.min(Z[np.nonzero(Z)]),0.02, 0.05, 0.11, 0.4, np.max(Z)]\n",
    "\n",
    "plt.close(\"all\")\n",
    "\n",
    "fig, ax = plt.subplots()\n",
    "ax.axis('equal')\n",
    "ax.axis('off')\n",
    "\n",
    "colormap_r = matplotlib.colors.ListedColormap(cmaps.magma.colors[::-1])\n",
    "\n",
    "CF = ax.contourf(Z, levels, cmap=colormap_r)\n",
    "cbar = fig.colorbar(CF, ticks = levels, fraction = 0.031, pad = 0)\n",
    "cbar.ax.set_yticklabels([str(np.round(np.min(Z[np.nonzero(Z)]), 3)), \"0.02\", \"0.05\", \"0.11\", \"0.4\", str(np.round(np.max(Z), 2))])\n",
    "\n",
    "# plot the contour lines\n",
    "# using gray scale\n",
    "CL = ax.contour(Z, levels,\n",
    "                 linewidths=.5, colors = (0.1, 0.1, 0.1))\n",
    "\n",
    "#ax.clabel(CL, inline=1, fontsize=14, colors = [\"black\", 'black', \"black\", \"black\", \"white\"])\n",
    "\n",
    "plt.savefig(saveDir + \"ContourMap.png\", dpi = 200)\n",
    "plt.savefig(saveDir + \"ContourMap.pdf\")\n",
    "plt.show()"
   ]
  },
  {
   "cell_type": "code",
   "execution_count": null,
   "metadata": {
    "collapsed": false
   },
   "outputs": [],
   "source": [
    "# Visualize with slice cut into array -- make into a movie\n",
    "newSideLen = 200\n",
    "os.chdir('/Users/callinswitzer/Dropbox/ExperSummer2016/Kalmia/KalmiaProject/KalmMovie3')\n",
    "\n",
    "for ctr in range(40):\n",
    "    \n",
    "    mlab.close(all = True)\n",
    "    density = res_fin / (29 * 500)\n",
    "    # density[:, 102:newSideLen, (5 * ctr):newSideLen] = 0\n",
    "    density[(5 * ctr):newSideLen, 102:newSideLen, :] = 0\n",
    "\n",
    "    fig = mlab.figure(size = (1024,768),\n",
    "                bgcolor = (1,1,1), fgcolor = (0.5, 0.5, 0.5))\n",
    "    #mlab.contour3d(density, contours= [0.001, 0.05, 0.2, 0.5], opacity = 0.2, colormap = \"jet\")\n",
    "    mlab.contour3d(density, contours= 50, opacity = 0.2, colormap = \"hot\")\n",
    "    #mlab.axes(extent = [25, 175, 25, 175, 15, 175], y_axis_visibility = False)\n",
    "    mlab.orientation_axes()\n",
    "    colorbar = mlab.colorbar(orientation = 'vertical', label_fmt = '%.1f')\n",
    "    colorbar.scalar_bar_representation.position = [0.8, 0.2]\n",
    "    colorbar.scalar_bar_representation.position2 = [0.05, 0.6]\n",
    "#     mlab.points3d([101, 101, 101], intPoints[:,0] + 1, 200 - intPoints[:,1], colormap = 'hot', \n",
    "#                         scale_mode='none', scale_factor=2, opacity = 1)\n",
    "\n",
    "    mlab.savefig(str(ctr + 41).zfill(3) + '.png', size = (1024, 1024))\n",
    "    print ctr"
   ]
  },
  {
   "cell_type": "code",
   "execution_count": null,
   "metadata": {
    "collapsed": false
   },
   "outputs": [],
   "source": [
    "# Visualize with slice cut into array -- make into a movie\n",
    "newSideLen = 200\n",
    "os.chdir('/Users/callinswitzer/Dropbox/ExperSummer2016/Kalmia/KalmiaProject/KalmMovie3')\n",
    "\n",
    "for ctr in range(40):\n",
    "    \n",
    "    mlab.close(all = True)\n",
    "    density = res_fin / (29 * 500)\n",
    "    density[:, 102:newSideLen, (5 * ctr):newSideLen] = 0\n",
    "    #density[(5 * ctr):newSideLen, 102:newSideLen, :] = 0\n",
    "\n",
    "    fig = mlab.figure(size = (1024,768),\n",
    "                bgcolor = (1,1,1), fgcolor = (0.5, 0.5, 0.5))\n",
    "    #mlab.contour3d(density, contours= [0.001, 0.05, 0.2, 0.5], opacity = 0.2, colormap = \"jet\")\n",
    "    mlab.contour3d(density, contours= 50, opacity = 0.2, colormap = \"hot\")\n",
    "    #mlab.axes(extent = [25, 175, 25, 175, 15, 175], y_axis_visibility = False)\n",
    "    mlab.orientation_axes()\n",
    "    colorbar = mlab.colorbar(orientation = 'vertical', label_fmt = '%.1f')\n",
    "    colorbar.scalar_bar_representation.position = [0.8, 0.2]\n",
    "    colorbar.scalar_bar_representation.position2 = [0.05, 0.6]\n",
    "#     mlab.points3d([101, 101, 101], intPoints[:,0] + 1, 200 - intPoints[:,1], colormap = 'hot', \n",
    "#                         scale_mode='none', scale_factor=2, opacity = 1)\n",
    "\n",
    "    mlab.savefig(str(ctr).zfill(3) + '.png', size = (1024, 1024))\n",
    "    print ctr"
   ]
  },
  {
   "cell_type": "code",
   "execution_count": null,
   "metadata": {
    "collapsed": false
   },
   "outputs": [],
   "source": [
    "# Visualize with slice cut into array -- make into a movie\n",
    "newSideLen = 200\n",
    "os.chdir('/Users/callinswitzer/Dropbox/ExperSummer2016/Kalmia/KalmiaProject/KalmMovie3')\n",
    "\n",
    "# redo 101\n",
    "for ctr in range(40):\n",
    "    \n",
    "    mlab.close(all = True)\n",
    "    density = res_fin / (29 * 500)\n",
    "    #density[:, 102:newSideLen, (5 * ctr):newSideLen] = 0\n",
    "    #density[(5 * ctr):newSideLen, 102:newSideLen, :] = 0\n",
    "    density[:, :, (5 * ctr):newSideLen] = 0\n",
    "\n",
    "    fig = mlab.figure(size = (1024,768),\n",
    "                bgcolor = (1,1,1), fgcolor = (0.5, 0.5, 0.5))\n",
    "    #mlab.contour3d(density, contours= [0.001, 0.05, 0.2, 0.5], opacity = 0.2, colormap = \"jet\")\n",
    "    mlab.contour3d(density, contours= 50, opacity = 0.2, colormap = \"hot\")\n",
    "    #mlab.axes(extent = [25, 175, 25, 175, 15, 175], y_axis_visibility = False)\n",
    "    mlab.orientation_axes()\n",
    "    colorbar = mlab.colorbar(orientation = 'vertical', label_fmt = '%.1f')\n",
    "    colorbar.scalar_bar_representation.position = [0.8, 0.2]\n",
    "    colorbar.scalar_bar_representation.position2 = [0.05, 0.6]\n",
    "#     mlab.points3d([101, 101, 101], intPoints[:,0] + 1, 200 - intPoints[:,1], colormap = 'hot', \n",
    "#                         scale_mode='none', scale_factor=2, opacity = 1)\n",
    "\n",
    "    mlab.savefig(str(ctr + 80).zfill(3) + '.png', size = (1024, 1024))\n",
    "    print ctr"
   ]
  },
  {
   "cell_type": "code",
   "execution_count": null,
   "metadata": {
    "collapsed": false
   },
   "outputs": [],
   "source": [
    "plt.clf()\n",
    "plt.hist(np.ndarray.flatten(density), bins = 200)\n",
    "plt.xlim((0.01, 1))\n",
    "plt.ylim((0, 10000))"
   ]
  },
  {
   "cell_type": "code",
   "execution_count": null,
   "metadata": {
    "collapsed": true
   },
   "outputs": [],
   "source": [
    "\n",
    "mypath = os.getcwd()\n",
    "onlyfiles = [f for f in os.listdir(mypath) if os.path.isfile(os.path.join(mypath, f))]\n",
    "photoList = [ x for x in onlyfiles if not x.startswith('.') and x.endswith('.png')]"
   ]
  },
  {
   "cell_type": "code",
   "execution_count": null,
   "metadata": {
    "collapsed": false
   },
   "outputs": [],
   "source": [
    "photoList"
   ]
  },
  {
   "cell_type": "code",
   "execution_count": null,
   "metadata": {
    "collapsed": false
   },
   "outputs": [],
   "source": [
    "newNames = [str(xx).zfill(3) + '.png' for xx in range(len(photoList))]"
   ]
  },
  {
   "cell_type": "code",
   "execution_count": null,
   "metadata": {
    "collapsed": false
   },
   "outputs": [],
   "source": [
    "ff = [os.rename(photoList[ii], newNames[ii]) for ii in range(len(photoList))]"
   ]
  },
  {
   "cell_type": "code",
   "execution_count": null,
   "metadata": {
    "collapsed": false
   },
   "outputs": [],
   "source": [
    "!ffmpeg -framerate 3 -start_number 80 -i %03d.png -c:v libx264 -r 30 -pix_fmt yuv420p 3dVis2_WholeArea.mp4"
   ]
  },
  {
   "cell_type": "code",
   "execution_count": null,
   "metadata": {
    "collapsed": false
   },
   "outputs": [],
   "source": [
    "\n",
    "!ffmpeg -framerate 3 -start_number 0 -i %03d.png -c:v libx264 -r 30 -pix_fmt yuv420p 3dVis2_Slow.mp4"
   ]
  },
  {
   "cell_type": "code",
   "execution_count": null,
   "metadata": {
    "collapsed": false
   },
   "outputs": [],
   "source": [
    "\n",
    "!ffmpeg -framerate 10 -start_number 00 -i %03d.png -c:v libx264 -r 30 -pix_fmt yuv420p 3dVis2_Fast.mp4"
   ]
  },
  {
   "cell_type": "code",
   "execution_count": null,
   "metadata": {
    "collapsed": false
   },
   "outputs": [],
   "source": [
    "# save a figure \n",
    "\n",
    "mlab.close(all = True)\n",
    "density = res_fin / (29 * 500)\n",
    "#density[:, 102:newSideLen, (5 * ctr):newSideLen] = 0\n",
    "#density[(5 * ctr):newSideLen, 102:newSideLen, :] = 0\n",
    "density[101:200, :, :] = 0\n",
    "\n",
    "fig = mlab.figure(size = (1024,768),\n",
    "            bgcolor = (1,1,1), fgcolor = (0.5, 0.5, 0.5))\n",
    "#mlab.contour3d(density, contours= [0.001, 0.05, 0.2, 0.5], opacity = 0.2, colormap = \"jet\")\n",
    "mlab.contour3d(density, contours= 50, opacity = 0.2, colormap = \"hot\")\n",
    "#mlab.axes(extent = [25, 175, 25, 175, 15, 175], y_axis_visibility = False)\n",
    "mlab.orientation_axes()\n",
    "colorbar = mlab.colorbar(orientation = 'vertical', label_fmt = '%.1f')\n",
    "colorbar.scalar_bar_representation.position = [0.8, 0.2]\n",
    "colorbar.scalar_bar_representation.position2 = [0.05, 0.6]\n",
    "#     mlab.points3d([101, 101, 101], intPoints[:,0] + 1, 200 - intPoints[:,1], colormap = 'hot', \n",
    "#                         scale_mode='none', scale_factor=2, opacity = 1)\n",
    "\n",
    "# mlab.savefig('halfSizeKalmiaMap' + '.png', size = (1440, 1024))"
   ]
  },
  {
   "cell_type": "code",
   "execution_count": null,
   "metadata": {
    "collapsed": false
   },
   "outputs": [],
   "source": [
    "# contour surface\n",
    "mlab.close(all = True)\n",
    "fig = mlab.figure(size = (1024,768),\n",
    "            bgcolor = (1,1,1), fgcolor = (0.5, 0.5, 0.5))\n",
    "mlab.contour_surf(density[100, :,:], contours = 50, colormap = 'hot')\n",
    "colorbar = mlab.colorbar(orientation = 'vertical', label_fmt = '%.1f')"
   ]
  },
  {
   "cell_type": "code",
   "execution_count": 401,
   "metadata": {
    "collapsed": false
   },
   "outputs": [
    {
     "data": {
      "text/plain": [
       "<mayavi.modules.glyph.Glyph at 0x1fa7448f0>"
      ]
     },
     "execution_count": 401,
     "metadata": {},
     "output_type": "execute_result"
    }
   ],
   "source": [
    "# contour surface\n",
    "mlab.close(all = True)\n",
    "fig = mlab.figure(size = (1024,768),\n",
    "            bgcolor = (1,1,1), fgcolor = (0.5, 0.5, 0.5))\n",
    "aa = mlab.contour_surf(density[100, :,:], contours = [0.009,0.02, 0.05, 0.11, 0.4], colormap = 'hot')\n",
    "colorbar = mlab.colorbar(orientation = 'vertical', label_fmt = '%.1f')\n",
    "\n",
    "# mlab.points3d([0, 0, 0], intPoints[:,0] + 1, 200 - intPoints[:,1], colormap = 'hot', \n",
    "#                     scale_mode='none', scale_factor=2, opacity = 1)\n",
    "#mlab.axes()\n",
    "\n",
    "mlab.points3d( 100 - intPoints[:,0], 99 - intPoints[:,1] + 1, [0, 0, 0], colormap = 'hot', \n",
    "                    scale_mode='none', scale_factor=2, opacity = 1)"
   ]
  },
  {
   "cell_type": "code",
   "execution_count": 388,
   "metadata": {
    "collapsed": false
   },
   "outputs": [],
   "source": [
    "vtkout = aa.contour.contour_filter.output.points\n",
    "vv = vtkout.to_array().T"
   ]
  },
  {
   "cell_type": "code",
   "execution_count": 389,
   "metadata": {
    "collapsed": false
   },
   "outputs": [
    {
     "data": {
      "text/plain": [
       "(3, 2833)"
      ]
     },
     "execution_count": 389,
     "metadata": {},
     "output_type": "execute_result"
    }
   ],
   "source": [
    "vv.shape"
   ]
  },
  {
   "cell_type": "code",
   "execution_count": 397,
   "metadata": {
    "collapsed": false
   },
   "outputs": [
    {
     "data": {
      "text/plain": [
       "<matplotlib.collections.PathCollection at 0x1fa732190>"
      ]
     },
     "execution_count": 397,
     "metadata": {},
     "output_type": "execute_result"
    }
   ],
   "source": [
    "plt.clf()\n",
    "io.imshow(resized)\n",
    "plt.scatter(vv[0, :] + 100, -vv[1, :] + 100)\n",
    "plt.scatter(intPoints[:,0], intPoints[:, 1])"
   ]
  },
  {
   "cell_type": "code",
   "execution_count": 370,
   "metadata": {
    "collapsed": true
   },
   "outputs": [],
   "source": [
    "# save a figure \n",
    "\n",
    "mlab.close(all = True)\n",
    "density = res_fin / (29 * 500)\n",
    "#density[:, 102:newSideLen, (5 * ctr):newSideLen] = 0\n",
    "#density[(5 * ctr):newSideLen, 102:newSideLen, :] = 0\n",
    "density[101:200, :, :] = 0\n",
    "\n",
    "fig = mlab.figure(size = (1024,768),\n",
    "            bgcolor = (1,1,1), fgcolor = (0.5, 0.5, 0.5))\n",
    "#mlab.contour3d(density, contours= [0.001, 0.05, 0.2, 0.5], opacity = 0.2, colormap = \"jet\")\n",
    "mlab.contour3d(density, contours= 50, opacity = 0.2, colormap = \"hot\")\n",
    "#mlab.axes(extent = [25, 175, 25, 175, 15, 175], y_axis_visibility = False)\n",
    "mlab.orientation_axes()\n",
    "colorbar = mlab.colorbar(orientation = 'vertical', label_fmt = '%.1f')\n",
    "colorbar.scalar_bar_representation.position = [0.8, 0.2]\n",
    "colorbar.scalar_bar_representation.position2 = [0.05, 0.6]\n",
    "#     mlab.points3d([101, 101, 101], intPoints[:,0] + 1, 200 - intPoints[:,1], colormap = 'hot', \n",
    "#                         scale_mode='none', scale_factor=2, opacity = 1)\n",
    "\n",
    "# mlab.savefig('halfSizeKalmiaMap' + '.png', size = (1440, 1024))"
   ]
  },
  {
   "cell_type": "code",
   "execution_count": 380,
   "metadata": {
    "collapsed": false
   },
   "outputs": [
    {
     "data": {
      "text/plain": [
       "<mayavi.modules.glyph.Glyph at 0x1784684d0>"
      ]
     },
     "execution_count": 380,
     "metadata": {},
     "output_type": "execute_result"
    }
   ],
   "source": [
    "#mlab.close(all = True)\n",
    "\n",
    "yy = vv[0, :] + 101\n",
    "zz = vv[1, :] + 101\n",
    "xx = np.ones(yy.shape[0])  + 100\n",
    "#mlab.axes()\n",
    "\n",
    "mlab.points3d(xx, yy, zz, scale_factor = 1,line_width = 4.5)\n",
    "mlab.points3d([101, 101, 101], intPoints[:,0] + 1, 200 - intPoints[:,1], color = (0,0,0), \n",
    "                    scale_mode='none', scale_factor=2, opacity = 1)\n"
   ]
  },
  {
   "cell_type": "code",
   "execution_count": 373,
   "metadata": {
    "collapsed": false
   },
   "outputs": [
    {
     "data": {
      "text/plain": [
       "<matplotlib.collections.PathCollection at 0x13c2006d0>"
      ]
     },
     "execution_count": 373,
     "metadata": {},
     "output_type": "execute_result"
    }
   ],
   "source": [
    "plt.clf()\n",
    "plt.scatter(yy, zz)\n",
    "plt.scatter(intPoints[:,0] + 1, 200 - intPoints[:,1])"
   ]
  },
  {
   "cell_type": "code",
   "execution_count": null,
   "metadata": {
    "collapsed": false
   },
   "outputs": [],
   "source": [
    "n_mer, n_long = 6, 11\n",
    "pi = np.pi\n",
    "dphi = pi / 1000.0\n",
    "phi = np.arange(0.0, 2 * pi + 0.5 * dphi, dphi)\n",
    "mu = phi * n_mer\n",
    "\n",
    "x = np.cos(mu) * (1 + np.cos(n_long * mu / n_mer) * 0.5)\n",
    "y = np.sin(mu) * (1 + np.cos(n_long * mu / n_mer) * 0.5)\n",
    "z = np.sin(n_long * mu / n_mer) * 0.5\n",
    "\n",
    "mlab.plot3d(x, y, z)"
   ]
  },
  {
   "cell_type": "code",
   "execution_count": null,
   "metadata": {
    "collapsed": false
   },
   "outputs": [],
   "source": [
    "mlab.close(all = True)\n",
    "mlab.surf(density[100, :,:], warp_scale = 'auto')"
   ]
  },
  {
   "cell_type": "code",
   "execution_count": null,
   "metadata": {
    "collapsed": false
   },
   "outputs": [],
   "source": [
    "mlab.close(all = True)\n",
    "mlab.plot3d(xx, yy, zz, tube_radius = 5)"
   ]
  },
  {
   "cell_type": "code",
   "execution_count": 424,
   "metadata": {
    "collapsed": true
   },
   "outputs": [],
   "source": [
    "%qtconsole"
   ]
  },
  {
   "cell_type": "code",
   "execution_count": 425,
   "metadata": {
    "collapsed": false
   },
   "outputs": [
    {
     "data": {
      "text/plain": [
       "array([[  77.,  169.],\n",
       "       [ 100.,  169.],\n",
       "       [ 123.,  169.]])"
      ]
     },
     "execution_count": 425,
     "metadata": {},
     "output_type": "execute_result"
    }
   ],
   "source": [
    "intPoints"
   ]
  },
  {
   "cell_type": "code",
   "execution_count": null,
   "metadata": {
    "collapsed": true
   },
   "outputs": [],
   "source": [
    "100 "
   ]
  }
 ],
 "metadata": {
  "anaconda-cloud": {},
  "kernelspec": {
   "display_name": "Python [conda env:vis_env]",
   "language": "python",
   "name": "conda-env-vis_env-py"
  },
  "language_info": {
   "codemirror_mode": {
    "name": "ipython",
    "version": 2
   },
   "file_extension": ".py",
   "mimetype": "text/x-python",
   "name": "python",
   "nbconvert_exporter": "python",
   "pygments_lexer": "ipython2",
   "version": "2.7.12"
  }
 },
 "nbformat": 4,
 "nbformat_minor": 1
}
