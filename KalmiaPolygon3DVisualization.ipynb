{
 "cells": [
  {
   "cell_type": "markdown",
   "metadata": {},
   "source": [
    "### Callin Switzer\n",
    "\n",
    "2 Nov 2016\n",
    "\n",
    "-Read in all the Kalmia polygon images (from R KalmiaVisualizePolygons_V2.R)\n",
    "- Make sure to use Python [conda env:vis_env]\n",
    "\n",
    "-visualize in 3D\n",
    "\n",
    "-Resample all of the images\n",
    "\n",
    "-Stack resampled images (in 3D)\n",
    "\n",
    "-Visualize a heatmap\n",
    "\n",
    "-Save heatmap"
   ]
  },
  {
   "cell_type": "code",
   "execution_count": 1,
   "metadata": {
    "collapsed": true
   },
   "outputs": [],
   "source": [
    "import cv2"
   ]
  },
  {
   "cell_type": "code",
   "execution_count": 2,
   "metadata": {
    "collapsed": true
   },
   "outputs": [],
   "source": [
    "import numpy as np\n",
    "import matplotlib\n",
    "matplotlib.use(\"TkAgg\") # have to use this for tkinter to  work below\n",
    "from matplotlib import pyplot as plt\n",
    "%matplotlib tk"
   ]
  },
  {
   "cell_type": "code",
   "execution_count": 3,
   "metadata": {
    "collapsed": false
   },
   "outputs": [],
   "source": [
    "# scikit image\n",
    "import skimage\n",
    "from skimage import io"
   ]
  },
  {
   "cell_type": "code",
   "execution_count": 4,
   "metadata": {
    "collapsed": false
   },
   "outputs": [],
   "source": [
    "import os\n",
    "import pandas as pd\n",
    "import time"
   ]
  },
  {
   "cell_type": "code",
   "execution_count": 5,
   "metadata": {
    "collapsed": false
   },
   "outputs": [],
   "source": [
    "import scipy\n",
    "import scipy.ndimage\n",
    "\n",
    "from mpl_toolkits.mplot3d import Axes3D\n",
    "import sys"
   ]
  },
  {
   "cell_type": "code",
   "execution_count": 6,
   "metadata": {
    "collapsed": false
   },
   "outputs": [],
   "source": [
    "from mayavi import mlab\n",
    "from scipy import stats"
   ]
  },
  {
   "cell_type": "code",
   "execution_count": 7,
   "metadata": {
    "collapsed": true
   },
   "outputs": [],
   "source": [
    "% qtconsole"
   ]
  },
  {
   "cell_type": "markdown",
   "metadata": {},
   "source": [
    "May want to look at this: http://stackoverflow.com/questions/25286811/how-to-plot-a-3d-density-map-in-python-with-matplotlib"
   ]
  },
  {
   "cell_type": "code",
   "execution_count": 18,
   "metadata": {
    "collapsed": true
   },
   "outputs": [],
   "source": [
    "# list files in directory"
   ]
  },
  {
   "cell_type": "code",
   "execution_count": 19,
   "metadata": {
    "collapsed": true
   },
   "outputs": [],
   "source": [
    "os.chdir(\"/Users/callinswitzer/Dropbox/KalmiaProject/KalmiaExamples/KalmiaManualTrig_VidsToProcess/\")"
   ]
  },
  {
   "cell_type": "code",
   "execution_count": 20,
   "metadata": {
    "collapsed": false
   },
   "outputs": [],
   "source": [
    "# list files in directory\n",
    "mypath = os.getcwd()\n",
    "onlyfiles = [f for f in os.listdir(mypath) if os.path.isfile(os.path.join(mypath, f))]\n",
    "photoList = [ x for x in onlyfiles if not x.startswith('.') and x.endswith('.png')]"
   ]
  },
  {
   "cell_type": "code",
   "execution_count": null,
   "metadata": {
    "collapsed": true
   },
   "outputs": [],
   "source": []
  },
  {
   "cell_type": "code",
   "execution_count": null,
   "metadata": {
    "collapsed": true
   },
   "outputs": [],
   "source": []
  },
  {
   "cell_type": "code",
   "execution_count": null,
   "metadata": {
    "collapsed": true
   },
   "outputs": [],
   "source": []
  },
  {
   "cell_type": "code",
   "execution_count": null,
   "metadata": {
    "collapsed": true
   },
   "outputs": [],
   "source": []
  },
  {
   "cell_type": "code",
   "execution_count": null,
   "metadata": {
    "collapsed": false
   },
   "outputs": [],
   "source": [
    "# read in image and resize\n",
    "kk = 1\n",
    "img = np.array(cv2.imread(photoList[kk], 0))\n",
    "\n",
    "newSideLen = 200\n",
    "\n",
    "r = float(newSideLen) / img.shape[1]\n",
    "dim = (int(newSideLen), int(img.shape[0] * r))\n",
    " \n",
    "# perform the actual resizing of the image and show it\n",
    "resized = cv2.resize(img, dim, interpolation = cv2.INTER_AREA)\n",
    "\n",
    "resized = np.array((resized < 255) * 1.0)\n",
    "\n",
    "# clear edges of resized image (grid from graph)\n",
    "resized[:, 0:newSideLen/20] = 0\n",
    "resized[newSideLen - newSideLen/20:newSideLen, :] = 0\n",
    "\n",
    "plt.close('all')\n",
    "io.imshow(resized)\n",
    "thismanager = plt.get_current_fig_manager()\n",
    "thismanager.window.wm_geometry(\"-1-1\")\n",
    "\n",
    "\n"
   ]
  },
  {
   "cell_type": "code",
   "execution_count": null,
   "metadata": {
    "collapsed": false
   },
   "outputs": [],
   "source": [
    "plt.imshow(resized)"
   ]
  },
  {
   "cell_type": "code",
   "execution_count": null,
   "metadata": {
    "collapsed": false
   },
   "outputs": [],
   "source": [
    "# make empty np array\n",
    "# for future reference, these are stacked wrong\n",
    "\n",
    "# rotate image for visualization with numpy\n",
    "resized_flip = np.rot90(resized, 3)\n",
    "stackedArr = np.ones(shape=(np.repeat(newSideLen, [3]))) * 0.0\n",
    "\n",
    "midpt = stackedArr.shape[1]/2\n",
    "\n",
    "stackedArr[midpt,:,:] = stackedArr[midpt,:,:] + resized_flip\n",
    "\n",
    "stackedArr[:, midpt, :] = stackedArr[:, midpt, :] + resized_flip\n",
    "\n",
    "# get size\n",
    "sys.getsizeof(stackedArr)/1000/1000 # in MB\n"
   ]
  },
  {
   "cell_type": "code",
   "execution_count": null,
   "metadata": {
    "collapsed": false
   },
   "outputs": [],
   "source": [
    "x,y,z = stackedArr.nonzero()"
   ]
  },
  {
   "cell_type": "code",
   "execution_count": null,
   "metadata": {
    "collapsed": false
   },
   "outputs": [],
   "source": [
    "#plt.close('all')\n",
    "plt.clf()\n",
    "fig = plt.figure(1)\n",
    "ax = fig.add_subplot(111, projection='3d')\n",
    "ax.scatter(x, y, z, zdir='z', c = stackedArr[x,y,z], \n",
    "           cmap = 'Greys', edgecolor = 'none', marker = 's')\n",
    "#plt.savefig(\"demo.png\")"
   ]
  },
  {
   "cell_type": "code",
   "execution_count": null,
   "metadata": {
    "collapsed": true
   },
   "outputs": [],
   "source": [
    "plt.close('all')\n",
    "mlab.close(all = True)"
   ]
  },
  {
   "cell_type": "code",
   "execution_count": null,
   "metadata": {
    "collapsed": false
   },
   "outputs": [],
   "source": [
    "# visualize with MayaVi points in 3d\n",
    "x,y,z = stackedArr.nonzero()\n",
    "xyz = np.vstack([x, y, z,])\n",
    "kde = stats.gaussian_kde(xyz)\n",
    "density = kde(xyz)\n",
    "\n",
    "# Plot scatter with mayavi\n",
    "figure = mlab.figure('DensityPlot')\n",
    "pts = mlab.points3d(x, y, z, stackedArr[x,y,z], colormap = 'hot', \n",
    "                    scale_mode='none', scale_factor=1, opacity = 0.2)\n",
    "mlab.axes()\n",
    "mlab.show()"
   ]
  },
  {
   "cell_type": "code",
   "execution_count": null,
   "metadata": {
    "collapsed": false
   },
   "outputs": [],
   "source": [
    "# visualize density with MayaVi\n",
    "density = stackedArr\n",
    "grid = mlab.pipeline.scalar_field(density)\n",
    "min1 = density.min()\n",
    "max1=density.max()\n",
    "mlab.pipeline.volume(grid, vmin=min1, vmax=min1 + .5*(max1-min1))\n",
    "\n",
    "mlab.axes()\n",
    "mlab.show()"
   ]
  },
  {
   "cell_type": "code",
   "execution_count": null,
   "metadata": {
    "collapsed": true
   },
   "outputs": [],
   "source": []
  },
  {
   "cell_type": "code",
   "execution_count": null,
   "metadata": {
    "collapsed": true
   },
   "outputs": [],
   "source": []
  },
  {
   "cell_type": "code",
   "execution_count": null,
   "metadata": {
    "collapsed": true
   },
   "outputs": [],
   "source": []
  },
  {
   "cell_type": "code",
   "execution_count": null,
   "metadata": {
    "collapsed": true
   },
   "outputs": [],
   "source": []
  },
  {
   "cell_type": "code",
   "execution_count": null,
   "metadata": {
    "collapsed": true
   },
   "outputs": [],
   "source": []
  },
  {
   "cell_type": "markdown",
   "metadata": {},
   "source": [
    "# Rotate image"
   ]
  },
  {
   "cell_type": "code",
   "execution_count": null,
   "metadata": {
    "collapsed": false
   },
   "outputs": [],
   "source": [
    "plt.clf()\n",
    "io.imshow(resized)"
   ]
  },
  {
   "cell_type": "code",
   "execution_count": null,
   "metadata": {
    "collapsed": false
   },
   "outputs": [],
   "source": [
    "# rotate image with opencv\n",
    "w = resized.shape[0]\n",
    "h = resized.shape[1]\n",
    "M = cv2.getRotationMatrix2D((newSideLen/2,newSideLen/2), 36, 1.0)\n",
    "rotated = cv2.warpAffine(resized, M, (w, h))\n",
    "io.imshow(rotated < .4)\n"
   ]
  },
  {
   "cell_type": "code",
   "execution_count": null,
   "metadata": {
    "collapsed": false
   },
   "outputs": [],
   "source": [
    "# rotate with scipy\n",
    "plt.clf()\n",
    "i2 = scipy.ndimage.interpolation.rotate(np.array(resized), 36, axes=(1,0))\n",
    "io.imshow(i2)"
   ]
  },
  {
   "cell_type": "code",
   "execution_count": null,
   "metadata": {
    "collapsed": true
   },
   "outputs": [],
   "source": [
    "stackedRot = np.ones(shape=(np.repeat(newSideLen, [3]))) * 0.0\n",
    "stackedRot[midpt,:,:] = stackedRot[midpt,:,:] + resized_flip"
   ]
  },
  {
   "cell_type": "code",
   "execution_count": null,
   "metadata": {
    "collapsed": false
   },
   "outputs": [],
   "source": [
    "# visualize\n",
    "mlab.contour3d(stackedRot)"
   ]
  },
  {
   "cell_type": "code",
   "execution_count": null,
   "metadata": {
    "collapsed": false
   },
   "outputs": [],
   "source": [
    "mlab.clf()\n",
    "#pixels (should be an even number to make it symmetrical)\n",
    "\n",
    "pollWidth = newSideLen / 100 / 2\n",
    "\n",
    "stackedRot = np.ones(shape=(np.repeat(newSideLen, [3]))) * 0.0\n",
    "stackedRot[midpt-pollWidth:midpt + pollWidth,:,:] = stackedRot[midpt-pollWidth:midpt + pollWidth,:,:] + resized_flip\n",
    "\n",
    "\n",
    "\n",
    "# pretty fast\n",
    "w,h = stackedRot.shape[:2]\n",
    "M = cv2.getRotationMatrix2D((newSideLen/2,newSideLen/2), 36, 1.0)\n",
    "rotated = cv2.warpAffine(resized, M, (w, h))\n",
    "\n",
    "\n",
    "for ii in range(newSideLen):\n",
    "    stackedRot[:,:,ii] = ((cv2.warpAffine(stackedRot[:,:,ii], M, (w, h)) +\n",
    "                          stackedRot[:,:,ii]) < 1 ) * 1\n",
    "    \n",
    "mlab.contour3d(stackedRot)\n",
    "    "
   ]
  },
  {
   "cell_type": "code",
   "execution_count": null,
   "metadata": {
    "collapsed": false
   },
   "outputs": [],
   "source": [
    "stackedRot = np.ones(shape=(np.repeat(newSideLen, [3]))) * 0.0\n",
    "stackedRot[midpt-pollWidth:midpt + pollWidth,:,:] = stackedRot[midpt-pollWidth:midpt + pollWidth,:,:] + resized_flip\n",
    "\n",
    "\n",
    "stackedRot_fin = np.ones(shape=(np.repeat(newSideLen, [3]))) * 0.0\n",
    "\n",
    "# do for all 10\n",
    "for kk in range(10):\n",
    "    M = cv2.getRotationMatrix2D((newSideLen/2,newSideLen/2), 36*kk, 1.0)\n",
    "\n",
    "    for ii in range(newSideLen):\n",
    "        stackedRot_fin[:,:,ii] = ((cv2.warpAffine(stackedRot[:,:,ii], M, (w, h)) > 0.3) * 1 +\n",
    "                              stackedRot_fin[:,:,ii])\n",
    "\n",
    "        \n"
   ]
  },
  {
   "cell_type": "code",
   "execution_count": null,
   "metadata": {
    "collapsed": true
   },
   "outputs": [],
   "source": [
    "# slice in z-direction\n",
    "io.imshow(stackedRot_fin[:,:,newSideLen / 2])"
   ]
  },
  {
   "cell_type": "code",
   "execution_count": null,
   "metadata": {
    "collapsed": false
   },
   "outputs": [],
   "source": [
    "mlab.clf()\n",
    "plt.close('all')\n",
    "mlab.contour3d(stackedRot_fin, contours = 10)"
   ]
  },
  {
   "cell_type": "code",
   "execution_count": null,
   "metadata": {
    "collapsed": true
   },
   "outputs": [],
   "source": [
    "# final density visualization\n",
    "mlab.clf()\n",
    "density = stackedRot_fin\n",
    "grid = mlab.pipeline.scalar_field(density)\n",
    "min1 = density.min()\n",
    "max1=density.max()\n",
    "mlab.pipeline.volume(grid, vmin=min1, vmax=min1 + .5*(max1-min1))\n",
    "\n",
    "mlab.axes()\n",
    "mlab.show()"
   ]
  },
  {
   "cell_type": "code",
   "execution_count": null,
   "metadata": {
    "collapsed": true
   },
   "outputs": [],
   "source": [
    "# visualize with points\n",
    "# visualize with MayaVi points in 3d\n",
    "x,y,z = stackedRot_fin.nonzero()\n",
    "\n",
    "# Plot scatter with mayavi\n",
    "figure = mlab.figure('DensityPlot')\n",
    "pts = mlab.points3d(x, y, z, stackedRot_fin[x,y,z], colormap = 'hot', \n",
    "                    scale_mode='none', scale_factor=1.5, opacity = 0.02)\n",
    "mlab.axes()\n",
    "mlab.show()"
   ]
  },
  {
   "cell_type": "code",
   "execution_count": 53,
   "metadata": {
    "collapsed": false
   },
   "outputs": [
    {
     "data": {
      "text/plain": [
       "<matplotlib.collections.PathCollection at 0x10c3d0090>"
      ]
     },
     "execution_count": 53,
     "metadata": {},
     "output_type": "execute_result"
    }
   ],
   "source": [
    "io.imshow(resized)\n",
    "intPoints = np.array([[768, 1694],[1000, 1694],[1231, 1694]]) / 10\n",
    "plt.scatter(intPoints[:, 0], intPoints[:,1])"
   ]
  },
  {
   "cell_type": "code",
   "execution_count": null,
   "metadata": {
    "collapsed": true
   },
   "outputs": [],
   "source": []
  },
  {
   "cell_type": "code",
   "execution_count": null,
   "metadata": {
    "collapsed": true
   },
   "outputs": [],
   "source": []
  },
  {
   "cell_type": "code",
   "execution_count": null,
   "metadata": {
    "collapsed": true
   },
   "outputs": [],
   "source": []
  },
  {
   "cell_type": "code",
   "execution_count": null,
   "metadata": {
    "collapsed": true
   },
   "outputs": [],
   "source": []
  },
  {
   "cell_type": "markdown",
   "metadata": {},
   "source": [
    "# Resampling and replotting"
   ]
  },
  {
   "cell_type": "code",
   "execution_count": 21,
   "metadata": {
    "collapsed": false
   },
   "outputs": [],
   "source": [
    "# read in all images in direcory, resize, and make a big numpy array\n",
    "# read in image and resize\n",
    "\n",
    "newSideLen = 200\n",
    "img = np.array(cv2.imread(photoList[1], 0))\n",
    "r = float(newSideLen) / img.shape[1]\n",
    "dim = (int(newSideLen), int(img.shape[0] * r))\n",
    "\n",
    "stackedImgs = np.ones((newSideLen, newSideLen, len(photoList)))\n",
    "\n",
    "\n",
    "for hh in range(len(photoList)):\n",
    "    img = np.array(cv2.imread(photoList[hh], 0)) # read in image black and white\n",
    "\n",
    "    # perform the resizing\n",
    "    resized = cv2.resize(img, dim, interpolation = cv2.INTER_AREA)\n",
    "\n",
    "    # convert to binary\n",
    "    resized = np.array((resized < 255) * 1.0)\n",
    "\n",
    "    # clear edges of resized image (grid from graph)\n",
    "    resized[:, 0:newSideLen/20] = 0\n",
    "    resized[newSideLen - newSideLen/20:newSideLen, :] = 0\n",
    "    \n",
    "    # add to stacked array\n",
    "    stackedImgs[:,:,hh] = resized"
   ]
  },
  {
   "cell_type": "code",
   "execution_count": null,
   "metadata": {
    "collapsed": true
   },
   "outputs": [],
   "source": []
  },
  {
   "cell_type": "code",
   "execution_count": 22,
   "metadata": {
    "collapsed": false
   },
   "outputs": [],
   "source": [
    "def resampRotate(stackedImgs):\n",
    "    '''\n",
    "    Resample all the images (same number of photos that I took)\n",
    "    Randomly rotate images in 1/10 of 360 degree increments\n",
    "    Put into 3D space\n",
    "    '''\n",
    "    \n",
    "    # prepare to resample resized images\n",
    "    pollWidth = newSideLen / 100 / 2\n",
    "    midpt = newSideLen / 2\n",
    "\n",
    "    # make temporary array\n",
    "    stackedRot = np.ones(shape=(np.repeat(newSideLen, [3]))) * 0.0\n",
    "    w,h = stackedRot.shape[:2]\n",
    "\n",
    "\n",
    "    # make final array\n",
    "    stackedRot_fin = np.ones(shape=(np.repeat(newSideLen, [3]))) * 0.0\n",
    "    \n",
    "    \n",
    "    # resample all images\n",
    "    photoSamp = np.random.choice(range(len(photoList)), size = len(photoList), replace = True)\n",
    "    # resample rotation angles\n",
    "    angles = np.random.choice(range(10), len(photoList), True)\n",
    "\n",
    "\n",
    "    for kk in photoSamp:\n",
    "\n",
    "        # get image to rotate\n",
    "        resized = stackedImgs[:,:,kk]\n",
    "        resized_flip = np.rot90(resized, 3)\n",
    "\n",
    "        # get rotatation matrix\n",
    "        M = cv2.getRotationMatrix2D((newSideLen/2,newSideLen/2), 36*angles[kk], 1.0)\n",
    "\n",
    "        # reset blank 3D array\n",
    "        stackedRot = stackedRot * 0.0\n",
    "\n",
    "        # get image to rotate into 3D space\n",
    "        stackedRot[midpt-pollWidth:midpt + pollWidth,:,:] = stackedRot[midpt-pollWidth:midpt + pollWidth,:,:] + resized_flip\n",
    "\n",
    "        # rotate image in 3D, by doing one level at a time\n",
    "        for ii in range(newSideLen):\n",
    "            stackedRot_fin[:,:,ii] = ((cv2.warpAffine(stackedRot[:,:,ii], M, (w, h)) > 0.3) * 1 +\n",
    "                                  stackedRot_fin[:,:,ii])\n",
    "        \n",
    "    return stackedRot_fin"
   ]
  },
  {
   "cell_type": "code",
   "execution_count": 23,
   "metadata": {
    "collapsed": false
   },
   "outputs": [
    {
     "data": {
      "text/plain": [
       "<mayavi.modules.iso_surface.IsoSurface at 0x12d7cfdd0>"
      ]
     },
     "execution_count": 23,
     "metadata": {},
     "output_type": "execute_result"
    }
   ],
   "source": [
    "finArry = resampRotate(stackedImgs=stackedImgs)\n",
    "\n",
    "mlab.contour3d(finArry)"
   ]
  },
  {
   "cell_type": "code",
   "execution_count": 24,
   "metadata": {
    "collapsed": false
   },
   "outputs": [
    {
     "name": "stdout",
     "output_type": "stream",
     "text": [
      "0 7.94893407822\n",
      "1 15.6140861511\n",
      "2 23.3463571072\n",
      "3 30.7974450588\n",
      "4 38.1466720104\n",
      "5 45.4449059963\n",
      "6 52.7925620079\n",
      "7 60.1742119789\n",
      "8 67.4737000465\n",
      "9 74.8411369324\n",
      "10 82.150591135\n",
      "11 89.6021430492\n",
      "12 96.9459140301\n",
      "13 104.333492994\n",
      "14 111.683259964\n",
      "15 119.114547968\n",
      "16 126.333704948\n",
      "17 133.705682993\n",
      "18 140.944761992\n",
      "19 148.370623112\n",
      "20 155.723433018\n",
      "21 163.028471947\n",
      "22 170.446948051\n",
      "23 177.834399939\n",
      "24 185.13595295\n",
      "25 192.516236067\n",
      "26 199.838824034\n",
      "27 207.126547098\n",
      "28 214.458611965\n",
      "29 221.757526159\n",
      "30 229.160057068\n",
      "31 236.549175024\n",
      "32 243.994274139\n",
      "33 251.389869928\n",
      "34 258.770826101\n",
      "35 266.109580994\n",
      "36 273.499665976\n",
      "37 280.820874929\n",
      "38 288.260019064\n",
      "39 295.558576107\n",
      "40 303.041866064\n",
      "41 310.433721066\n",
      "42 317.802962065\n",
      "43 325.244544983\n",
      "44 332.631605148\n",
      "45 339.95599699\n",
      "46 347.304616928\n",
      "47 354.65841794\n",
      "48 362.040907145\n",
      "49 369.309448004\n",
      "50 376.64786005\n",
      "51 383.938364029\n",
      "52 391.127247095\n",
      "53 398.581810951\n",
      "54 405.878926039\n",
      "55 413.077055931\n",
      "56 420.311195135\n",
      "57 427.58112812\n",
      "58 434.864010096\n",
      "59 442.074779034\n",
      "60 449.329030037\n",
      "61 456.553578138\n",
      "62 463.741830111\n",
      "63 470.817996979\n",
      "64 478.015475035\n",
      "65 485.270823002\n",
      "66 492.452805996\n",
      "67 499.678828955\n",
      "68 506.895557165\n",
      "69 514.104485989\n",
      "70 521.360106945\n",
      "71 528.59067893\n",
      "72 535.754914999\n",
      "73 542.947446108\n",
      "74 550.022495985\n",
      "75 557.170792103\n",
      "76 564.29896903\n",
      "77 571.423886061\n",
      "78 578.595253944\n",
      "79 585.770210981\n",
      "80 592.917618036\n",
      "81 600.106498003\n",
      "82 607.222774029\n",
      "83 614.364134073\n",
      "84 621.602570057\n",
      "85 628.855031967\n",
      "86 635.962634087\n",
      "87 643.245918036\n",
      "88 650.38044095\n",
      "89 657.578645945\n",
      "90 664.726137161\n",
      "91 671.796165943\n",
      "92 679.024554014\n",
      "93 686.203737974\n",
      "94 693.269901037\n",
      "95 700.380154133\n",
      "96 707.6220541\n",
      "97 714.859778166\n",
      "98 722.012372971\n",
      "99 729.103259087\n",
      "100 736.248921156\n",
      "101 743.367483139\n",
      "102 750.477097034\n",
      "103 757.736566067\n",
      "104 764.950013161\n",
      "105 772.145296097\n",
      "106 779.318295956\n",
      "107 786.391644955\n",
      "108 793.653758049\n",
      "109 800.863904953\n",
      "110 808.101747036\n",
      "111 815.323090076\n",
      "112 822.504172087\n",
      "113 829.613897085\n",
      "114 836.839728117\n",
      "115 844.038155079\n",
      "116 851.191178083\n",
      "117 858.311295033\n",
      "118 865.458590984\n",
      "119 872.746259928\n",
      "120 879.946933985\n",
      "121 887.14625597\n",
      "122 894.283192158\n",
      "123 901.427585125\n",
      "124 908.526262999\n",
      "125 915.636458158\n",
      "126 922.697535992\n",
      "127 929.862426996\n",
      "128 937.010954142\n",
      "129 944.222362041\n",
      "130 951.394073963\n",
      "131 958.390036106\n",
      "132 965.555262089\n",
      "133 972.637396097\n",
      "134 979.770792007\n",
      "135 986.999256134\n",
      "136 994.248353958\n",
      "137 1001.50837612\n",
      "138 1008.7503891\n",
      "139 1015.90155816\n",
      "140 1023.07329607\n",
      "141 1030.30773211\n",
      "142 1037.54201794\n",
      "143 1044.7983861\n",
      "144 1051.96990013\n",
      "145 1059.20318198\n",
      "146 1066.42808795\n",
      "147 1073.61960816\n",
      "148 1080.82440996\n",
      "149 1087.90250015\n",
      "150 1094.98899412\n",
      "151 1102.18818402\n",
      "152 1109.30601215\n",
      "153 1116.42460108\n",
      "154 1123.61123204\n",
      "155 1130.75164914\n",
      "156 1137.96644402\n",
      "157 1145.17712116\n",
      "158 1152.33583903\n",
      "159 1159.39577913\n",
      "160 1166.62319303\n",
      "161 1173.76956296\n",
      "162 1181.03668499\n",
      "163 1188.31931305\n",
      "164 1195.46551895\n",
      "165 1202.55516005\n",
      "166 1209.66500115\n",
      "167 1216.75380015\n",
      "168 1223.86047196\n",
      "169 1231.09659696\n",
      "170 1238.21081901\n",
      "171 1245.3717401\n",
      "172 1252.65626001\n",
      "173 1259.86248302\n",
      "174 1267.12429905\n",
      "175 1274.20010805\n",
      "176 1281.40763116\n",
      "177 1288.51623702\n",
      "178 1295.74000311\n",
      "179 1302.92295909\n",
      "180 1310.03174496\n",
      "181 1317.14186907\n",
      "182 1324.33391309\n",
      "183 1331.59053397\n",
      "184 1338.74066997\n",
      "185 1345.98396897\n",
      "186 1353.27055597\n",
      "187 1360.46802807\n",
      "188 1367.6933291\n",
      "189 1374.80584097\n",
      "190 1382.04534793\n",
      "191 1389.23716998\n",
      "192 1396.55196309\n",
      "193 1403.76514506\n",
      "194 1411.06440711\n",
      "195 1418.26926398\n",
      "196 1425.50149608\n",
      "197 1432.6390121\n",
      "198 1439.89805007\n",
      "199 1447.13350415\n",
      "200 1454.33696914\n",
      "201 1461.66049194\n",
      "202 1468.79222012\n",
      "203 1475.96213698\n",
      "204 1483.18786097\n",
      "205 1490.45776701\n",
      "206 1497.73689198\n",
      "207 1504.97783995\n",
      "208 1512.2734561\n",
      "209 1519.42833495\n",
      "210 1526.69286513\n",
      "211 1533.92599511\n",
      "212 1541.33390307\n",
      "213 1548.61098504\n",
      "214 1555.70079899\n",
      "215 1562.89266515\n",
      "216 1570.081949\n",
      "217 1577.46252513\n",
      "218 1584.60012698\n",
      "219 1591.862113\n",
      "220 1599.03160405\n",
      "221 1606.33214903\n",
      "222 1613.60092998\n",
      "223 1620.64910913\n",
      "224 1627.73320794\n",
      "225 1634.83984709\n",
      "226 1642.07154202\n",
      "227 1649.21502614\n",
      "228 1656.42974997\n",
      "229 1663.62964106\n",
      "230 1670.73701596\n",
      "231 1678.02735496\n",
      "232 1685.29966998\n",
      "233 1692.4183681\n",
      "234 1699.56504416\n",
      "235 1706.77574706\n",
      "236 1713.97588396\n",
      "237 1721.22663999\n",
      "238 1728.41201496\n",
      "239 1735.67343616\n",
      "240 1742.89098811\n",
      "241 1750.08039713\n",
      "242 1757.35217404\n",
      "243 1764.60907102\n",
      "244 1771.91073799\n",
      "245 1779.08112502\n",
      "246 1786.45007801\n",
      "247 1793.77909708\n",
      "248 1801.09626198\n",
      "249 1808.2720511\n",
      "250 1815.45872211\n",
      "251 1822.62631106\n",
      "252 1829.82245898\n",
      "253 1837.05669498\n",
      "254 1844.23029113\n",
      "255 1851.51427913\n",
      "256 1858.67540908\n",
      "257 1865.85479307\n",
      "258 1873.15238404\n",
      "259 1880.36095214\n",
      "260 1887.4989841\n",
      "261 1894.71966195\n",
      "262 1901.91765809\n",
      "263 1908.98930597\n",
      "264 1916.20958805\n",
      "265 1923.4633131\n",
      "266 1930.72128916\n",
      "267 1937.90520597\n",
      "268 1945.09280801\n",
      "269 1952.26202202\n",
      "270 1959.43719196\n",
      "271 1966.66884398\n",
      "272 1973.78897595\n",
      "273 1981.08688593\n",
      "274 1988.28131199\n",
      "275 1995.52614713\n",
      "276 2002.68503404\n",
      "277 2009.88497114\n",
      "278 2017.01561809\n",
      "279 2024.35428214\n",
      "280 2031.56486106\n",
      "281 2038.86298513\n",
      "282 2046.04556108\n",
      "283 2053.21698594\n",
      "284 2060.42658496\n",
      "285 2067.590168\n",
      "286 2074.83811712\n",
      "287 2082.23943305\n",
      "288 2089.46567106\n",
      "289 2096.69188809\n",
      "290 2103.84018993\n",
      "291 2110.94106698\n",
      "292 2118.03733301\n",
      "293 2125.22914815\n",
      "294 2132.33787608\n",
      "295 2139.54698706\n",
      "296 2146.83116198\n",
      "297 2153.96696305\n",
      "298 2161.11819005\n",
      "299 2168.37108397\n",
      "300 2175.55129099\n",
      "301 2182.67838001\n",
      "302 2189.91791511\n",
      "303 2197.238832\n",
      "304 2204.41481495\n",
      "305 2211.51156998\n",
      "306 2218.68287897\n",
      "307 2225.84257793\n",
      "308 2233.11812806\n",
      "309 2240.36869907\n",
      "310 2247.52925014\n",
      "311 2254.58689308\n",
      "312 2261.78831601\n",
      "313 2269.03077197\n",
      "314 2276.19437099\n",
      "315 2283.3064971\n",
      "316 2290.54103899\n",
      "317 2297.75539303\n",
      "318 2304.93329096\n",
      "319 2312.11968303\n",
      "320 2319.26473904\n",
      "321 2326.49242306\n",
      "322 2333.70731711\n",
      "323 2340.93826294\n",
      "324 2348.09199905\n",
      "325 2355.24588895\n",
      "326 2362.46925616\n",
      "327 2369.61955714\n",
      "328 2376.88381815\n",
      "329 2384.06581903\n",
      "330 2391.26410604\n",
      "331 2398.59089994\n",
      "332 2405.83881211\n",
      "333 2413.00830412\n",
      "334 2420.30620909\n",
      "335 2427.52531505\n",
      "336 2434.76315904\n",
      "337 2442.13547516\n",
      "338 2449.45617199\n",
      "339 2456.59530807\n",
      "340 2463.85144901\n",
      "341 2471.00917006\n",
      "342 2478.172719\n",
      "343 2485.39326715\n",
      "344 2492.69671202\n",
      "345 2499.98125315\n",
      "346 2507.22800398\n",
      "347 2514.39769197\n",
      "348 2521.59386396\n",
      "349 2528.73510695\n",
      "350 2535.88293195\n",
      "351 2543.05688214\n",
      "352 2550.25650311\n",
      "353 2557.45005608\n",
      "354 2564.65534115\n",
      "355 2571.85009599\n",
      "356 2579.09822512\n",
      "357 2586.22549105\n",
      "358 2593.61653304\n",
      "359 2600.89339209\n",
      "360 2608.05819416\n",
      "361 2615.36484599\n",
      "362 2622.74086905\n",
      "363 2629.87002015\n",
      "364 2637.11650896\n",
      "365 2644.24956894\n",
      "366 2651.46471906\n",
      "367 2658.64534116\n",
      "368 2665.80359101\n",
      "369 2672.95639014\n",
      "370 2680.18911099\n",
      "371 2687.43617511\n",
      "372 2694.59965396\n",
      "373 2701.89133\n",
      "374 2709.01004601\n",
      "375 2716.22248912\n",
      "376 2723.431247\n",
      "377 2730.64685416\n",
      "378 2737.84450698\n",
      "379 2745.11415815\n",
      "380 2752.30817604\n",
      "381 2759.63256502\n",
      "382 2766.75376797\n",
      "383 2773.99848008\n",
      "384 2781.14194703\n",
      "385 2788.31069112\n",
      "386 2795.37595415\n",
      "387 2802.63075805\n",
      "388 2809.81438208\n",
      "389 2817.00968099\n",
      "390 2824.18885303\n",
      "391 2831.35231996\n",
      "392 2838.50164604\n",
      "393 2845.67613816\n",
      "394 2852.97514606\n",
      "395 2860.12014103\n",
      "396 2867.45082307\n",
      "397 2874.63697696\n",
      "398 2881.830863\n",
      "399 2888.98709798\n",
      "400 2896.18202305\n",
      "401 2903.43219399\n",
      "402 2910.55697107\n",
      "403 2917.71575212\n",
      "404 2924.89533496\n",
      "405 2932.07216001\n",
      "406 2939.336303\n",
      "407 2946.53693008\n",
      "408 2953.73502493\n",
      "409 2960.95969605\n",
      "410 2968.18151402\n",
      "411 2975.33621907\n",
      "412 2982.56896901\n",
      "413 2989.78295112\n",
      "414 2996.84786105\n",
      "415 3003.95139313\n",
      "416 3011.12526512\n",
      "417 3018.42243099\n",
      "418 3025.71242094\n",
      "419 3032.90482402\n",
      "420 3040.02690506\n",
      "421 3047.21328712\n",
      "422 3054.36051416\n",
      "423 3061.64524913\n",
      "424 3068.798002\n",
      "425 3076.02219296\n",
      "426 3083.17344213\n",
      "427 3090.28845501\n",
      "428 3097.46238613\n",
      "429 3104.70988011\n",
      "430 3111.87178612\n",
      "431 3118.976722\n",
      "432 3126.28547215\n",
      "433 3133.37432408\n",
      "434 3140.47949004\n",
      "435 3147.66785598\n",
      "436 3154.88157606\n",
      "437 3162.01371694\n",
      "438 3169.23735094\n",
      "439 3176.55478811\n",
      "440 3183.75223613\n",
      "441 3190.95499516\n",
      "442 3198.19461203\n",
      "443 3205.43847013\n",
      "444 3212.56863999\n",
      "445 3219.8215251\n",
      "446 3227.00552607\n",
      "447 3234.23511505\n",
      "448 3241.630373\n",
      "449 3248.95886016\n",
      "450 3256.23088694\n",
      "451 3263.35948706\n",
      "452 3270.65465403\n",
      "453 3277.89585805\n",
      "454 3285.06359005\n",
      "455 3292.25843596\n",
      "456 3299.45453715\n",
      "457 3306.593153\n",
      "458 3313.86647916\n",
      "459 3321.04824615\n",
      "460 3328.21817207\n",
      "461 3335.40332913\n",
      "462 3342.62302303\n",
      "463 3349.83099008\n",
      "464 3356.91499901\n",
      "465 3364.05599713\n",
      "466 3371.24133611\n",
      "467 3378.2910471\n",
      "468 3385.54163098\n",
      "469 3392.78132606\n",
      "470 3399.90189815\n",
      "471 3407.13101196\n",
      "472 3414.29825115\n",
      "473 3421.58799005\n",
      "474 3428.84529305\n",
      "475 3436.05263901\n",
      "476 3443.15942001\n",
      "477 3450.25247502\n",
      "478 3457.49944997\n",
      "479 3464.67474294\n",
      "480 3471.98588109\n",
      "481 3479.069875\n",
      "482 3486.22290301\n",
      "483 3493.55680609\n",
      "484 3500.68274307\n",
      "485 3507.81754804\n",
      "486 3515.07504511\n",
      "487 3522.28113294\n",
      "488 3529.51171207\n",
      "489 3536.77608609\n",
      "490 3544.61975002\n",
      "491 3552.07169294\n",
      "492 3559.35914302\n",
      "493 3566.463866\n",
      "494 3573.61096716\n",
      "495 3580.85219002\n",
      "496 3588.13046193\n",
      "497 3595.32284307\n",
      "498 3602.44312096\n",
      "499 3609.64966416\n"
     ]
    }
   ],
   "source": [
    "# repeat the resampling method multiple times\n",
    "\n",
    "res_fin = np.ones(shape=(np.repeat(newSideLen, [3]))) * 0.0\n",
    "\n",
    "stt = time.time()\n",
    "for ii in range(500):\n",
    "    tmp = resampRotate(stackedImgs)\n",
    "    res_fin = res_fin + tmp\n",
    "    print ii, time.time() - stt # takes about 8 seconds each"
   ]
  },
  {
   "cell_type": "code",
   "execution_count": 25,
   "metadata": {
    "collapsed": false
   },
   "outputs": [],
   "source": [
    "# save numpy array, so I don't have to keep running the simulation\n",
    "outfile = '/Users/callinswitzer/Desktop/array5.npy'\n",
    "np.save(outfile, res_fin)"
   ]
  },
  {
   "cell_type": "code",
   "execution_count": 64,
   "metadata": {
    "collapsed": false
   },
   "outputs": [
    {
     "data": {
      "text/plain": [
       "<mayavi.modules.glyph.Glyph at 0x138ee8650>"
      ]
     },
     "execution_count": 64,
     "metadata": {},
     "output_type": "execute_result"
    }
   ],
   "source": [
    "# load np array\n",
    "res_fin = np.load('/Users/callinswitzer/Desktop/array5.npy')\n",
    "mlab.close(all = True)\n",
    "mlab.figure(size = (1024,768),\n",
    "            bgcolor = (1,1,1), fgcolor = (0.5, 0.5, 0.5))\n",
    "mlab.contour3d(res_fin, contours= 30)\n",
    "\n",
    "intPoints = np.array([[768, 1694],[1000, 1694],[1231, 1694]]) / 10\n",
    "mlab.points3d([100, 100, 100], intPoints[:,0], 200 - intPoints[:,1], colormap = 'hot', \n",
    "                    scale_mode='none', scale_factor=5, opacity = 1)"
   ]
  },
  {
   "cell_type": "code",
   "execution_count": 12,
   "metadata": {
    "collapsed": false
   },
   "outputs": [
    {
     "data": {
      "text/plain": [
       "<mayavi.modules.axes.Axes at 0x13394a110>"
      ]
     },
     "execution_count": 12,
     "metadata": {},
     "output_type": "execute_result"
    }
   ],
   "source": [
    "mlab.close(all = True)\n",
    "mlab.figure(size = (1024,768),\n",
    "            bgcolor = (1,1,1), fgcolor = (0.5, 0.5, 0.5))\n",
    "\n",
    "density = res_fin / np.max(res_fin)\n",
    "grid = mlab.pipeline.scalar_field(density)\n",
    "min1 = density.min()\n",
    "max1=density.max()\n",
    "mlab.pipeline.volume(grid, vmin=min1, vmax=min1 + .5*(max1-min1))\n",
    "intPoints = (np.array([[768, 1694],[1000, 1694],[1231, 1694]]) / 10) + 0.5\n",
    "mlab.points3d([100, 100, 100], intPoints[:,0], 200 - intPoints[:,1], colormap = 'hot', \n",
    "                    scale_mode='none', scale_factor=5, opacity = 1)\n",
    "\n",
    "mlab.axes(extent = [25, 175, 25, 175, 15, 175])\n",
    "#mlab.show()"
   ]
  },
  {
   "cell_type": "code",
   "execution_count": 78,
   "metadata": {
    "collapsed": false
   },
   "outputs": [
    {
     "data": {
      "text/plain": [
       "<mayavi.modules.axes.Axes at 0x146389bf0>"
      ]
     },
     "execution_count": 78,
     "metadata": {},
     "output_type": "execute_result"
    }
   ],
   "source": [
    "mlab.figure(size = (1024,768),\n",
    "            bgcolor = (1,1,1), fgcolor = (0.5, 0.5, 0.5))\n",
    "\n",
    "density = res_fin / np.max(res_fin)\n",
    "grid = mlab.pipeline.scalar_field(density)\n",
    "min1 = density.min()\n",
    "max1=density.max()\n",
    "mlab.pipeline.volume(grid, vmin=min1, vmax=min1 + .5*(max1-min1))\n",
    "intPoints = (np.array([[768, 1694],[1000, 1694],[1231, 1694]]) / 10) + 0.5\n",
    "mlab.points3d([100, 100, 100], intPoints[:,0], 200 - intPoints[:,1], colormap = 'cool', \n",
    "                    scale_mode='none', scale_factor=5, opacity = 1)\n",
    "\n",
    "mlab.axes(extent = [25, 175, 25, 175, 15, 175])\n",
    "#mlab.show()"
   ]
  },
  {
   "cell_type": "code",
   "execution_count": null,
   "metadata": {
    "collapsed": false
   },
   "outputs": [],
   "source": [
    "# visualize with points\n",
    "# visualize with MayaVi points in 3d\n",
    "x,y,z = res_fin.nonzero()\n",
    "\n",
    "# Plot scatter with mayavi\n",
    "figure = mlab.figure('DensityPlot')\n",
    "pts = mlab.points3d(x, y, z, res_fin[x,y,z], colormap = 'hot', \n",
    "                    scale_mode='none', scale_factor=1.5, opacity = 0.02)\n",
    "mlab.axes()\n",
    "mlab.show()"
   ]
  },
  {
   "cell_type": "code",
   "execution_count": 103,
   "metadata": {
    "collapsed": false
   },
   "outputs": [
    {
     "data": {
      "text/plain": [
       "<mayavi.modules.glyph.Glyph at 0x12a54edd0>"
      ]
     },
     "execution_count": 103,
     "metadata": {},
     "output_type": "execute_result"
    }
   ],
   "source": [
    "# this way is great!\n",
    "\n",
    "mlab.close(all = True)\n",
    "density = res_fin / np.max(res_fin)\n",
    "\n",
    "fig = mlab.figure(size = (1024,768),\n",
    "            bgcolor = (1,1,1), fgcolor = (0.5, 0.5, 0.5))\n",
    "mlab.contour3d(density, contours= 50, opacity = 0.1, colormap = 'hot')\n",
    "#mlab.axes(extent = [25, 175, 25, 175, 15, 175], y_axis_visibility = False)\n",
    "mlab.orientation_axes()\n",
    "mlab.points3d([101, 101, 101], intPoints[:,0] + 1, 200 - intPoints[:,1], colormap = 'hot', \n",
    "                    scale_mode='none', scale_factor=2, opacity = 1)"
   ]
  },
  {
   "cell_type": "code",
   "execution_count": 101,
   "metadata": {
    "collapsed": false
   },
   "outputs": [
    {
     "data": {
      "text/plain": [
       "<mayavi.modules.glyph.Glyph at 0x12b1b0410>"
      ]
     },
     "execution_count": 101,
     "metadata": {},
     "output_type": "execute_result"
    }
   ],
   "source": [
    "# this way is great!\n",
    "\n",
    "mlab.close(all = True)\n",
    "density = res_fin / np.max(res_fin)\n",
    "\n",
    "fig = mlab.figure(size = (1024,768),\n",
    "            bgcolor = (1,1,1), fgcolor = (0.5, 0.5, 0.5))\n",
    "mlab.contour3d(density, contours= 50, opacity = 0.2, colormap = \"jet\")\n",
    "#mlab.axes(extent = [25, 175, 25, 175, 15, 175], y_axis_visibility = False)\n",
    "mlab.orientation_axes()\n",
    "mlab.points3d([101, 101, 101], intPoints[:,0] + 1, 200 - intPoints[:,1], colormap = 'hot', \n",
    "                    scale_mode='none', scale_factor=2, opacity = 1)"
   ]
  },
  {
   "cell_type": "code",
   "execution_count": null,
   "metadata": {
    "collapsed": true
   },
   "outputs": [],
   "source": []
  }
 ],
 "metadata": {
  "anaconda-cloud": {},
  "kernelspec": {
   "display_name": "Python [conda env:vis_env]",
   "language": "python",
   "name": "conda-env-vis_env-py"
  },
  "language_info": {
   "codemirror_mode": {
    "name": "ipython",
    "version": 2
   },
   "file_extension": ".py",
   "mimetype": "text/x-python",
   "name": "python",
   "nbconvert_exporter": "python",
   "pygments_lexer": "ipython2",
   "version": "2.7.12"
  }
 },
 "nbformat": 4,
 "nbformat_minor": 1
}
